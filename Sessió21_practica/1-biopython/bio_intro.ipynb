{
 "cells": [
  {
   "cell_type": "code",
   "execution_count": 50,
   "metadata": {},
   "outputs": [
    {
     "data": {
      "text/plain": [
       "Seq('D')"
      ]
     },
     "execution_count": 50,
     "metadata": {},
     "output_type": "execute_result"
    }
   ],
   "source": [
    "from Bio.Seq import Seq\n",
    "\n",
    "my_seq = Seq(\"GAT\")\n",
    "my_seq.complement()\n",
    "my_seq.translate()"
   ]
  },
  {
   "cell_type": "code",
   "execution_count": 51,
   "metadata": {},
   "outputs": [
    {
     "data": {
      "text/plain": [
       "[(0, 'A'), (1, 'T'), (2, 'A'), (3, 'G')]"
      ]
     },
     "execution_count": 51,
     "metadata": {},
     "output_type": "execute_result"
    }
   ],
   "source": [
    "# Chapter 3: Seqs\n",
    "\n",
    "# DNA and RNA codon tables\n",
    "# https://en.wikipedia.org/wiki/DNA_and_RNA_codon_tables\n",
    "\n",
    "# Example\n",
    "my_seq = Seq(\"AGTACACTGGT\")\n",
    "\n",
    "# Reverse\n",
    "reversed(\"GATA\")\n",
    "my_seq[::-1]  # Equivalent to reversed()\n",
    "\n",
    "# Enumerate. Coordinates start at 0!\n",
    "list(enumerate(reversed(\"GATA\")))\n",
    "\n",
    "# In Python strings and Seqs are immutable!\n",
    "# \"GATAGATA\"[0] = \"A\"\n",
    "\n"
   ]
  },
  {
   "cell_type": "code",
   "execution_count": 52,
   "metadata": {},
   "outputs": [],
   "source": [
    "# Chapter 5: Input/Output\n",
    "\n",
    "from Bio import SeqIO\n",
    "from Bio.SeqRecord import SeqRecord\n",
    "from Bio.SeqIO.FastaIO import FastaIterator\n",
    "from Bio.SeqFeature import SeqFeature, FeatureLocation\n",
    "\n",
    "# Los dos métodos básicos para leer ficheros son .read() y .parse()\n",
    "# SeqIO.read()  => Leer ficheros con UNA sola secuencia o ficha.\n",
    "# SeqIO.parse() => Leer ficheros con varias secuencias o fichas. (multifasta, etc.)\n",
    "# Ambos métodos devuelven un SeqRecord.\n",
    "# En el caso de leer fastas, la ficha no tiene casi ninguna anotación.\n"
   ]
  },
  {
   "cell_type": "code",
   "execution_count": 53,
   "metadata": {},
   "outputs": [
    {
     "data": {
      "text/plain": [
       "'NC_045512.2'"
      ]
     },
     "execution_count": 53,
     "metadata": {},
     "output_type": "execute_result"
    }
   ],
   "source": [
    "# Chapter 5: Input/Output de ficheros FASTA\n",
    "\n",
    "# Ejemplo de fichero con sólo una secuencia\n",
    "record: SeqRecord = SeqIO.read(\"coronavirus2.fasta\", \"fasta\")\n",
    "record.seq           # Bio.Seq.Seq\n",
    "record.id            # str\n",
    "record.name          # str\n",
    "record.description   # str\n",
    "record.dbxrefs       # list[str]\n",
    "\n",
    "\n",
    "# Ejemplo multifasta\n",
    "# ls_orchid.fasta está en el Chapter 5.1.1 Reading Sequence Files\n",
    "# SeqIO.read(\"ls_orchid.fasta\", \"fasta\")  # => ERROR: Leer un multifasta con .read()\n",
    "\n",
    "# Mutlifasta: Leer todo el multifasta en RAM\n",
    "record_list: list[SeqRecord] = list(SeqIO.parse(\"ls_orchid.fasta\", \"fasta\"))\n",
    "len(record_list)\n",
    "record_list[0].seq\n",
    "\n",
    "# Mutlifasta: Sólo leer cada fasta de uno en uno\n",
    "iterator: FastaIterator = SeqIO.parse(\"ls_orchid.fasta\", \"fasta\")\n",
    "\n",
    "# for record in iterator:\n",
    "#     print(record.id, end=', ')\n",
    "\n",
    "# WARNING: Cuidado con los iteradores sólo se pueden recorrer UNA única vez.\n",
    "\n",
    "# Cómo leer una sola secuencia con .parse()\n",
    "iterator: FastaIterator = SeqIO.parse(\"coronavirus2.fasta\", \"fasta\")\n",
    "\n",
    "record: SeqRecord = next(iterator)\n",
    "record.id\n",
    "\n",
    "# Formas equivalentes de leer una sola secuencia\n",
    "# - SeqIO.read(\"coronavirus2.fasta\", \"fasta\"))\n",
    "# - next(SeqIO.parse(\"coronavirus2.fasta\", \"fasta\"))\n",
    "\n"
   ]
  },
  {
   "cell_type": "code",
   "execution_count": 82,
   "metadata": {},
   "outputs": [
    {
     "data": {
      "text/plain": [
       "[FeatureLocation(ExactPosition(0), ExactPosition(29903), strand=1)]"
      ]
     },
     "execution_count": 82,
     "metadata": {},
     "output_type": "execute_result"
    }
   ],
   "source": [
    "# Chapter 5: Input/Output de ficheros GENBANK\n",
    "\n",
    "record: SeqRecord = SeqIO.read(\"coronavirus2.gb\", \"genbank\")\n",
    "\n",
    "dir(record)\n",
    "# Éstos son los campos que tiene el SeqRecord\n",
    "record.seq                # Bio.Seq.Seq\n",
    "record.id                 # str\n",
    "record.name               # str\n",
    "record.description        # str\n",
    "record.dbxrefs            # list[str]\n",
    "record.annotations        # dict -> Contexto de la secuencia\n",
    "record.letter_annotations # dict\n",
    "record.features           # list[SeqFeature]\n",
    "\n",
    "# Un SeqFeature es una anotación dentro de la sección FEATURES.\n",
    "# Vamos a ver los campos de un SeqFeature\n",
    "\n",
    "source_feature: SeqFeature = record.features[0]\n",
    "\n",
    "dir(source_feature)\n",
    "source_feature.type       # str\n",
    "source_feature.id         # str\n",
    "source_feature.location   # FeatureLocation\n",
    "source_feature.strand     # int (hebra directa o indirecta)\n",
    "source_feature.ref        # str\n",
    "source_feature.ref_db     # str\n",
    "source_feature.qualifiers # dict[str, list[str]] => dict(source_feature.qualifiers)\n",
    "\n",
    "# Locations\n",
    "source_location: FeatureLocation = source_feature.location\n",
    "\n",
    "dir(source_location)\n",
    "source_location.strand         # int. 1 = Hebra directa. -1 = Hebra indirecta\n",
    "source_location.start          # Position\n",
    "source_location.end            # Position\n",
    "source_location.nofuzzy_start  # Position (int)\n",
    "source_location.nofuzzy_end    # Position (int)\n",
    "source_location.parts          # Para joins\n",
    "source_location.ref            # str\n",
    "source_location.ref_db         # str\n",
    "\n",
    "# Las posiciones están explicadas en 4.3.2.3 Fuzzy Positions\n",
    "# - ExactPosition\n",
    "# - BeforePosition\n",
    "# - AfterPosition\n",
    "# - WithinPosition\n",
    "# - OneOfPosition\n",
    "# - UnknownPosition\n",
    "\n"
   ]
  },
  {
   "cell_type": "code",
   "execution_count": null,
   "metadata": {},
   "outputs": [],
   "source": [
    "# Para escribir .fasta o .gb, se usa SeqIO\n",
    "# Ejemplo:\n",
    "# Bio.SeqIO.write()\n"
   ]
  }
 ],
 "metadata": {
  "interpreter": {
   "hash": "bc643f84d3d5c4e658b97d5c192bec8ce3a23956675c9ed565d10fd3128aa104"
  },
  "kernelspec": {
   "display_name": "Python 3.9.7 ('bio')",
   "language": "python",
   "name": "python3"
  },
  "language_info": {
   "codemirror_mode": {
    "name": "ipython",
    "version": 3
   },
   "file_extension": ".py",
   "mimetype": "text/x-python",
   "name": "python",
   "nbconvert_exporter": "python",
   "pygments_lexer": "ipython3",
   "version": "3.9.7"
  },
  "orig_nbformat": 4
 },
 "nbformat": 4,
 "nbformat_minor": 2
}
