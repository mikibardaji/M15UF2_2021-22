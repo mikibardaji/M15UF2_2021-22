{
 "cells": [
  {
   "cell_type": "code",
   "execution_count": 18,
   "metadata": {},
   "outputs": [],
   "source": [
    "from unittest import result\n",
    "from Bio import Entrez\n",
    "from pathlib import Path\n",
    "import pprint \n",
    "\n",
    "\n",
    "\n",
    "# Entrez Config\n",
    "Entrez.email = \"mabardajiprofe@gmail.com\"\n",
    "\n"
   ]
  },
  {
   "cell_type": "code",
   "execution_count": 19,
   "metadata": {},
   "outputs": [
    {
     "name": "stdout",
     "output_type": "stream",
     "text": [
      "<class 'http.client.HTTPResponse'>\n",
      "<class 'bytes'>\n",
      "b'<?xml version=\"1.0\" encoding=\"UTF-8\" ?>\\n<!DOCTYPE eInfoResult PUBLIC \"-//NLM//DTD einfo 20190110//EN\" \"https://eutils.ncbi.nlm.nih.gov/eutils/dtd/20190110/einfo.dtd\">\\n<eInfoResult>\\n<DbList>\\n\\n\\t<DbName>pubmed</DbName>\\n\\t<DbName>protein</DbName>\\n\\t<DbName>nuccore</DbName>\\n\\t<DbName>ipg</DbName>\\n\\t<DbName>nucleotide</DbName>\\n\\t<DbName>structure</DbName>\\n\\t<DbName>genome</DbName>\\n\\t<DbName>annotinfo</DbName>\\n\\t<DbName>assembly</DbName>\\n\\t<DbName>bioproject</DbName>\\n\\t<DbName>biosample</DbName>\\n\\t<DbName>blastdbinfo</DbName>\\n\\t<DbName>books</DbName>\\n\\t<DbName>cdd</DbName>\\n\\t<DbName>clinvar</DbName>\\n\\t<DbName>gap</DbName>\\n\\t<DbName>gapplus</DbName>\\n\\t<DbName>grasp</DbName>\\n\\t<DbName>dbvar</DbName>\\n\\t<DbName>gene</DbName>\\n\\t<DbName>gds</DbName>\\n\\t<DbName>geoprofiles</DbName>\\n\\t<DbName>homologene</DbName>\\n\\t<DbName>medgen</DbName>\\n\\t<DbName>mesh</DbName>\\n\\t<DbName>ncbisearch</DbName>\\n\\t<DbName>nlmcatalog</DbName>\\n\\t<DbName>omim</DbName>\\n\\t<DbName>orgtrack</DbName>\\n\\t<DbName>pmc</DbName>\\n\\t<DbName>popset</DbName>\\n\\t<DbName>proteinclusters</DbName>\\n\\t<DbName>pcassay</DbName>\\n\\t<DbName>protfam</DbName>\\n\\t<DbName>biosystems</DbName>\\n\\t<DbName>pccompound</DbName>\\n\\t<DbName>pcsubstance</DbName>\\n\\t<DbName>seqannot</DbName>\\n\\t<DbName>snp</DbName>\\n\\t<DbName>sra</DbName>\\n\\t<DbName>taxonomy</DbName>\\n\\t<DbName>biocollections</DbName>\\n\\t<DbName>gtr</DbName>\\n</DbList>\\n\\n</eInfoResult>\\n'\n"
     ]
    }
   ],
   "source": [
    "handle = Entrez.einfo();\n",
    "#example 1\n",
    "print(type(handle)) # es un <class 'http.client.HTTPResponse'>\n",
    "result = handle.read()\n",
    "print(type(result)) # <<class 'bytes'>\n",
    "print(result)"
   ]
  },
  {
   "cell_type": "code",
   "execution_count": 20,
   "metadata": {},
   "outputs": [
    {
     "name": "stdout",
     "output_type": "stream",
     "text": [
      "<class 'Bio.Entrez.Parser.DictionaryElement'>\n",
      "{'DbList': ['pubmed', 'protein', 'nuccore', 'ipg', 'nucleotide', 'structure', 'genome', 'annotinfo', 'assembly', 'bioproject', 'biosample', 'blastdbinfo', 'books', 'cdd', 'clinvar', 'gap', 'gapplus', 'grasp', 'dbvar', 'gene', 'gds', 'geoprofiles', 'homologene', 'medgen', 'mesh', 'ncbisearch', 'nlmcatalog', 'omim', 'orgtrack', 'pmc', 'popset', 'proteinclusters', 'pcassay', 'protfam', 'biosystems', 'pccompound', 'pcsubstance', 'seqannot', 'snp', 'sra', 'taxonomy', 'biocollections', 'gtr']}\n"
     ]
    }
   ],
   "source": [
    "#Example 2 Parse XML\n",
    "handle = Entrez.einfo()\n",
    "record = Entrez.read(handle)\n",
    "\n",
    "print(type(record)) #Similar a dict\n",
    "print(dict(record))"
   ]
  },
  {
   "cell_type": "code",
   "execution_count": 21,
   "metadata": {},
   "outputs": [
    {
     "name": "stdout",
     "output_type": "stream",
     "text": [
      "<class 'Bio.Entrez.Parser.DictionaryElement'>\n",
      "{'DbList': ['pubmed', 'protein', 'nuccore', 'ipg', 'nucleotide', 'structure', 'genome', 'annotinfo', 'assembly', 'bioproject', 'biosample', 'blastdbinfo', 'books', 'cdd', 'clinvar', 'gap', 'gapplus', 'grasp', 'dbvar', 'gene', 'gds', 'geoprofiles', 'homologene', 'medgen', 'mesh', 'ncbisearch', 'nlmcatalog', 'omim', 'orgtrack', 'pmc', 'popset', 'proteinclusters', 'pcassay', 'protfam', 'biosystems', 'pccompound', 'pcsubstance', 'seqannot', 'snp', 'sra', 'taxonomy', 'biocollections', 'gtr']}\n"
     ]
    }
   ],
   "source": [
    "handle = Entrez.einfo()\n",
    "result_bytes:   bytes   = handle.read()\n",
    "result_str:     str     = result_bytes.decode('utf-8')\n",
    "Path('result.xml').write_text(result_str)\n",
    "handle.close()\n",
    "\n",
    "with open('result.xml','rb') as xml_file:\n",
    "    record = Entrez.read(xml_file) #handle punter a un fitxe\n",
    "#Realitza el close, automaticament\n",
    "print(type(record)) #Similar a dict\n",
    "print(record)"
   ]
  },
  {
   "cell_type": "code",
   "execution_count": 22,
   "metadata": {},
   "outputs": [
    {
     "name": "stdout",
     "output_type": "stream",
     "text": [
      "dict_keys(['DbList'])\n",
      "dict_values([['pubmed', 'protein', 'nuccore', 'ipg', 'nucleotide', 'structure', 'genome', 'annotinfo', 'assembly', 'bioproject', 'biosample', 'blastdbinfo', 'books', 'cdd', 'clinvar', 'gap', 'gapplus', 'grasp', 'dbvar', 'gene', 'gds', 'geoprofiles', 'homologene', 'medgen', 'mesh', 'ncbisearch', 'nlmcatalog', 'omim', 'orgtrack', 'pmc', 'popset', 'proteinclusters', 'pcassay', 'protfam', 'biosystems', 'pccompound', 'pcsubstance', 'seqannot', 'snp', 'sra', 'taxonomy', 'biocollections', 'gtr']])\n"
     ]
    }
   ],
   "source": [
    "print(record.keys())\n",
    "print(record.values())"
   ]
  },
  {
   "cell_type": "code",
   "execution_count": 37,
   "metadata": {},
   "outputs": [
    {
     "name": "stdout",
     "output_type": "stream",
     "text": [
      "{\n",
      "    \"Description\": \"Author Identifier\",\n",
      "    \"FullName\": \"Author - Identifier\",\n",
      "    \"Hierarchy\": \"N\",\n",
      "    \"IsDate\": \"N\",\n",
      "    \"IsHidden\": \"N\",\n",
      "    \"IsNumerical\": \"N\",\n",
      "    \"Name\": \"AUID\",\n",
      "    \"SingleToken\": \"Y\",\n",
      "    \"TermCount\": \"9705816\"\n",
      "}\n"
     ]
    }
   ],
   "source": [
    "#json.dumps(record['DbInfo']['FieldList'],sort_keys=True,indent=4)\n",
    "author_field = [field \n",
    "                for field in record['DbInfo']['FieldList']\n",
    "                if field[\"Description\"] == \"Author Identifier\"]\n",
    "print(json.dumps(author_field[0],sort_keys=True,indent=4))\n"
   ]
  },
  {
   "cell_type": "code",
   "execution_count": 38,
   "metadata": {},
   "outputs": [
    {
     "ename": "TypeError",
     "evalue": "unhashable type: 'DictionaryElement'",
     "output_type": "error",
     "traceback": [
      "\u001b[0;31m---------------------------------------------------------------------------\u001b[0m",
      "\u001b[0;31mTypeError\u001b[0m                                 Traceback (most recent call last)",
      "\u001b[0;32m/tmp/ipykernel_14222/3251617130.py\u001b[0m in \u001b[0;36m<module>\u001b[0;34m\u001b[0m\n\u001b[0;32m----> 1\u001b[0;31m \u001b[0mprint\u001b[0m\u001b[0;34m(\u001b[0m\u001b[0mlen\u001b[0m\u001b[0;34m(\u001b[0m\u001b[0mrecord\u001b[0m\u001b[0;34m[\u001b[0m\u001b[0;34m'DbInfo'\u001b[0m\u001b[0;34m]\u001b[0m\u001b[0;34m[\u001b[0m\u001b[0mrecord\u001b[0m\u001b[0;34m]\u001b[0m\u001b[0;34m)\u001b[0m\u001b[0;34m)\u001b[0m\u001b[0;34m\u001b[0m\u001b[0;34m\u001b[0m\u001b[0m\n\u001b[0m",
      "\u001b[0;31mTypeError\u001b[0m: unhashable type: 'DictionaryElement'"
     ]
    }
   ],
   "source": [
    "print(len(record['DbInfo'][record]))"
   ]
  },
  {
   "cell_type": "code",
   "execution_count": 40,
   "metadata": {},
   "outputs": [],
   "source": [
    "with open('pubmed.xml','rb') as xml_file:\n",
    "    record = Entrez.read(xml_file)\n",
    "\n",
    "field_list = [ {'name': field['Name'],\n",
    "                'full_name': field['FullName'],\n",
    "                'description': field['Description']\n",
    "                }\n",
    "                for field in record['DbInfo']['FieldList']]\n",
    "\n",
    "sorted_field_list: list[dict] = sorted(field_list, key=lambda field: field['name'])\n"
   ]
  }
 ],
 "metadata": {
  "interpreter": {
   "hash": "5c5dcde58a17db171b4bbf149dc04425ccfb83093603899d7cb861876cb6e784"
  },
  "kernelspec": {
   "display_name": "Python 3.9.7 ('py39')",
   "language": "python",
   "name": "python3"
  },
  "language_info": {
   "codemirror_mode": {
    "name": "ipython",
    "version": 3
   },
   "file_extension": ".py",
   "mimetype": "text/x-python",
   "name": "python",
   "nbconvert_exporter": "python",
   "pygments_lexer": "ipython3",
   "version": "3.9.7"
  },
  "orig_nbformat": 4
 },
 "nbformat": 4,
 "nbformat_minor": 2
}
