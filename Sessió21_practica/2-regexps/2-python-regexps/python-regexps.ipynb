{
 "cells": [
  {
   "cell_type": "markdown",
   "metadata": {},
   "source": [
    "# Regexps\n",
    "\n",
    "Urls:\n",
    "- [Tutorial](https://regexone.com/)\n",
    "- [Debugger](https://regex101.com/)\n",
    "- [Reference](https://www.regular-expressions.info/)\n",
    "- [Exercises](https://regex.sketchengine.co.uk/)\n"
   ]
  },
  {
   "cell_type": "code",
   "execution_count": 1,
   "metadata": {},
   "outputs": [
    {
     "data": {
      "text/plain": [
       "'Hola a todos.'"
      ]
     },
     "execution_count": 1,
     "metadata": {},
     "output_type": "execute_result"
    }
   ],
   "source": [
    "# Basic code for working with Python regexps\n",
    "\n",
    "import re\n",
    "\n",
    "txt: str        = \"Hola a todosssss.\"\n",
    "reg: str        = r\"s{2,}\"\n",
    "pat: re.Pattern = re.compile(reg)\n",
    "\n",
    "# 1. Buscar el patrón\n",
    "match_list: list[re.Match] = list(pat.finditer(txt))\n",
    "\n",
    "assert len(match_list) == 1\n",
    "match: re.Match = match_list[0]\n",
    "\n",
    "match.start()\n",
    "match.end()\n",
    "match.span()    # (start, end)\n",
    "match.group(0)  # El grupo 0 es toda la coincidencia. Siempre existe aunque no haya creado grupos.\n",
    "\n",
    "# 2. Substituciones\n",
    "new_txt: str = pat.sub(\"s\", txt)\n",
    "new_txt\n"
   ]
  },
  {
   "cell_type": "code",
   "execution_count": 2,
   "metadata": {},
   "outputs": [
    {
     "name": "stdout",
     "output_type": "stream",
     "text": [
      "Number of matches: 3\n",
      "Match 0: (0, 4) GATA\n",
      "Match 1: (4, 8) GATA\n",
      "Match 2: (8, 12) GATA\n"
     ]
    }
   ],
   "source": [
    "# Example of pretty-printing multiple matches. Also multiple compilation options.\n",
    "\n",
    "import re\n",
    "\n",
    "txt: str        = \"GATAGATAGATA\"\n",
    "reg: str        = r\"GATA\"\n",
    "pat: re.Pattern = re.compile(reg)\n",
    "pat: re.Pattern = re.compile(reg, re.IGNORECASE | re.MULTILINE | re.DOTALL)\n",
    "\n",
    "# 1. Buscar patrón con grupos\n",
    "match_list: list[re.Match] = list(pat.finditer(txt))\n",
    "print(f\"Number of matches: {len(match_list)}\")\n",
    "\n",
    "match: re.Match\n",
    "for id, match in enumerate(match_list):\n",
    "    print(f\"Match {id}:\", match.span(), match.group(0))\n"
   ]
  },
  {
   "cell_type": "code",
   "execution_count": 3,
   "metadata": {},
   "outputs": [
    {
     "name": "stdout",
     "output_type": "stream",
     "text": [
      "Number of matches: 3\n",
      "\n",
      "Match 0: GATA\n",
      "Groups: GA, TA\n",
      "\n",
      "Match 1: GATC\n",
      "Groups: GA, TC\n",
      "\n",
      "Match 2: GATT\n",
      "Groups: GA, TT\n",
      "\n"
     ]
    }
   ],
   "source": [
    "# Example with multiple matches, each with multiple groups\n",
    "\n",
    "import re\n",
    "\n",
    "txt: str        = \"GATAGATCGATT\"\n",
    "reg: str        = r\"(G.)(T.)\"\n",
    "pat: re.Pattern = re.compile(reg)\n",
    "\n",
    "# 1. Buscar patrón con grupos\n",
    "match_list: list[re.Match] = list(pat.finditer(txt))\n",
    "print(f\"Number of matches: {len(match_list)}\\n\")\n",
    "\n",
    "match: re.Match\n",
    "for id, match in enumerate(match_list):\n",
    "    print(f\"Match {id}: {match.group(0)}\")\n",
    "    print(f\"Groups: {match.group(1)}, {match.group(2)}\")   # len(match.groups())\n",
    "    print()"
   ]
  }
 ],
 "metadata": {
  "interpreter": {
   "hash": "bc643f84d3d5c4e658b97d5c192bec8ce3a23956675c9ed565d10fd3128aa104"
  },
  "kernelspec": {
   "display_name": "Python 3.9.7 ('bio')",
   "language": "python",
   "name": "python3"
  },
  "language_info": {
   "codemirror_mode": {
    "name": "ipython",
    "version": 3
   },
   "file_extension": ".py",
   "mimetype": "text/x-python",
   "name": "python",
   "nbconvert_exporter": "python",
   "pygments_lexer": "ipython3",
   "version": "3.9.7"
  },
  "orig_nbformat": 4
 },
 "nbformat": 4,
 "nbformat_minor": 2
}
