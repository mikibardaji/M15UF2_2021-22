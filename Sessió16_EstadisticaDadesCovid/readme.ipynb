{
 "cells": [
  {
   "cell_type": "code",
   "execution_count": 22,
   "metadata": {},
   "outputs": [],
   "source": [
    "import numpy as np\n",
    "import pandas as pd"
   ]
  },
  {
   "cell_type": "markdown",
   "metadata": {},
   "source": [
    "# Tamany de la mostra\n",
    "\n",
    "Si llenço un dau 10 cops només, no tinc suficient informació per saber si el dau està trucat.\n",
    "\n",
    "Però si el llenço 10.000 cops, i cada cara no surt aproximadament el mateix número de cops, llavors sí que puc dubtar del dau.\n",
    "\n",
    "Conclusió: El tamany de la mostra IMPORTA."
   ]
  },
  {
   "cell_type": "code",
   "execution_count": 23,
   "metadata": {},
   "outputs": [
    {
     "name": "stdout",
     "output_type": "stream",
     "text": [
      "[ 7  3  8  4  3  8  7  7 10  4  9  4  6  6  3  2  3  7  7 10  8  3 10 10\n",
      "  8  7  2  1  3  5  1  9  5  7  3  4  2  8  8  3  8  1  4  2  8  4  5  5\n",
      "  5  3  6  9  5  2  1  2  1  1  2  6  9  9  7  7  4 10  7  8  8  9  8 10\n",
      "  6  6  3 10  6  5  4  3  7  5  6  7  9  4  7 10  5  3  3  4  7  3  9  4\n",
      "  1  1  1  7]\n",
      "<class 'numpy.ndarray'>\n",
      "<class 'numpy.int64'>\n"
     ]
    }
   ],
   "source": [
    "# https://numpy.org/doc/stable/reference/random/index.html\n",
    "# Valores Pseudo-aleatorios: Valores determistas cuyas propiedades\n",
    "# se parecen a valores realmente aleatorios.\n",
    "\n",
    "# RNG = Random Number Generator\n",
    "rng = np.random.default_rng(12345)\n",
    "rints = rng.integers(low=1, high=10, endpoint=True, size=100)\n",
    "print(rints)\n",
    "print(type(rints))\n",
    "print(type(rints[0]))\n"
   ]
  },
  {
   "cell_type": "markdown",
   "metadata": {},
   "source": [
    "# Estadística descriptiva\n",
    "\n",
    "(Dades Covid19: https://dadescovid.cat/)"
   ]
  },
  {
   "cell_type": "code",
   "execution_count": 24,
   "metadata": {},
   "outputs": [
    {
     "data": {
      "text/html": [
       "<div>\n",
       "<style scoped>\n",
       "    .dataframe tbody tr th:only-of-type {\n",
       "        vertical-align: middle;\n",
       "    }\n",
       "\n",
       "    .dataframe tbody tr th {\n",
       "        vertical-align: top;\n",
       "    }\n",
       "\n",
       "    .dataframe thead th {\n",
       "        text-align: right;\n",
       "    }\n",
       "</style>\n",
       "<table border=\"1\" class=\"dataframe\">\n",
       "  <thead>\n",
       "    <tr style=\"text-align: right;\">\n",
       "      <th></th>\n",
       "      <th>INGRESSOS_TOTAL</th>\n",
       "      <th>INGRESSOS_CRITIC</th>\n",
       "      <th>INGRESSATS_TOTAL</th>\n",
       "      <th>INGRESSATS_CRITIC</th>\n",
       "      <th>EXITUS</th>\n",
       "      <th>CASOS_PCR</th>\n",
       "      <th>CASOS_TAR</th>\n",
       "      <th>POSITIVITAT_PCR_NUM</th>\n",
       "      <th>POSITIVITAT_TAR_NUM</th>\n",
       "      <th>POSITIVITAT_PCR_DEN</th>\n",
       "      <th>POSITIVITAT_TAR_DEN</th>\n",
       "    </tr>\n",
       "  </thead>\n",
       "  <tbody>\n",
       "    <tr>\n",
       "      <th>0</th>\n",
       "      <td>0</td>\n",
       "      <td>0</td>\n",
       "      <td>0</td>\n",
       "      <td>0</td>\n",
       "      <td>0</td>\n",
       "      <td>0</td>\n",
       "      <td>9</td>\n",
       "      <td>0</td>\n",
       "      <td>5</td>\n",
       "      <td>0</td>\n",
       "      <td>7</td>\n",
       "    </tr>\n",
       "    <tr>\n",
       "      <th>1</th>\n",
       "      <td>0</td>\n",
       "      <td>0</td>\n",
       "      <td>0</td>\n",
       "      <td>0</td>\n",
       "      <td>0</td>\n",
       "      <td>0</td>\n",
       "      <td>1</td>\n",
       "      <td>0</td>\n",
       "      <td>0</td>\n",
       "      <td>0</td>\n",
       "      <td>2</td>\n",
       "    </tr>\n",
       "    <tr>\n",
       "      <th>2</th>\n",
       "      <td>0</td>\n",
       "      <td>0</td>\n",
       "      <td>1</td>\n",
       "      <td>0</td>\n",
       "      <td>0</td>\n",
       "      <td>0</td>\n",
       "      <td>3</td>\n",
       "      <td>0</td>\n",
       "      <td>1</td>\n",
       "      <td>0</td>\n",
       "      <td>1</td>\n",
       "    </tr>\n",
       "    <tr>\n",
       "      <th>3</th>\n",
       "      <td>0</td>\n",
       "      <td>0</td>\n",
       "      <td>1</td>\n",
       "      <td>0</td>\n",
       "      <td>0</td>\n",
       "      <td>0</td>\n",
       "      <td>6</td>\n",
       "      <td>0</td>\n",
       "      <td>1</td>\n",
       "      <td>0</td>\n",
       "      <td>2</td>\n",
       "    </tr>\n",
       "    <tr>\n",
       "      <th>4</th>\n",
       "      <td>0</td>\n",
       "      <td>0</td>\n",
       "      <td>0</td>\n",
       "      <td>0</td>\n",
       "      <td>0</td>\n",
       "      <td>0</td>\n",
       "      <td>8</td>\n",
       "      <td>0</td>\n",
       "      <td>3</td>\n",
       "      <td>0</td>\n",
       "      <td>7</td>\n",
       "    </tr>\n",
       "    <tr>\n",
       "      <th>5</th>\n",
       "      <td>0</td>\n",
       "      <td>0</td>\n",
       "      <td>0</td>\n",
       "      <td>0</td>\n",
       "      <td>0</td>\n",
       "      <td>0</td>\n",
       "      <td>8</td>\n",
       "      <td>0</td>\n",
       "      <td>3</td>\n",
       "      <td>0</td>\n",
       "      <td>4</td>\n",
       "    </tr>\n",
       "  </tbody>\n",
       "</table>\n",
       "</div>"
      ],
      "text/plain": [
       "   INGRESSOS_TOTAL  INGRESSOS_CRITIC  INGRESSATS_TOTAL  INGRESSATS_CRITIC  \\\n",
       "0                0                 0                 0                  0   \n",
       "1                0                 0                 0                  0   \n",
       "2                0                 0                 1                  0   \n",
       "3                0                 0                 1                  0   \n",
       "4                0                 0                 0                  0   \n",
       "5                0                 0                 0                  0   \n",
       "\n",
       "   EXITUS  CASOS_PCR  CASOS_TAR  POSITIVITAT_PCR_NUM  POSITIVITAT_TAR_NUM  \\\n",
       "0       0          0          9                    0                    5   \n",
       "1       0          0          1                    0                    0   \n",
       "2       0          0          3                    0                    1   \n",
       "3       0          0          6                    0                    1   \n",
       "4       0          0          8                    0                    3   \n",
       "5       0          0          8                    0                    3   \n",
       "\n",
       "   POSITIVITAT_PCR_DEN  POSITIVITAT_TAR_DEN  \n",
       "0                    0                    7  \n",
       "1                    0                    2  \n",
       "2                    0                    1  \n",
       "3                    0                    2  \n",
       "4                    0                    7  \n",
       "5                    0                    4  "
      ]
     },
     "execution_count": 24,
     "metadata": {},
     "output_type": "execute_result"
    }
   ],
   "source": [
    "# Read data\n",
    "covid_data: pd.DataFrame = pd.read_csv(\"2022-01-17-covid-dades-aga.csv\", sep=';')\n",
    "\n",
    "# Check columns\n",
    "# covid_data.columns\n",
    "# cols = ['INGRESSOS_TOTAL', 'INGRESSOS_CRITIC','INGRESSATS_TOTAL', 'INGRESSATS_CRITIC', 'EXITUS', 'CASOS_PCR', 'CASOS_TAR', 'POSITIVITAT_PCR_NUM', 'POSITIVITAT_TAR_NUM', 'POSITIVITAT_PCR_DEN', 'POSITIVITAT_TAR_DEN']\n",
    "\n",
    "# Examine a subset of data\n",
    "covid_data.loc[0:5, 'INGRESSOS_TOTAL':'POSITIVITAT_TAR_DEN']"
   ]
  },
  {
   "cell_type": "code",
   "execution_count": 25,
   "metadata": {},
   "outputs": [
    {
     "data": {
      "text/plain": [
       "<AxesSubplot:xlabel='DATA'>"
      ]
     },
     "execution_count": 25,
     "metadata": {},
     "output_type": "execute_result"
    },
    {
     "data": {
      "image/png": "[encoded data removed]",
      "text/plain": [
       "<Figure size 432x288 with 1 Axes>"
      ]
     },
     "metadata": {
      "needs_background": "light"
     },
     "output_type": "display_data"
    }
   ],
   "source": [
    "barbera_df: pd.DataFrame = (covid_data.query('NOM == \"ALT CAMP I CONCA DE BARBERÀ\"')\n",
    "                                        .loc[:, ['DATA', 'POSITIVITAT_TAR_NUM']]\n",
    "                                        .groupby('DATA')\n",
    "                                        .sum()\n",
    "                                        .rename(columns={\"POSITIVITAT_TAR_NUM\": \"TAR_POSITIUS\"})\n",
    ")\n",
    "\n",
    "barbera_df.plot()"
   ]
  },
  {
   "cell_type": "code",
   "execution_count": 26,
   "metadata": {},
   "outputs": [
    {
     "data": {
      "text/plain": [
       "DATA\n",
       "2020-03-01      0\n",
       "2020-03-02      0\n",
       "2020-03-03      0\n",
       "2020-03-04      0\n",
       "2020-03-05      0\n",
       "             ... \n",
       "2022-01-12    106\n",
       "2022-01-13     99\n",
       "2022-01-14     91\n",
       "2022-01-15     83\n",
       "2022-01-16     31\n",
       "Name: TAR_POSITIUS, Length: 687, dtype: int64"
      ]
     },
     "execution_count": 26,
     "metadata": {},
     "output_type": "execute_result"
    }
   ],
   "source": [
    "# Extract the data as a column. Needed for the next functions.\n",
    "tar_positius: pd.Series = barbera_df.loc[:, 'TAR_POSITIUS']\n",
    "tar_positius"
   ]
  },
  {
   "cell_type": "code",
   "execution_count": 27,
   "metadata": {},
   "outputs": [
    {
     "data": {
      "text/plain": [
       "7.941775836972344"
      ]
     },
     "execution_count": 27,
     "metadata": {},
     "output_type": "execute_result"
    }
   ],
   "source": [
    "# Mean\n",
    "# Make sure input is a series.\n",
    "# If input is a dataframe, it will return a series, not a float.\n",
    "\n",
    "def get_mean(ser: pd.Series) -> float:\n",
    "    return sum(ser) / len(ser)\n",
    "\n",
    "# tar_positius.mean()\n",
    "get_mean(tar_positius)"
   ]
  },
  {
   "cell_type": "code",
   "execution_count": 28,
   "metadata": {},
   "outputs": [
    {
     "data": {
      "text/plain": [
       "<AxesSubplot:ylabel='Frequency'>"
      ]
     },
     "execution_count": 28,
     "metadata": {},
     "output_type": "execute_result"
    },
    {
     "data": {
      "image/png": "[encoded data removed]",
      "text/plain": [
       "<Figure size 432x288 with 1 Axes>"
      ]
     },
     "metadata": {
      "needs_background": "light"
     },
     "output_type": "display_data"
    }
   ],
   "source": [
    "# Mode\n",
    "# Mode = The value with the highest frequency.\n",
    "# get_mode() returns the mode and its frequency.\n",
    "\n",
    "def get_mode(ser: pd.Series) -> tuple[int, int]:\n",
    "\n",
    "    # Make counter dictionary.\n",
    "    # Keys:   Number of positives per day (without repeats)\n",
    "    # Values: Frequencies of that number (zero initially)\n",
    "    pos_freq_dict: dict[int, int] = dict.fromkeys(sorted(set(ser)), 0)\n",
    "\n",
    "    # Calculate frequencies\n",
    "    for num_pos in ser:\n",
    "        pos_freq_dict[num_pos] += 1\n",
    "\n",
    "    # Sort dictionary by values (frequencies)\n",
    "    pos_freq_tuples:        list[tuple[int, int]] = pos_freq_dict.items()\n",
    "    sorted_pos_freq_tuples: list[tuple[int, int]] = sorted(pos_freq_tuples,\n",
    "                                                           key=lambda item: item[1],\n",
    "                                                           reverse=True)\n",
    "    mode_freq:              tuple[int, int]       = sorted_pos_freq_tuples[0]\n",
    "\n",
    "    return mode_freq\n",
    "\n",
    "\n",
    "# Mode = 0\n",
    "# Frequency = 274\n",
    "# tar_positius.mode()\n",
    "get_mode(tar_positius)\n",
    "\n",
    "# Using Panda's .value_counts()\n",
    "freqs: pd.Series = tar_positius.value_counts()\n",
    "mode:  int       = freqs.index[0]\n",
    "freqs[mode]\n",
    "\n",
    "\n",
    "# Histogram uses frequencies and bins.\n",
    "# You can see it is not a normal distribution (normal bell)\n",
    "tar_positius.plot.hist()\n",
    "\n"
   ]
  },
  {
   "cell_type": "code",
   "execution_count": 29,
   "metadata": {},
   "outputs": [
    {
     "data": {
      "text/plain": [
       "<AxesSubplot:xlabel='DATA'>"
      ]
     },
     "execution_count": 29,
     "metadata": {},
     "output_type": "execute_result"
    },
    {
     "data": {
      "image/png": "[encoded data removed]",
      "text/plain": [
       "<Figure size 432x288 with 1 Axes>"
      ]
     },
     "metadata": {
      "needs_background": "light"
     },
     "output_type": "display_data"
    }
   ],
   "source": [
    "# Median\n",
    "# If the length of ser is even, return the mean of the two central values.\n",
    "# ~ Performs the bitwise negation. It's a Python trick.\n",
    "\n",
    "def get_median(ser: pd.Series) -> float:\n",
    "\n",
    "    sorted_data:  list[int] = sorted(ser)\n",
    "    length:       int       = len(sorted_data)\n",
    "    middle_index: int       = length // 2\n",
    "\n",
    "    middle_value:          int   = sorted_data[middle_index]\n",
    "    middle_value_from_end: int   = sorted_data[~middle_index]\n",
    "    middle_mean:           float = (middle_value + middle_value_from_end) / 2\n",
    "\n",
    "    return middle_mean\n",
    "\n",
    "# tar_positius.sort_values()\n",
    "tar_positius.sort_values().plot()\n",
    "# tar_positius.median()\n",
    "# get_median(tar_positius)"
   ]
  },
  {
   "cell_type": "code",
   "execution_count": 30,
   "metadata": {},
   "outputs": [
    {
     "data": {
      "text/plain": [
       "<AxesSubplot:>"
      ]
     },
     "execution_count": 30,
     "metadata": {},
     "output_type": "execute_result"
    },
    {
     "data": {
      "image/png": "[encoded data removed]",
      "text/plain": [
       "<Figure size 432x288 with 1 Axes>"
      ]
     },
     "metadata": {
      "needs_background": "light"
     },
     "output_type": "display_data"
    }
   ],
   "source": [
    "# Box Plot\n",
    "# Useful for visualizing outliers.\n",
    "# We cannot always remove outliers. Always think about their cause.\n",
    "# https://statisticsbyjim.com/basics/remove-outliers/\n",
    "\n",
    "tar_positius.plot.box()"
   ]
  },
  {
   "cell_type": "code",
   "execution_count": 31,
   "metadata": {},
   "outputs": [
    {
     "data": {
      "text/plain": [
       "[77.05822416302766,\n",
       " 38.05822416302766,\n",
       " 42.05822416302766,\n",
       " 97.05822416302766,\n",
       " 84.05822416302766,\n",
       " 98.05822416302766,\n",
       " 91.05822416302766,\n",
       " 83.05822416302766,\n",
       " 75.05822416302766,\n",
       " 23.058224163027656]"
      ]
     },
     "execution_count": 31,
     "metadata": {},
     "output_type": "execute_result"
    }
   ],
   "source": [
    "# Desviación respecto a la media (v1)\n",
    "\n",
    "mean: float       = tar_positius.mean()\n",
    "devs: list[float] = []\n",
    "\n",
    "for num_pos in tar_positius:\n",
    "    devs.append(abs(num_pos - mean))\n",
    "\n",
    "# Last ten deviations\n",
    "devs[-10:]"
   ]
  },
  {
   "cell_type": "code",
   "execution_count": 32,
   "metadata": {},
   "outputs": [
    {
     "data": {
      "text/plain": [
       "DATA\n",
       "2020-03-01     7.941776\n",
       "2020-03-02     7.941776\n",
       "2020-03-03     7.941776\n",
       "2020-03-04     7.941776\n",
       "2020-03-05     7.941776\n",
       "                ...    \n",
       "2022-01-12    98.058224\n",
       "2022-01-13    91.058224\n",
       "2022-01-14    83.058224\n",
       "2022-01-15    75.058224\n",
       "2022-01-16    23.058224\n",
       "Name: TAR_POSITIUS, Length: 687, dtype: float64"
      ]
     },
     "execution_count": 32,
     "metadata": {},
     "output_type": "execute_result"
    }
   ],
   "source": [
    "# Desviación respecto a la media (v2 programación vectorial)\n",
    "# Programación vectorial (array,list,vectores)\n",
    "mean: float     = tar_positius.mean()\n",
    "devs: pd.Series = (tar_positius - mean).abs()\n",
    "\n",
    "devs\n",
    "# devs.plot()"
   ]
  },
  {
   "cell_type": "markdown",
   "metadata": {},
   "source": [
    "#### Desviación típica"
   ]
  },
  {
   "cell_type": "code",
   "execution_count": 37,
   "metadata": {},
   "outputs": [
    {
     "name": "stdout",
     "output_type": "stream",
     "text": [
      "16.149703759997692\n"
     ]
    }
   ],
   "source": [
    "def typical_desviation(ser: pd.Series) -> float:\n",
    "\n",
    "    suma:       int     =   ser.pow(2).sum()\n",
    "    division:   float   =   suma/(devs.count() -1) #en estadística da mas similitud div por n-1\n",
    "    desviacion: float   =   np.sqrt(division)\n",
    "    return desviacion\n",
    "\n",
    "\n",
    "result: float = typical_desviation(devs)\n",
    "#porque puede variar un poco, por que en tecnica estadistica dof\n",
    "print(result)"
   ]
  },
  {
   "cell_type": "code",
   "execution_count": 36,
   "metadata": {},
   "outputs": [
    {
     "name": "stdout",
     "output_type": "stream",
     "text": [
      "16.13794569235959\n",
      "16.1497037599977\n"
     ]
    }
   ],
   "source": [
    "print(np.std(tar_positius))\n",
    "print(tar_positius.std())"
   ]
  }
 ],
 "metadata": {
  "interpreter": {
   "hash": "bc643f84d3d5c4e658b97d5c192bec8ce3a23956675c9ed565d10fd3128aa104"
  },
  "kernelspec": {
   "display_name": "Python 3.9.7 64-bit ('bio': conda)",
   "language": "python",
   "name": "python3"
  },
  "language_info": {
   "codemirror_mode": {
    "name": "ipython",
    "version": 3
   },
   "file_extension": ".py",
   "mimetype": "text/x-python",
   "name": "python",
   "nbconvert_exporter": "python",
   "pygments_lexer": "ipython3",
   "version": "3.9.7"
  },
  "orig_nbformat": 4
 },
 "nbformat": 4,
 "nbformat_minor": 2
}
