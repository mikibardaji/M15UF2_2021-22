{
 "cells": [
  {
   "cell_type": "code",
   "execution_count": 1,
   "metadata": {},
   "outputs": [],
   "source": [
    "import pandas as pd\n",
    "import numpy as np\n",
    "\n"
   ]
  },
  {
   "cell_type": "code",
   "execution_count": 2,
   "metadata": {},
   "outputs": [
    {
     "data": {
      "text/html": [
       "<div>\n",
       "<style scoped>\n",
       "    .dataframe tbody tr th:only-of-type {\n",
       "        vertical-align: middle;\n",
       "    }\n",
       "\n",
       "    .dataframe tbody tr th {\n",
       "        vertical-align: top;\n",
       "    }\n",
       "\n",
       "    .dataframe thead th {\n",
       "        text-align: right;\n",
       "    }\n",
       "</style>\n",
       "<table border=\"1\" class=\"dataframe\">\n",
       "  <thead>\n",
       "    <tr style=\"text-align: right;\">\n",
       "      <th></th>\n",
       "      <th>NOM</th>\n",
       "      <th>CODI</th>\n",
       "      <th>DATA</th>\n",
       "      <th>SEXE</th>\n",
       "      <th>GRUP_EDAT</th>\n",
       "      <th>RESIDENCIA</th>\n",
       "      <th>CASOS_CONFIRMAT</th>\n",
       "      <th>PCR</th>\n",
       "      <th>TAR</th>\n",
       "      <th>INGRESSOS_TOTAL</th>\n",
       "      <th>...</th>\n",
       "      <th>INGRESSATS_CRITIC</th>\n",
       "      <th>EXITUS</th>\n",
       "      <th>CASOS_PCR</th>\n",
       "      <th>CASOS_TAR</th>\n",
       "      <th>POSITIVITAT_PCR_NUM</th>\n",
       "      <th>POSITIVITAT_TAR_NUM</th>\n",
       "      <th>POSITIVITAT_PCR_DEN</th>\n",
       "      <th>POSITIVITAT_TAR_DEN</th>\n",
       "      <th>VACUNATS_DOSI_1</th>\n",
       "      <th>VACUNATS_DOSI_2</th>\n",
       "    </tr>\n",
       "  </thead>\n",
       "  <tbody>\n",
       "    <tr>\n",
       "      <th>0</th>\n",
       "      <td>ALT CAMP I CONCA DE BARBERÀ</td>\n",
       "      <td>6</td>\n",
       "      <td>2022-01-16</td>\n",
       "      <td>Dona</td>\n",
       "      <td>0 a 9</td>\n",
       "      <td>No</td>\n",
       "      <td>9</td>\n",
       "      <td>0</td>\n",
       "      <td>8</td>\n",
       "      <td>0</td>\n",
       "      <td>...</td>\n",
       "      <td>0</td>\n",
       "      <td>0</td>\n",
       "      <td>0</td>\n",
       "      <td>9</td>\n",
       "      <td>0</td>\n",
       "      <td>5</td>\n",
       "      <td>0</td>\n",
       "      <td>7</td>\n",
       "      <td>0</td>\n",
       "      <td>0</td>\n",
       "    </tr>\n",
       "    <tr>\n",
       "      <th>1</th>\n",
       "      <td>ALT CAMP I CONCA DE BARBERÀ</td>\n",
       "      <td>6</td>\n",
       "      <td>2022-01-16</td>\n",
       "      <td>Dona</td>\n",
       "      <td>10 a 19</td>\n",
       "      <td>No</td>\n",
       "      <td>1</td>\n",
       "      <td>0</td>\n",
       "      <td>3</td>\n",
       "      <td>0</td>\n",
       "      <td>...</td>\n",
       "      <td>0</td>\n",
       "      <td>0</td>\n",
       "      <td>0</td>\n",
       "      <td>1</td>\n",
       "      <td>0</td>\n",
       "      <td>0</td>\n",
       "      <td>0</td>\n",
       "      <td>2</td>\n",
       "      <td>1</td>\n",
       "      <td>0</td>\n",
       "    </tr>\n",
       "    <tr>\n",
       "      <th>2</th>\n",
       "      <td>ALT CAMP I CONCA DE BARBERÀ</td>\n",
       "      <td>6</td>\n",
       "      <td>2022-01-16</td>\n",
       "      <td>Dona</td>\n",
       "      <td>20 a 29</td>\n",
       "      <td>No</td>\n",
       "      <td>3</td>\n",
       "      <td>0</td>\n",
       "      <td>1</td>\n",
       "      <td>0</td>\n",
       "      <td>...</td>\n",
       "      <td>0</td>\n",
       "      <td>0</td>\n",
       "      <td>0</td>\n",
       "      <td>3</td>\n",
       "      <td>0</td>\n",
       "      <td>1</td>\n",
       "      <td>0</td>\n",
       "      <td>1</td>\n",
       "      <td>0</td>\n",
       "      <td>0</td>\n",
       "    </tr>\n",
       "    <tr>\n",
       "      <th>3</th>\n",
       "      <td>ALT CAMP I CONCA DE BARBERÀ</td>\n",
       "      <td>6</td>\n",
       "      <td>2022-01-16</td>\n",
       "      <td>Dona</td>\n",
       "      <td>30 a 39</td>\n",
       "      <td>No</td>\n",
       "      <td>6</td>\n",
       "      <td>0</td>\n",
       "      <td>4</td>\n",
       "      <td>0</td>\n",
       "      <td>...</td>\n",
       "      <td>0</td>\n",
       "      <td>0</td>\n",
       "      <td>0</td>\n",
       "      <td>6</td>\n",
       "      <td>0</td>\n",
       "      <td>1</td>\n",
       "      <td>0</td>\n",
       "      <td>2</td>\n",
       "      <td>1</td>\n",
       "      <td>0</td>\n",
       "    </tr>\n",
       "    <tr>\n",
       "      <th>4</th>\n",
       "      <td>ALT CAMP I CONCA DE BARBERÀ</td>\n",
       "      <td>6</td>\n",
       "      <td>2022-01-16</td>\n",
       "      <td>Dona</td>\n",
       "      <td>40 a 49</td>\n",
       "      <td>No</td>\n",
       "      <td>8</td>\n",
       "      <td>0</td>\n",
       "      <td>9</td>\n",
       "      <td>0</td>\n",
       "      <td>...</td>\n",
       "      <td>0</td>\n",
       "      <td>0</td>\n",
       "      <td>0</td>\n",
       "      <td>8</td>\n",
       "      <td>0</td>\n",
       "      <td>3</td>\n",
       "      <td>0</td>\n",
       "      <td>7</td>\n",
       "      <td>0</td>\n",
       "      <td>0</td>\n",
       "    </tr>\n",
       "  </tbody>\n",
       "</table>\n",
       "<p>5 rows × 22 columns</p>\n",
       "</div>"
      ],
      "text/plain": [
       "                           NOM  CODI        DATA  SEXE GRUP_EDAT RESIDENCIA  \\\n",
       "0  ALT CAMP I CONCA DE BARBERÀ     6  2022-01-16  Dona     0 a 9         No   \n",
       "1  ALT CAMP I CONCA DE BARBERÀ     6  2022-01-16  Dona   10 a 19         No   \n",
       "2  ALT CAMP I CONCA DE BARBERÀ     6  2022-01-16  Dona   20 a 29         No   \n",
       "3  ALT CAMP I CONCA DE BARBERÀ     6  2022-01-16  Dona   30 a 39         No   \n",
       "4  ALT CAMP I CONCA DE BARBERÀ     6  2022-01-16  Dona   40 a 49         No   \n",
       "\n",
       "   CASOS_CONFIRMAT  PCR  TAR  INGRESSOS_TOTAL  ...  INGRESSATS_CRITIC  EXITUS  \\\n",
       "0                9    0    8                0  ...                  0       0   \n",
       "1                1    0    3                0  ...                  0       0   \n",
       "2                3    0    1                0  ...                  0       0   \n",
       "3                6    0    4                0  ...                  0       0   \n",
       "4                8    0    9                0  ...                  0       0   \n",
       "\n",
       "   CASOS_PCR  CASOS_TAR  POSITIVITAT_PCR_NUM  POSITIVITAT_TAR_NUM  \\\n",
       "0          0          9                    0                    5   \n",
       "1          0          1                    0                    0   \n",
       "2          0          3                    0                    1   \n",
       "3          0          6                    0                    1   \n",
       "4          0          8                    0                    3   \n",
       "\n",
       "   POSITIVITAT_PCR_DEN  POSITIVITAT_TAR_DEN  VACUNATS_DOSI_1  VACUNATS_DOSI_2  \n",
       "0                    0                    7                0                0  \n",
       "1                    0                    2                1                0  \n",
       "2                    0                    1                0                0  \n",
       "3                    0                    2                1                0  \n",
       "4                    0                    7                0                0  \n",
       "\n",
       "[5 rows x 22 columns]"
      ]
     },
     "execution_count": 2,
     "metadata": {},
     "output_type": "execute_result"
    }
   ],
   "source": [
    "#Llegim i ho passem a un dataframe\n",
    "dades_covid: pd.DataFrame = pd.read_csv(\"aga_diari_utf8.csv\",sep=\";\")\n",
    "dades_covid.head()\n"
   ]
  },
  {
   "cell_type": "code",
   "execution_count": 3,
   "metadata": {},
   "outputs": [
    {
     "data": {
      "text/plain": [
       "Index(['NOM', 'CODI', 'DATA', 'SEXE', 'GRUP_EDAT', 'RESIDENCIA',\n",
       "       'CASOS_CONFIRMAT', 'PCR', 'TAR', 'INGRESSOS_TOTAL', 'INGRESSOS_CRITIC',\n",
       "       'INGRESSATS_TOTAL', 'INGRESSATS_CRITIC', 'EXITUS', 'CASOS_PCR',\n",
       "       'CASOS_TAR', 'POSITIVITAT_PCR_NUM', 'POSITIVITAT_TAR_NUM',\n",
       "       'POSITIVITAT_PCR_DEN', 'POSITIVITAT_TAR_DEN', 'VACUNATS_DOSI_1',\n",
       "       'VACUNATS_DOSI_2'],\n",
       "      dtype='object')"
      ]
     },
     "execution_count": 3,
     "metadata": {},
     "output_type": "execute_result"
    }
   ],
   "source": [
    "dades_covid.columns"
   ]
  },
  {
   "cell_type": "code",
   "execution_count": 4,
   "metadata": {},
   "outputs": [
    {
     "data": {
      "text/html": [
       "<div>\n",
       "<style scoped>\n",
       "    .dataframe tbody tr th:only-of-type {\n",
       "        vertical-align: middle;\n",
       "    }\n",
       "\n",
       "    .dataframe tbody tr th {\n",
       "        vertical-align: top;\n",
       "    }\n",
       "\n",
       "    .dataframe thead th {\n",
       "        text-align: right;\n",
       "    }\n",
       "</style>\n",
       "<table border=\"1\" class=\"dataframe\">\n",
       "  <thead>\n",
       "    <tr style=\"text-align: right;\">\n",
       "      <th></th>\n",
       "      <th>CASOS_CONFIRMAT</th>\n",
       "      <th>PCR</th>\n",
       "      <th>TAR</th>\n",
       "      <th>INGRESSOS_TOTAL</th>\n",
       "      <th>INGRESSOS_CRITIC</th>\n",
       "      <th>INGRESSATS_TOTAL</th>\n",
       "      <th>INGRESSATS_CRITIC</th>\n",
       "      <th>EXITUS</th>\n",
       "      <th>CASOS_PCR</th>\n",
       "      <th>CASOS_TAR</th>\n",
       "      <th>POSITIVITAT_PCR_NUM</th>\n",
       "    </tr>\n",
       "  </thead>\n",
       "  <tbody>\n",
       "    <tr>\n",
       "      <th>0</th>\n",
       "      <td>9</td>\n",
       "      <td>0</td>\n",
       "      <td>8</td>\n",
       "      <td>0</td>\n",
       "      <td>0</td>\n",
       "      <td>0</td>\n",
       "      <td>0</td>\n",
       "      <td>0</td>\n",
       "      <td>0</td>\n",
       "      <td>9</td>\n",
       "      <td>0</td>\n",
       "    </tr>\n",
       "    <tr>\n",
       "      <th>1</th>\n",
       "      <td>1</td>\n",
       "      <td>0</td>\n",
       "      <td>3</td>\n",
       "      <td>0</td>\n",
       "      <td>0</td>\n",
       "      <td>0</td>\n",
       "      <td>0</td>\n",
       "      <td>0</td>\n",
       "      <td>0</td>\n",
       "      <td>1</td>\n",
       "      <td>0</td>\n",
       "    </tr>\n",
       "    <tr>\n",
       "      <th>2</th>\n",
       "      <td>3</td>\n",
       "      <td>0</td>\n",
       "      <td>1</td>\n",
       "      <td>0</td>\n",
       "      <td>0</td>\n",
       "      <td>1</td>\n",
       "      <td>0</td>\n",
       "      <td>0</td>\n",
       "      <td>0</td>\n",
       "      <td>3</td>\n",
       "      <td>0</td>\n",
       "    </tr>\n",
       "    <tr>\n",
       "      <th>3</th>\n",
       "      <td>6</td>\n",
       "      <td>0</td>\n",
       "      <td>4</td>\n",
       "      <td>0</td>\n",
       "      <td>0</td>\n",
       "      <td>1</td>\n",
       "      <td>0</td>\n",
       "      <td>0</td>\n",
       "      <td>0</td>\n",
       "      <td>6</td>\n",
       "      <td>0</td>\n",
       "    </tr>\n",
       "    <tr>\n",
       "      <th>4</th>\n",
       "      <td>8</td>\n",
       "      <td>0</td>\n",
       "      <td>9</td>\n",
       "      <td>0</td>\n",
       "      <td>0</td>\n",
       "      <td>0</td>\n",
       "      <td>0</td>\n",
       "      <td>0</td>\n",
       "      <td>0</td>\n",
       "      <td>8</td>\n",
       "      <td>0</td>\n",
       "    </tr>\n",
       "    <tr>\n",
       "      <th>5</th>\n",
       "      <td>8</td>\n",
       "      <td>0</td>\n",
       "      <td>5</td>\n",
       "      <td>0</td>\n",
       "      <td>0</td>\n",
       "      <td>0</td>\n",
       "      <td>0</td>\n",
       "      <td>0</td>\n",
       "      <td>0</td>\n",
       "      <td>8</td>\n",
       "      <td>0</td>\n",
       "    </tr>\n",
       "  </tbody>\n",
       "</table>\n",
       "</div>"
      ],
      "text/plain": [
       "   CASOS_CONFIRMAT  PCR  TAR  INGRESSOS_TOTAL  INGRESSOS_CRITIC  \\\n",
       "0                9    0    8                0                 0   \n",
       "1                1    0    3                0                 0   \n",
       "2                3    0    1                0                 0   \n",
       "3                6    0    4                0                 0   \n",
       "4                8    0    9                0                 0   \n",
       "5                8    0    5                0                 0   \n",
       "\n",
       "   INGRESSATS_TOTAL  INGRESSATS_CRITIC  EXITUS  CASOS_PCR  CASOS_TAR  \\\n",
       "0                 0                  0       0          0          9   \n",
       "1                 0                  0       0          0          1   \n",
       "2                 1                  0       0          0          3   \n",
       "3                 1                  0       0          0          6   \n",
       "4                 0                  0       0          0          8   \n",
       "5                 0                  0       0          0          8   \n",
       "\n",
       "   POSITIVITAT_PCR_NUM  \n",
       "0                    0  \n",
       "1                    0  \n",
       "2                    0  \n",
       "3                    0  \n",
       "4                    0  \n",
       "5                    0  "
      ]
     },
     "execution_count": 4,
     "metadata": {},
     "output_type": "execute_result"
    }
   ],
   "source": [
    "cols = ['CASOS_CONFIRMAT', 'PCR', 'TAR', 'INGRESSOS_TOTAL', 'INGRESSOS_CRITIC',\n",
    "       'INGRESSATS_TOTAL', 'INGRESSATS_CRITIC', 'EXITUS', 'CASOS_PCR',\n",
    "       'CASOS_TAR', 'POSITIVITAT_PCR_NUM']\n",
    "dades_covid.loc[0:5,\"CASOS_CONFIRMAT\":\"POSITIVITAT_PCR_NUM\"]\n"
   ]
  },
  {
   "cell_type": "code",
   "execution_count": 5,
   "metadata": {},
   "outputs": [],
   "source": [
    "barbera_mask: pd.Series = dades_covid.loc[:,\"NOM\"] == 'ALT CAMP I CONCA DE BARBERÀ'\n",
    "barbera_mask\n",
    "\n",
    "barbera_dades: pd.DataFrame = (dades_covid.loc[barbera_mask,['DATA','CASOS_CONFIRMAT']]\n",
    "                                .query(\"DATA>'2021-12-01'\")\n",
    "                                .groupby('DATA')\n",
    "                                .sum()\n",
    "\n",
    "                                )\n"
   ]
  },
  {
   "cell_type": "code",
   "execution_count": 6,
   "metadata": {},
   "outputs": [
    {
     "data": {
      "text/html": [
       "<div>\n",
       "<style scoped>\n",
       "    .dataframe tbody tr th:only-of-type {\n",
       "        vertical-align: middle;\n",
       "    }\n",
       "\n",
       "    .dataframe tbody tr th {\n",
       "        vertical-align: top;\n",
       "    }\n",
       "\n",
       "    .dataframe thead th {\n",
       "        text-align: right;\n",
       "    }\n",
       "</style>\n",
       "<table border=\"1\" class=\"dataframe\">\n",
       "  <thead>\n",
       "    <tr style=\"text-align: right;\">\n",
       "      <th></th>\n",
       "      <th>POSITIVITAT_TAR_NUM</th>\n",
       "    </tr>\n",
       "    <tr>\n",
       "      <th>DATA</th>\n",
       "      <th></th>\n",
       "    </tr>\n",
       "  </thead>\n",
       "  <tbody>\n",
       "    <tr>\n",
       "      <th>2021-12-02</th>\n",
       "      <td>117</td>\n",
       "    </tr>\n",
       "    <tr>\n",
       "      <th>2021-12-03</th>\n",
       "      <td>108</td>\n",
       "    </tr>\n",
       "    <tr>\n",
       "      <th>2021-12-04</th>\n",
       "      <td>78</td>\n",
       "    </tr>\n",
       "    <tr>\n",
       "      <th>2021-12-05</th>\n",
       "      <td>58</td>\n",
       "    </tr>\n",
       "    <tr>\n",
       "      <th>2021-12-06</th>\n",
       "      <td>90</td>\n",
       "    </tr>\n",
       "    <tr>\n",
       "      <th>2021-12-07</th>\n",
       "      <td>161</td>\n",
       "    </tr>\n",
       "    <tr>\n",
       "      <th>2021-12-08</th>\n",
       "      <td>110</td>\n",
       "    </tr>\n",
       "    <tr>\n",
       "      <th>2021-12-09</th>\n",
       "      <td>171</td>\n",
       "    </tr>\n",
       "    <tr>\n",
       "      <th>2021-12-10</th>\n",
       "      <td>154</td>\n",
       "    </tr>\n",
       "    <tr>\n",
       "      <th>2021-12-11</th>\n",
       "      <td>115</td>\n",
       "    </tr>\n",
       "    <tr>\n",
       "      <th>2021-12-12</th>\n",
       "      <td>134</td>\n",
       "    </tr>\n",
       "    <tr>\n",
       "      <th>2021-12-13</th>\n",
       "      <td>199</td>\n",
       "    </tr>\n",
       "    <tr>\n",
       "      <th>2021-12-14</th>\n",
       "      <td>156</td>\n",
       "    </tr>\n",
       "    <tr>\n",
       "      <th>2021-12-15</th>\n",
       "      <td>167</td>\n",
       "    </tr>\n",
       "    <tr>\n",
       "      <th>2021-12-16</th>\n",
       "      <td>185</td>\n",
       "    </tr>\n",
       "    <tr>\n",
       "      <th>2021-12-17</th>\n",
       "      <td>192</td>\n",
       "    </tr>\n",
       "    <tr>\n",
       "      <th>2021-12-18</th>\n",
       "      <td>139</td>\n",
       "    </tr>\n",
       "    <tr>\n",
       "      <th>2021-12-19</th>\n",
       "      <td>140</td>\n",
       "    </tr>\n",
       "    <tr>\n",
       "      <th>2021-12-20</th>\n",
       "      <td>269</td>\n",
       "    </tr>\n",
       "    <tr>\n",
       "      <th>2021-12-21</th>\n",
       "      <td>304</td>\n",
       "    </tr>\n",
       "    <tr>\n",
       "      <th>2021-12-22</th>\n",
       "      <td>341</td>\n",
       "    </tr>\n",
       "    <tr>\n",
       "      <th>2021-12-23</th>\n",
       "      <td>419</td>\n",
       "    </tr>\n",
       "    <tr>\n",
       "      <th>2021-12-24</th>\n",
       "      <td>457</td>\n",
       "    </tr>\n",
       "    <tr>\n",
       "      <th>2021-12-25</th>\n",
       "      <td>353</td>\n",
       "    </tr>\n",
       "    <tr>\n",
       "      <th>2021-12-26</th>\n",
       "      <td>421</td>\n",
       "    </tr>\n",
       "    <tr>\n",
       "      <th>2021-12-27</th>\n",
       "      <td>586</td>\n",
       "    </tr>\n",
       "    <tr>\n",
       "      <th>2021-12-28</th>\n",
       "      <td>627</td>\n",
       "    </tr>\n",
       "    <tr>\n",
       "      <th>2021-12-29</th>\n",
       "      <td>583</td>\n",
       "    </tr>\n",
       "    <tr>\n",
       "      <th>2021-12-30</th>\n",
       "      <td>504</td>\n",
       "    </tr>\n",
       "    <tr>\n",
       "      <th>2021-12-31</th>\n",
       "      <td>430</td>\n",
       "    </tr>\n",
       "    <tr>\n",
       "      <th>2022-01-01</th>\n",
       "      <td>203</td>\n",
       "    </tr>\n",
       "    <tr>\n",
       "      <th>2022-01-02</th>\n",
       "      <td>316</td>\n",
       "    </tr>\n",
       "    <tr>\n",
       "      <th>2022-01-03</th>\n",
       "      <td>547</td>\n",
       "    </tr>\n",
       "    <tr>\n",
       "      <th>2022-01-04</th>\n",
       "      <td>543</td>\n",
       "    </tr>\n",
       "    <tr>\n",
       "      <th>2022-01-05</th>\n",
       "      <td>478</td>\n",
       "    </tr>\n",
       "    <tr>\n",
       "      <th>2022-01-06</th>\n",
       "      <td>247</td>\n",
       "    </tr>\n",
       "    <tr>\n",
       "      <th>2022-01-07</th>\n",
       "      <td>448</td>\n",
       "    </tr>\n",
       "    <tr>\n",
       "      <th>2022-01-08</th>\n",
       "      <td>328</td>\n",
       "    </tr>\n",
       "    <tr>\n",
       "      <th>2022-01-09</th>\n",
       "      <td>407</td>\n",
       "    </tr>\n",
       "    <tr>\n",
       "      <th>2022-01-10</th>\n",
       "      <td>678</td>\n",
       "    </tr>\n",
       "    <tr>\n",
       "      <th>2022-01-11</th>\n",
       "      <td>682</td>\n",
       "    </tr>\n",
       "    <tr>\n",
       "      <th>2022-01-12</th>\n",
       "      <td>650</td>\n",
       "    </tr>\n",
       "    <tr>\n",
       "      <th>2022-01-13</th>\n",
       "      <td>690</td>\n",
       "    </tr>\n",
       "    <tr>\n",
       "      <th>2022-01-14</th>\n",
       "      <td>642</td>\n",
       "    </tr>\n",
       "    <tr>\n",
       "      <th>2022-01-15</th>\n",
       "      <td>500</td>\n",
       "    </tr>\n",
       "    <tr>\n",
       "      <th>2022-01-16</th>\n",
       "      <td>135</td>\n",
       "    </tr>\n",
       "  </tbody>\n",
       "</table>\n",
       "</div>"
      ],
      "text/plain": [
       "            POSITIVITAT_TAR_NUM\n",
       "DATA                           \n",
       "2021-12-02                  117\n",
       "2021-12-03                  108\n",
       "2021-12-04                   78\n",
       "2021-12-05                   58\n",
       "2021-12-06                   90\n",
       "2021-12-07                  161\n",
       "2021-12-08                  110\n",
       "2021-12-09                  171\n",
       "2021-12-10                  154\n",
       "2021-12-11                  115\n",
       "2021-12-12                  134\n",
       "2021-12-13                  199\n",
       "2021-12-14                  156\n",
       "2021-12-15                  167\n",
       "2021-12-16                  185\n",
       "2021-12-17                  192\n",
       "2021-12-18                  139\n",
       "2021-12-19                  140\n",
       "2021-12-20                  269\n",
       "2021-12-21                  304\n",
       "2021-12-22                  341\n",
       "2021-12-23                  419\n",
       "2021-12-24                  457\n",
       "2021-12-25                  353\n",
       "2021-12-26                  421\n",
       "2021-12-27                  586\n",
       "2021-12-28                  627\n",
       "2021-12-29                  583\n",
       "2021-12-30                  504\n",
       "2021-12-31                  430\n",
       "2022-01-01                  203\n",
       "2022-01-02                  316\n",
       "2022-01-03                  547\n",
       "2022-01-04                  543\n",
       "2022-01-05                  478\n",
       "2022-01-06                  247\n",
       "2022-01-07                  448\n",
       "2022-01-08                  328\n",
       "2022-01-09                  407\n",
       "2022-01-10                  678\n",
       "2022-01-11                  682\n",
       "2022-01-12                  650\n",
       "2022-01-13                  690\n",
       "2022-01-14                  642\n",
       "2022-01-15                  500\n",
       "2022-01-16                  135"
      ]
     },
     "execution_count": 6,
     "metadata": {},
     "output_type": "execute_result"
    }
   ],
   "source": [
    "lleida_mask: pd.Series = dades_covid.loc[:,\"NOM\"] == 'LLEIDA'\n",
    "lleida_mask\n",
    "\n",
    "lleida_dades: pd.DataFrame = (dades_covid.loc[lleida_mask,['DATA','POSITIVITAT_TAR_NUM']]\n",
    "                                .query(\"DATA>'2021-12-01'\")\n",
    "                                .groupby('DATA')\n",
    "                                .sum()\n",
    "\n",
    "                                )\n",
    "lleida_dades"
   ]
  },
  {
   "cell_type": "code",
   "execution_count": 7,
   "metadata": {},
   "outputs": [
    {
     "data": {
      "text/plain": [
       "<bound method Axes.bar of <AxesSubplot:xlabel='DATA'>>"
      ]
     },
     "execution_count": 7,
     "metadata": {},
     "output_type": "execute_result"
    },
    {
     "data": {
      "image/png": "[encoded data removed]",
      "text/plain": [
       "<Figure size 432x288 with 1 Axes>"
      ]
     },
     "metadata": {
      "needs_background": "light"
     },
     "output_type": "display_data"
    }
   ],
   "source": [
    "lleida_dades.plot().bar"
   ]
  },
  {
   "cell_type": "code",
   "execution_count": 8,
   "metadata": {},
   "outputs": [
    {
     "name": "stdout",
     "output_type": "stream",
     "text": [
      "                                NOM  CODI        DATA  SEXE GRUP_EDAT  \\\n",
      "0       ALT CAMP I CONCA DE BARBERÀ     6  2022-01-16  Dona     0 a 9   \n",
      "1       ALT CAMP I CONCA DE BARBERÀ     6  2022-01-16  Dona   10 a 19   \n",
      "2       ALT CAMP I CONCA DE BARBERÀ     6  2022-01-16  Dona   20 a 29   \n",
      "3       ALT CAMP I CONCA DE BARBERÀ     6  2022-01-16  Dona   30 a 39   \n",
      "4       ALT CAMP I CONCA DE BARBERÀ     6  2022-01-16  Dona   40 a 49   \n",
      "...                             ...   ...         ...   ...       ...   \n",
      "620356      VALLÈS ORIENTAL CENTRAL    69  2020-03-01  Home   60 a 69   \n",
      "620357      VALLÈS ORIENTAL CENTRAL    69  2020-03-01  Home   70 a 79   \n",
      "620358      VALLÈS ORIENTAL CENTRAL    69  2020-03-01  Home  80 o més   \n",
      "620359      VALLÈS ORIENTAL CENTRAL    69  2020-03-01  Home       NaN   \n",
      "620360      VALLÈS ORIENTAL CENTRAL    69  2020-03-01  Tots      Tots   \n",
      "\n",
      "       RESIDENCIA  CASOS_CONFIRMAT  PCR  TAR  INGRESSOS_TOTAL  ...  \\\n",
      "0              No                9    0    8                0  ...   \n",
      "1              No                1    0    3                0  ...   \n",
      "2              No                3    0    1                0  ...   \n",
      "3              No                6    0    4                0  ...   \n",
      "4              No                8    0    9                0  ...   \n",
      "...           ...              ...  ...  ...              ...  ...   \n",
      "620356         No                0    0    0                0  ...   \n",
      "620357         No                0    1    0                0  ...   \n",
      "620358         No                0    0    0                0  ...   \n",
      "620359         No                0    0    0                0  ...   \n",
      "620360         Si                0    0    0                0  ...   \n",
      "\n",
      "        INGRESSATS_CRITIC  EXITUS  CASOS_PCR  CASOS_TAR  POSITIVITAT_PCR_NUM  \\\n",
      "0                       0       0          0          9                    0   \n",
      "1                       0       0          0          1                    0   \n",
      "2                       0       0          0          3                    0   \n",
      "3                       0       0          0          6                    0   \n",
      "4                       0       0          0          8                    0   \n",
      "...                   ...     ...        ...        ...                  ...   \n",
      "620356                  0       0          0          0                    0   \n",
      "620357                  0       0          0          0                    0   \n",
      "620358                  0       0          0          0                    0   \n",
      "620359                  0       0          0          0                    0   \n",
      "620360                  0       0          0          0                    0   \n",
      "\n",
      "        POSITIVITAT_TAR_NUM  POSITIVITAT_PCR_DEN  POSITIVITAT_TAR_DEN  \\\n",
      "0                         5                    0                    7   \n",
      "1                         0                    0                    2   \n",
      "2                         1                    0                    1   \n",
      "3                         1                    0                    2   \n",
      "4                         3                    0                    7   \n",
      "...                     ...                  ...                  ...   \n",
      "620356                    0                    0                    0   \n",
      "620357                    0                    1                    0   \n",
      "620358                    0                    0                    0   \n",
      "620359                    0                    0                    0   \n",
      "620360                    0                    0                    0   \n",
      "\n",
      "        VACUNATS_DOSI_1  VACUNATS_DOSI_2  \n",
      "0                     0                0  \n",
      "1                     1                0  \n",
      "2                     0                0  \n",
      "3                     1                0  \n",
      "4                     0                0  \n",
      "...                 ...              ...  \n",
      "620356                0                0  \n",
      "620357                0                0  \n",
      "620358                0                0  \n",
      "620359                0                0  \n",
      "620360                0                0  \n",
      "\n",
      "[620361 rows x 22 columns]\n"
     ]
    },
    {
     "data": {
      "text/plain": [
       "pandas.core.frame.DataFrame"
      ]
     },
     "execution_count": 8,
     "metadata": {},
     "output_type": "execute_result"
    }
   ],
   "source": [
    "print(dades_covid)\n",
    "type(dades_covid)"
   ]
  },
  {
   "cell_type": "markdown",
   "metadata": {},
   "source": [
    "### Mitjana\n",
    "*Suma dels valors totals de les mostres dividit per la quantitat de mostres existents*"
   ]
  },
  {
   "cell_type": "code",
   "execution_count": 9,
   "metadata": {},
   "outputs": [
    {
     "name": "stdout",
     "output_type": "stream",
     "text": [
      "0.718860469952173\n"
     ]
    }
   ],
   "source": [
    "#print(barbera_mask)\n",
    "barbera_dades_total: pd.Series = dades_covid.loc[barbera_mask,'CASOS_CONFIRMAT']\n",
    "#calculem la mitja\n",
    "print((sum(barbera_dades_total)/len(barbera_dades_total)))\n",
    "\n"
   ]
  },
  {
   "cell_type": "code",
   "execution_count": 10,
   "metadata": {},
   "outputs": [
    {
     "name": "stdout",
     "output_type": "stream",
     "text": [
      "0.718860469952173\n"
     ]
    }
   ],
   "source": [
    "#la media es buen descriptor si los dados son mas o menos homogeneos, pero en casos de varios datos extremos\n",
    "#la media no es el mejor indicador para un estudio.\n",
    "print(barbera_dades_total.mean());"
   ]
  },
  {
   "cell_type": "code",
   "execution_count": 11,
   "metadata": {},
   "outputs": [
    {
     "data": {
      "text/plain": [
       "<AxesSubplot:xlabel='DATA'>"
      ]
     },
     "execution_count": 11,
     "metadata": {},
     "output_type": "execute_result"
    },
    {
     "data": {
      "image/png": "[encoded data removed]",
      "text/plain": [
       "<Figure size 432x288 with 1 Axes>"
      ]
     },
     "metadata": {
      "needs_background": "light"
     },
     "output_type": "display_data"
    }
   ],
   "source": [
    "barbera_dades_df = (dades_covid.query('NOM == \"ALT CAMP I CONCA DE BARBERÀ\"')\n",
    "                    .loc[:,['DATA','POSITIVITAT_TAR_NUM']]\n",
    "                    .groupby('DATA')\n",
    "                    .sum()\n",
    "                    .rename(columns={\"POSITIVITAT_TAR_NUM\":\"TAR_POSITIUS\"}))\n",
    "\n",
    "barbera_dades_df.plot()"
   ]
  },
  {
   "cell_type": "code",
   "execution_count": 12,
   "metadata": {},
   "outputs": [
    {
     "data": {
      "text/plain": [
       "DATA\n",
       "2020-03-01      0\n",
       "2020-03-02      0\n",
       "2020-03-03      0\n",
       "2020-03-04      0\n",
       "2020-03-05      0\n",
       "             ... \n",
       "2022-01-12    106\n",
       "2022-01-13     99\n",
       "2022-01-14     91\n",
       "2022-01-15     83\n",
       "2022-01-16     31\n",
       "Name: TAR_POSITIUS, Length: 687, dtype: int64"
      ]
     },
     "execution_count": 12,
     "metadata": {},
     "output_type": "execute_result"
    }
   ],
   "source": [
    "tar_positius: pd.Series = barbera_dades_df.loc[:,\"TAR_POSITIUS\"]\n",
    "tar_positius"
   ]
  },
  {
   "cell_type": "code",
   "execution_count": 13,
   "metadata": {},
   "outputs": [
    {
     "name": "stdout",
     "output_type": "stream",
     "text": [
      "7.941775836972344\n"
     ]
    }
   ],
   "source": [
    "def get_mean(ser: pd.Series) -> float:\n",
    "        return sum(ser)/len(ser)\n",
    "\n",
    "print(get_mean(tar_positius))"
   ]
  },
  {
   "cell_type": "markdown",
   "metadata": {},
   "source": [
    "### Moda \n",
    "*Valor que es repeteix més sovint*"
   ]
  },
  {
   "cell_type": "code",
   "execution_count": 14,
   "metadata": {},
   "outputs": [
    {
     "data": {
      "text/plain": [
       "(0, 274)"
      ]
     },
     "execution_count": 14,
     "metadata": {},
     "output_type": "execute_result"
    }
   ],
   "source": [
    "#Mean\n",
    "#Make sure\n",
    "\n",
    "def get_mode(ser: pd.Series) -> tuple[int,int]:\n",
    "\n",
    "        # Make counter dictionary\n",
    "        # Keys: Number of positives per day(without repeats)\n",
    "        # Values Frequencies of that number (zero initially)\n",
    "        pos_freq_dict: dict[int, int] = dict.fromkeys(sorted(set(ser)),0)\n",
    "\n",
    "        #Calculate frequencies\n",
    "        for num_pos in ser:\n",
    "            pos_freq_dict[num_pos] += 1\n",
    "\n",
    "        #Sort dictionary by values[frequencies)]\n",
    "        pos_freq_tuples:        list[tuple[int,int]] = pos_freq_dict.items()\n",
    "        #ordenem pel segon item de forma descendent (reverse=True)\n",
    "        sorted_pos_freq_tuples: list[tuple[int,int]] = sorted(pos_freq_tuples,\n",
    "                                                            key=lambda item: item[1],\n",
    "                                                            reverse=True)\n",
    "        mode_freq:          tuple[int,int]           = sorted_pos_freq_tuples[0]\n",
    "        return mode_freq\n",
    "\n",
    "\n",
    "# Mode = 0\n",
    "# Frequency = 234\n",
    "# tar_positius_value_counts()\n",
    "# tar_positius_mode()\n",
    "get_mode(tar_positius)\n"
   ]
  },
  {
   "cell_type": "code",
   "execution_count": 15,
   "metadata": {},
   "outputs": [
    {
     "data": {
      "text/plain": [
       "<bound method Series.mode of DATA\n",
       "2020-03-01      0\n",
       "2020-03-02      0\n",
       "2020-03-03      0\n",
       "2020-03-04      0\n",
       "2020-03-05      0\n",
       "             ... \n",
       "2022-01-12    106\n",
       "2022-01-13     99\n",
       "2022-01-14     91\n",
       "2022-01-15     83\n",
       "2022-01-16     31\n",
       "Name: TAR_POSITIUS, Length: 687, dtype: int64>"
      ]
     },
     "execution_count": 15,
     "metadata": {},
     "output_type": "execute_result"
    }
   ],
   "source": [
    "tar_positius.mode"
   ]
  },
  {
   "cell_type": "code",
   "execution_count": 16,
   "metadata": {},
   "outputs": [
    {
     "name": "stdout",
     "output_type": "stream",
     "text": [
      "0     274\n",
      "2      52\n",
      "1      50\n",
      "4      37\n",
      "3      32\n",
      "     ... \n",
      "40      1\n",
      "41      1\n",
      "47      1\n",
      "29      1\n",
      "83      1\n",
      "Name: TAR_POSITIUS, Length: 65, dtype: int64\n"
     ]
    }
   ],
   "source": [
    "#Using Panda's .value_counts\n",
    "#Per calcular la moda amb panda's\n",
    "freqs: pd.Series = tar_positius.value_counts()\n",
    "mode: int        = freqs.index[0]\n",
    "freqs[mode]\n",
    "print(freqs)\n"
   ]
  },
  {
   "cell_type": "markdown",
   "metadata": {},
   "source": [
    "### Mediana \n",
    "*Punt on la mitad de la mostra esta per sota i l'altra meitat, esta per sobre del valor de la mediana*"
   ]
  },
  {
   "cell_type": "code",
   "execution_count": 17,
   "metadata": {},
   "outputs": [
    {
     "data": {
      "text/plain": [
       "<AxesSubplot:xlabel='DATA'>"
      ]
     },
     "execution_count": 17,
     "metadata": {},
     "output_type": "execute_result"
    },
    {
     "data": {
      "image/png": "[encoded data removed]",
      "text/plain": [
       "<Figure size 432x288 with 1 Axes>"
      ]
     },
     "metadata": {
      "needs_background": "light"
     },
     "output_type": "display_data"
    }
   ],
   "source": [
    "def get_median(ser: pd.Series) -> float:\n",
    "\n",
    "    sorted_data:    list[int]   = sorted(ser)\n",
    "    length:         int         = len(sorted_data)\n",
    "    middle_index:   int         = length // 2\n",
    "\n",
    "    middle_value:           int         = sorted_data[middle_index]\n",
    "    middle_value_from_end:  int         = sorted_data[-middle_index]\n",
    "    middle_mean:            float       = (middle_value + middle_value_from_end)/2\n",
    "\n",
    "    return middle_mean\n",
    "\n",
    "\n",
    "#tar_positius.sort_values()\n",
    "#amb la gràfica es veu fàcil, perque la linea (horitzontal) que és veu més, allò es la moda. La mediana\n",
    "#es just la del mig\n",
    "tar_positius.sort_values().plot()"
   ]
  },
  {
   "cell_type": "code",
   "execution_count": 18,
   "metadata": {},
   "outputs": [
    {
     "data": {
      "text/plain": [
       "2.0"
      ]
     },
     "execution_count": 18,
     "metadata": {},
     "output_type": "execute_result"
    }
   ],
   "source": [
    "#tar_positius.median()\n",
    "get_median(tar_positius)"
   ]
  },
  {
   "cell_type": "markdown",
   "metadata": {},
   "source": [
    "# Cuantil i Outlier"
   ]
  },
  {
   "cell_type": "code",
   "execution_count": 19,
   "metadata": {},
   "outputs": [
    {
     "data": {
      "text/plain": [
       "<AxesSubplot:>"
      ]
     },
     "execution_count": 19,
     "metadata": {},
     "output_type": "execute_result"
    },
    {
     "data": {
      "image/png": "[encoded data removed]",
      "text/plain": [
       "<Figure size 432x288 with 1 Axes>"
      ]
     },
     "metadata": {
      "needs_background": "light"
     },
     "output_type": "display_data"
    }
   ],
   "source": [
    "tar_positius.plot.box()"
   ]
  },
  {
   "cell_type": "code",
   "execution_count": 20,
   "metadata": {},
   "outputs": [
    {
     "name": "stdout",
     "output_type": "stream",
     "text": [
      "7.941775836972344\n",
      "[7.941775836972344, 7.941775836972344, 7.941775836972344, 7.941775836972344, 7.941775836972344, 7.941775836972344, 7.941775836972344, 7.941775836972344, 7.941775836972344, 7.941775836972344, 7.941775836972344, 7.941775836972344, 7.941775836972344, 7.941775836972344, 7.941775836972344, 7.941775836972344, 7.941775836972344, 7.941775836972344, 7.941775836972344, 7.941775836972344, 7.941775836972344, 7.941775836972344, 7.941775836972344, 7.941775836972344, 7.941775836972344, 7.941775836972344, 7.941775836972344, 7.941775836972344, 7.941775836972344, 7.941775836972344, 7.941775836972344, 7.941775836972344, 7.941775836972344, 7.941775836972344, 7.941775836972344, 7.941775836972344, 7.941775836972344, 7.941775836972344, 7.941775836972344, 6.941775836972344, 7.941775836972344, 7.941775836972344, 6.941775836972344, 7.941775836972344, 6.941775836972344, 7.941775836972344, 7.941775836972344, 7.941775836972344, 7.941775836972344, 7.941775836972344, 7.941775836972344, 7.941775836972344, 7.941775836972344, 7.941775836972344, 7.941775836972344, 7.941775836972344, 7.941775836972344, 7.941775836972344, 7.941775836972344, 7.941775836972344, 7.941775836972344, 7.941775836972344, 7.941775836972344, 7.941775836972344, 7.941775836972344, 7.941775836972344, 7.941775836972344, 7.941775836972344, 7.941775836972344, 7.941775836972344, 7.941775836972344, 7.941775836972344, 7.941775836972344, 7.941775836972344, 7.941775836972344, 7.941775836972344, 7.941775836972344, 7.941775836972344, 7.941775836972344, 7.941775836972344, 7.941775836972344, 7.941775836972344, 7.941775836972344, 7.941775836972344, 7.941775836972344, 7.941775836972344, 7.941775836972344, 7.941775836972344, 7.941775836972344, 7.941775836972344, 7.941775836972344, 7.941775836972344, 7.941775836972344, 7.941775836972344, 7.941775836972344, 7.941775836972344, 7.941775836972344, 7.941775836972344, 7.941775836972344, 7.941775836972344, 7.941775836972344, 7.941775836972344, 7.941775836972344, 7.941775836972344, 7.941775836972344, 7.941775836972344, 7.941775836972344, 7.941775836972344, 7.941775836972344, 7.941775836972344, 7.941775836972344, 7.941775836972344, 7.941775836972344, 7.941775836972344, 7.941775836972344, 7.941775836972344, 7.941775836972344, 7.941775836972344, 7.941775836972344, 7.941775836972344, 7.941775836972344, 7.941775836972344, 7.941775836972344, 7.941775836972344, 7.941775836972344, 7.941775836972344, 7.941775836972344, 7.941775836972344, 7.941775836972344, 7.941775836972344, 7.941775836972344, 7.941775836972344, 7.941775836972344, 7.941775836972344, 7.941775836972344, 7.941775836972344, 7.941775836972344, 7.941775836972344, 7.941775836972344, 7.941775836972344, 7.941775836972344, 7.941775836972344, 7.941775836972344, 7.941775836972344, 7.941775836972344, 7.941775836972344, 7.941775836972344, 7.941775836972344, 7.941775836972344, 7.941775836972344, 7.941775836972344, 7.941775836972344, 7.941775836972344, 7.941775836972344, 7.941775836972344, 7.941775836972344, 7.941775836972344, 7.941775836972344, 7.941775836972344, 7.941775836972344, 7.941775836972344, 7.941775836972344, 7.941775836972344, 7.941775836972344, 7.941775836972344, 7.941775836972344, 7.941775836972344, 7.941775836972344, 7.941775836972344, 7.941775836972344, 7.941775836972344, 7.941775836972344, 7.941775836972344, 7.941775836972344, 7.941775836972344, 7.941775836972344, 7.941775836972344, 7.941775836972344, 7.941775836972344, 7.941775836972344, 7.941775836972344, 7.941775836972344, 7.941775836972344, 7.941775836972344, 7.941775836972344, 7.941775836972344, 7.941775836972344, 7.941775836972344, 7.941775836972344, 7.941775836972344, 7.941775836972344, 7.941775836972344, 7.941775836972344, 7.941775836972344, 7.941775836972344, 7.941775836972344, 7.941775836972344, 7.941775836972344, 7.941775836972344, 7.941775836972344, 7.941775836972344, 7.941775836972344, 7.941775836972344, 7.941775836972344, 7.941775836972344, 7.941775836972344, 7.941775836972344, 7.941775836972344, 7.941775836972344, 7.941775836972344, 7.941775836972344, 7.941775836972344, 7.941775836972344, 7.941775836972344, 7.941775836972344, 7.941775836972344, 7.941775836972344, 7.941775836972344, 7.941775836972344, 7.941775836972344, 7.941775836972344, 7.941775836972344, 7.941775836972344, 7.941775836972344, 7.941775836972344, 7.941775836972344, 7.941775836972344, 7.941775836972344, 7.941775836972344, 7.941775836972344, 7.941775836972344, 7.941775836972344, 7.941775836972344, 4.941775836972344, 6.941775836972344, 3.9417758369723437, 7.058224163027656, 0.9417758369723437, 5.941775836972344, 5.058224163027656, 2.0582241630276563, 2.0582241630276563, 2.0582241630276563, 1.0582241630276563, 2.0582241630276563, 0.05822416302765632, 4.058224163027656, 12.058224163027656, 1.9417758369723437, 4.941775836972344, 1.9417758369723437, 2.9417758369723437, 5.941775836972344, 11.058224163027656, 3.9417758369723437, 3.0582241630276563, 0.9417758369723437, 4.941775836972344, 2.9417758369723437, 4.941775836972344, 4.058224163027656, 6.058224163027656, 1.0582241630276563, 3.0582241630276563, 2.9417758369723437, 5.941775836972344, 4.941775836972344, 3.9417758369723437, 3.9417758369723437, 2.9417758369723437, 7.941775836972344, 4.941775836972344, 0.9417758369723437, 6.941775836972344, 3.9417758369723437, 6.941775836972344, 6.941775836972344, 4.941775836972344, 5.941775836972344, 7.941775836972344, 6.941775836972344, 3.9417758369723437, 4.941775836972344, 5.058224163027656, 2.9417758369723437, 5.941775836972344, 1.9417758369723437, 1.0582241630276563, 2.9417758369723437, 0.05822416302765632, 0.05822416302765632, 9.058224163027656, 6.058224163027656, 4.941775836972344, 5.941775836972344, 11.058224163027656, 5.058224163027656, 5.058224163027656, 8.058224163027656, 2.9417758369723437, 1.9417758369723437, 2.0582241630276563, 17.058224163027656, 13.058224163027656, 13.058224163027656, 16.058224163027656, 1.9417758369723437, 5.058224163027656, 2.9417758369723437, 21.058224163027656, 22.058224163027656, 1.9417758369723437, 18.058224163027656, 14.058224163027656, 7.058224163027656, 0.05822416302765632, 14.058224163027656, 22.058224163027656, 16.058224163027656, 10.058224163027656, 7.058224163027656, 3.0582241630276563, 2.0582241630276563, 16.058224163027656, 18.058224163027656, 12.058224163027656, 10.058224163027656, 4.058224163027656, 4.941775836972344, 1.9417758369723437, 4.058224163027656, 5.058224163027656, 6.058224163027656, 1.0582241630276563, 2.9417758369723437, 3.9417758369723437, 5.941775836972344, 4.058224163027656, 3.0582241630276563, 4.058224163027656, 0.05822416302765632, 5.058224163027656, 3.0582241630276563, 3.9417758369723437, 9.058224163027656, 5.941775836972344, 1.9417758369723437, 2.9417758369723437, 3.9417758369723437, 1.9417758369723437, 6.941775836972344, 1.9417758369723437, 5.058224163027656, 3.0582241630276563, 3.9417758369723437, 6.941775836972344, 4.941775836972344, 7.941775836972344, 0.05822416302765632, 6.941775836972344, 5.941775836972344, 0.05822416302765632, 2.0582241630276563, 6.941775836972344, 7.941775836972344, 5.058224163027656, 3.9417758369723437, 0.05822416302765632, 3.9417758369723437, 3.9417758369723437, 7.941775836972344, 7.941775836972344, 4.941775836972344, 6.941775836972344, 6.941775836972344, 1.0582241630276563, 1.9417758369723437, 5.941775836972344, 0.9417758369723437, 6.941775836972344, 0.05822416302765632, 0.9417758369723437, 4.941775836972344, 3.9417758369723437, 0.9417758369723437, 6.058224163027656, 0.05822416302765632, 0.9417758369723437, 8.058224163027656, 3.0582241630276563, 1.0582241630276563, 2.9417758369723437, 3.9417758369723437, 0.05822416302765632, 3.0582241630276563, 5.058224163027656, 0.05822416302765632, 1.9417758369723437, 0.9417758369723437, 6.941775836972344, 5.941775836972344, 6.058224163027656, 2.0582241630276563, 1.0582241630276563, 1.9417758369723437, 2.9417758369723437, 2.9417758369723437, 0.05822416302765632, 1.9417758369723437, 1.9417758369723437, 5.941775836972344, 4.058224163027656, 3.9417758369723437, 4.941775836972344, 5.058224163027656, 3.9417758369723437, 5.941775836972344, 1.0582241630276563, 3.9417758369723437, 4.941775836972344, 6.941775836972344, 0.9417758369723437, 4.941775836972344, 3.9417758369723437, 4.941775836972344, 2.0582241630276563, 5.941775836972344, 5.941775836972344, 0.9417758369723437, 1.0582241630276563, 3.9417758369723437, 7.941775836972344, 6.941775836972344, 5.941775836972344, 4.941775836972344, 1.9417758369723437, 3.9417758369723437, 5.941775836972344, 5.941775836972344, 7.941775836972344, 5.941775836972344, 7.941775836972344, 0.9417758369723437, 3.9417758369723437, 3.9417758369723437, 5.941775836972344, 6.941775836972344, 4.941775836972344, 4.941775836972344, 6.941775836972344, 4.941775836972344, 4.941775836972344, 7.941775836972344, 6.941775836972344, 7.941775836972344, 7.941775836972344, 3.9417758369723437, 5.941775836972344, 5.941775836972344, 5.941775836972344, 5.941775836972344, 7.941775836972344, 7.941775836972344, 7.941775836972344, 4.941775836972344, 4.941775836972344, 5.941775836972344, 5.941775836972344, 6.941775836972344, 7.941775836972344, 5.941775836972344, 3.9417758369723437, 6.941775836972344, 6.941775836972344, 7.941775836972344, 5.941775836972344, 7.941775836972344, 5.941775836972344, 4.941775836972344, 5.941775836972344, 5.941775836972344, 2.0582241630276563, 0.05822416302765632, 5.058224163027656, 10.058224163027656, 23.058224163027656, 8.058224163027656, 17.058224163027656, 7.058224163027656, 6.058224163027656, 0.9417758369723437, 26.058224163027656, 39.05822416302766, 27.058224163027656, 36.05822416302766, 33.05822416302766, 18.058224163027656, 11.058224163027656, 42.05822416302766, 32.05822416302766, 28.058224163027656, 31.058224163027656, 20.058224163027656, 18.058224163027656, 20.058224163027656, 34.05822416302766, 19.058224163027656, 16.058224163027656, 27.058224163027656, 11.058224163027656, 15.058224163027656, 11.058224163027656, 24.058224163027656, 11.058224163027656, 15.058224163027656, 6.058224163027656, 18.058224163027656, 2.9417758369723437, 3.9417758369723437, 15.058224163027656, 10.058224163027656, 9.058224163027656, 20.058224163027656, 5.058224163027656, 1.0582241630276563, 0.05822416302765632, 11.058224163027656, 7.058224163027656, 0.05822416302765632, 7.058224163027656, 8.058224163027656, 3.9417758369723437, 1.9417758369723437, 7.058224163027656, 8.058224163027656, 11.058224163027656, 0.9417758369723437, 1.0582241630276563, 2.9417758369723437, 7.941775836972344, 3.9417758369723437, 3.9417758369723437, 3.0582241630276563, 0.05822416302765632, 6.941775836972344, 4.941775836972344, 4.941775836972344, 3.9417758369723437, 2.9417758369723437, 3.9417758369723437, 3.9417758369723437, 4.941775836972344, 3.9417758369723437, 5.941775836972344, 2.9417758369723437, 5.941775836972344, 6.941775836972344, 6.941775836972344, 6.941775836972344, 7.941775836972344, 5.941775836972344, 6.941775836972344, 7.941775836972344, 6.941775836972344, 6.941775836972344, 6.941775836972344, 5.941775836972344, 7.941775836972344, 4.941775836972344, 7.941775836972344, 2.9417758369723437, 6.941775836972344, 6.941775836972344, 5.941775836972344, 4.941775836972344, 6.941775836972344, 6.941775836972344, 5.941775836972344, 6.941775836972344, 5.941775836972344, 4.941775836972344, 7.941775836972344, 5.941775836972344, 5.941775836972344, 6.941775836972344, 5.941775836972344, 6.941775836972344, 5.941775836972344, 7.941775836972344, 5.941775836972344, 6.941775836972344, 7.941775836972344, 7.941775836972344, 6.941775836972344, 6.941775836972344, 7.941775836972344, 7.941775836972344, 5.941775836972344, 6.941775836972344, 7.941775836972344, 7.941775836972344, 6.941775836972344, 7.941775836972344, 5.941775836972344, 7.941775836972344, 6.941775836972344, 7.941775836972344, 7.941775836972344, 7.941775836972344, 7.941775836972344, 7.941775836972344, 7.941775836972344, 5.941775836972344, 7.941775836972344, 7.941775836972344, 7.941775836972344, 7.941775836972344, 6.941775836972344, 6.941775836972344, 6.941775836972344, 5.941775836972344, 1.9417758369723437, 5.941775836972344, 7.941775836972344, 2.9417758369723437, 3.9417758369723437, 4.941775836972344, 6.941775836972344, 5.941775836972344, 5.941775836972344, 6.941775836972344, 0.05822416302765632, 3.9417758369723437, 0.9417758369723437, 0.05822416302765632, 3.9417758369723437, 0.9417758369723437, 5.941775836972344, 6.058224163027656, 5.941775836972344, 2.0582241630276563, 0.05822416302765632, 4.058224163027656, 1.0582241630276563, 1.9417758369723437, 0.9417758369723437, 0.9417758369723437, 3.9417758369723437, 1.0582241630276563, 8.058224163027656, 15.058224163027656, 7.058224163027656, 31.058224163027656, 20.058224163027656, 19.058224163027656, 35.05822416302766, 29.058224163027656, 20.058224163027656, 12.058224163027656, 38.05822416302766, 44.05822416302766, 53.05822416302766, 56.05822416302766, 67.05822416302766, 28.058224163027656, 43.05822416302766, 96.05822416302766, 93.05822416302766, 84.05822416302766, 60.05822416302766, 51.05822416302766, 10.058224163027656, 24.058224163027656, 100.05822416302766, 87.05822416302766, 62.05822416302766, 26.058224163027656, 77.05822416302766, 38.05822416302766, 42.05822416302766, 97.05822416302766, 84.05822416302766, 98.05822416302766, 91.05822416302766, 83.05822416302766, 75.05822416302766, 23.058224163027656]\n"
     ]
    }
   ],
   "source": [
    "media:                      int         = tar_positius.mean()\n",
    "print(media)\n",
    "desviacio_media_positius:   list[float]   = []\n",
    "for num_pos in tar_positius:\n",
    "    desviacio_media_positius.append(abs(num_pos-media))\n",
    "        \n",
    "\n",
    "print(desviacio_media_positius)\n"
   ]
  },
  {
   "cell_type": "code",
   "execution_count": 21,
   "metadata": {},
   "outputs": [
    {
     "name": "stdout",
     "output_type": "stream",
     "text": [
      "7.941775836972344\n",
      "DATA\n",
      "2020-03-01     7.941776\n",
      "2020-03-02     7.941776\n",
      "2020-03-03     7.941776\n",
      "2020-03-04     7.941776\n",
      "2020-03-05     7.941776\n",
      "                ...    \n",
      "2022-01-12    98.058224\n",
      "2022-01-13    91.058224\n",
      "2022-01-14    83.058224\n",
      "2022-01-15    75.058224\n",
      "2022-01-16    23.058224\n",
      "Name: TAR_POSITIUS, Length: 687, dtype: float64\n"
     ]
    },
    {
     "data": {
      "text/plain": [
       "<AxesSubplot:>"
      ]
     },
     "execution_count": 21,
     "metadata": {},
     "output_type": "execute_result"
    },
    {
     "data": {
      "image/png": "[encoded data removed]",
      "text/plain": [
       "<Figure size 432x288 with 1 Axes>"
      ]
     },
     "metadata": {
      "needs_background": "light"
     },
     "output_type": "display_data"
    }
   ],
   "source": [
    "#Programació vectorial, es aquella que tracta les llistes (arrays,llistes, vectors) \n",
    "# com si fossin escalars, per no escriure bucles\n",
    "# Això ho permet Pandas, Numpy, Julian, Fortran\n",
    "#desviacio_media_positius.plot.box() no funciona\n",
    "media:                      int         = tar_positius.mean()\n",
    "print(media)\n",
    "desviacio_media_positius_vectorial:   pd.Series = (tar_positius - media).abs()\n",
    "\n",
    "print(desviacio_media_positius_vectorial)\n",
    "\n",
    "desviacio_media_positius_vectorial.plot.box()"
   ]
  }
 ],
 "metadata": {
  "interpreter": {
   "hash": "5c5dcde58a17db171b4bbf149dc04425ccfb83093603899d7cb861876cb6e784"
  },
  "kernelspec": {
   "display_name": "Python 3.9.7 64-bit ('py39': conda)",
   "language": "python",
   "name": "python3"
  },
  "language_info": {
   "codemirror_mode": {
    "name": "ipython",
    "version": 3
   },
   "file_extension": ".py",
   "mimetype": "text/x-python",
   "name": "python",
   "nbconvert_exporter": "python",
   "pygments_lexer": "ipython3",
   "version": "3.9.7"
  },
  "orig_nbformat": 4
 },
 "nbformat": 4,
 "nbformat_minor": 2
}
