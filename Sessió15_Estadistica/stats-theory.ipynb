{
 "cells": [
  {
   "cell_type": "markdown",
   "metadata": {},
   "source": [
    "# Introducción a la Estadística (muy breve)"
   ]
  },
  {
   "cell_type": "markdown",
   "metadata": {},
   "source": [
    "## Referencias\n",
    "\n",
    "- [Khan Academy: Statistics](https://es.khanacademy.org/math/statistics-probability)\n",
    "- [Plotting with Pandas](https://realpython.com/pandas-plot-python/)\n",
    "- [Interactive visualizations with Bokeh](https://realpython.com/python-data-visualization-bokeh/)\n",
    "- [Datos Covid en Catalunya](https://dadescovid.cat/descarregues)\n",
    "\n",
    "## Definiciones\n",
    "\n",
    "- Informática: Es la ciencia que estudia cómo procesar la INFORmación automMÁTICAmente.\n",
    "\n",
    "### Definiciones relacionadas con datos.\n",
    "- Información: Todo aquello que nos interese.\n",
    "- Dato: Unidad de información.\n",
    "\n",
    "### Definiciones relacionadas con predicciones.\n",
    "Aleatoriedad:\n",
    "- Falta aparente de predecibilidad.\n",
    "- El resultado de un suceso aleatorio sólo se puede conocer DESPUÉS de que ocurra el suceso.\n",
    "\n",
    "Probabilidad:\n",
    "- Medida de la certeza de que un suceso ocurra.\n",
    "- Es un número real entre 0 y 1 SIEMPRE.\n",
    "- 0 significa que el suceso es imposible.\n",
    "- 1 significa que el suceso ocurrirá seguro.\n"
   ]
  },
  {
   "cell_type": "markdown",
   "metadata": {},
   "source": [
    "## Definición de Estadística\n",
    "\n",
    "La Estadística es una rama de las matemáticas.\n",
    "Estudia dos cosas:\n",
    "1. La variabilidad de los DATOS.\n",
    "2. Los procesos aleatorios que generan estos datos, es decir la PROBABILIDAD.\n",
    "\n",
    "En europa por el 1663, surgen los primeros escritos de estadística.\n",
    "Estos escritos se refieren a la \"ciencia del estado\" porque tratan de decidir la política del estado en base a datos económicos y demográficos.\n",
    "\n",
    "Bioestadística: Estadística aplicada a las ciencias de la vida.\n",
    "\n"
   ]
  },
  {
   "cell_type": "markdown",
   "metadata": {},
   "source": [
    "# La ramas de la Estadística\n",
    "\n",
    "1. Estadística descriptiva (se centra en los DATOS)\n",
    "Un resumen de los datos.\n",
    "\n",
    "2. Estadística inferencial (se centra en las probabilidades)\n",
    "Extrapolar una información que tengo de unas muestras a toda la población.\n",
    "\n"
   ]
  },
  {
   "cell_type": "markdown",
   "metadata": {},
   "source": [
    "# Pipeline de análisis de datos\n",
    "\n",
    "1. Importar los datos\n",
    "2. Ponerlos en formato tidy\n",
    "3. Caja grande: Visualizar -> Tranformar -> Modelar   [EDA]\n",
    "4. Comunicar\n",
    "\n",
    "EDA = Exploratory Data Analysis. Análisis exploratorio de datos.\n",
    "En EDA se trabajan las dos ramas de la estadística (descriptiva + inferencial)\n"
   ]
  },
  {
   "cell_type": "markdown",
   "metadata": {},
   "source": [
    "# Relación entre datos y probabilidad\n",
    "\n",
    "- Si tenemos datos observados -> Podemos intentar deducir las probablidades que tenían esos sucesos antes de ocurrir.\n",
    "- Si tenemos las probablidades -> Podemos intentar predecir los sucesos que veremos en un futuro.\n",
    "\n"
   ]
  },
  {
   "cell_type": "markdown",
   "metadata": {},
   "source": [
    "# Definiciones\n",
    "\n",
    "- Población: El conjunto de elementos o sucesos que queremos estudiar.\n",
    "- Muestra: El subconjunto de la población que podemos observar.\n",
    "- Variable: Característica de la muestra que podemos medir.\n",
    "\n"
   ]
  },
  {
   "cell_type": "markdown",
   "metadata": {},
   "source": [
    "# Tipos de variables\n",
    "\n",
    "Hay dos tipos.\n",
    "\n",
    "1. Variables cuantitativas: Se describen con números.\n",
    "  - Contínuas: Hay un número infinito de valores. Ejemplo: Peso, altura.\n",
    "  - Discretas: Hay un número finito (normalmente pocos) de valores. Ej: Número de hijos.\n",
    "\n",
    "2. Variables cualitativas: Se describen con texto.\n",
    "  - Ordinales: Tienen un orden implícito. Ej: Excelente > Notable > Bien > Suf\n",
    "  - Nominales: No tienen un orden. Cáncer, Covid19, Sida, Ébola\n",
    "\n",
    "\n"
   ]
  },
  {
   "cell_type": "markdown",
   "metadata": {},
   "source": [
    "# Frecuencias\n",
    "\n",
    "El valor de una variable se le puede llamar también \"frecuencia\".\n",
    "\n",
    "- Frecuencia absoluta: El valor absoluto.\n",
    "- Frecuencia relativa: El valor dividido por el tamaño de la muestra.\n",
    "\n"
   ]
  },
  {
   "cell_type": "markdown",
   "metadata": {},
   "source": [
    "## Estadística descriptiva: Medidas de Tendencia Central\n",
    "\n",
    "En *[estadística descriptiva](https://es.wikipedia.org/wiki/Estad%C3%ADstica_descriptiva)* se utilizan distintas medidas para intentar describir la tendencia central de nuestros datos.\n",
    "\n",
    "Los más simples son los siguientes. Se recomienda implementarlos usando [Python, Pandas y programación vectorial](https://en.wikipedia.org/wiki/Array_programming).\n",
    "\n",
    "* **Media**: La [media aritmética](https://es.wikipedia.org/wiki/Media_aritm%C3%A9tica) es el valor obtenido al sumar todos los *[datos](https://es.wikipedia.org/wiki/Dato)* y dividir el resultado entre el número total elementos.\n",
    "\n",
    "\n",
    "* **Moda**: La <a href=\"https://es.wikipedia.org/wiki/Moda_(estad%C3%ADstica)\">moda</a> es el valor que tiene mayor frecuencia absoluta. Se representa con $M_0$. Ver también [Histogramas](https://es.khanacademy.org/math/cc-sixth-grade-math/cc-6th-data-statistics/histograms/v/histograms-intro).\n",
    "\n",
    "\n",
    "* **Mediana**: La <a href=\"https://es.wikipedia.org/wiki/Mediana_(estad%C3%ADstica)\">mediana</a> es el valor que ocupa el lugar central de todos los datos cuando éstos están ordenados de menor a mayor. Se representa con $\\widetilde{x}$. Recomendable hacer la gráfica de todas las observaciones ordenadas.\n"
   ]
  },
  {
   "cell_type": "markdown",
   "metadata": {},
   "source": [
    "## Estadística descriptiva: Medidas de Variabilidad\n",
    "\n",
    "Para complementar las medidas de tendencia central, se usan las medidas de variabilidad, que describen cómo varían los datos respecto a su centro.\n",
    "\n",
    "Abajo se presentan varios y se vuelve a definir la media, esta vez con su fórmula matemática. Se recomienda implementar las siguientes fórmulas usando [Python, Pandas y programación vectorial](https://en.wikipedia.org/wiki/Array_programming).\n",
    "\n",
    "* **Rango**: El rango es la diferencia entre la observación más alta (máximo) y la más baja (mínimo).\n",
    "\n",
    "\n",
    "* **Media aritmética**: La [media aritmética](https://es.wikipedia.org/wiki/Media_aritm%C3%A9tica) es el valor obtenido al sumar todos los *[datos](https://es.wikipedia.org/wiki/Dato)* y dividir el resultado entre el número total elementos. Se suele representar con la letra griega $\\mu$. Si tenemos una [muestra](https://es.wikipedia.org/wiki/Muestra_estad%C3%ADstica) de $n$ valores, $x_i$, la *media aritmética*, $\\mu$, es la suma de los valores divididos por el numero de elementos; en otras palabras:\n",
    "$$\\mu = \\frac{1}{n} \\sum_{i}x_i$$\n",
    "\n",
    "\n",
    "* **Desviación respecto a la media**: La desviación respecto a la media es la diferencia en valor absoluto entre cada valor de la variable estadística y la media aritmética.\n",
    "$$D_i = |x_i - \\mu|$$\n",
    "\n",
    "\n",
    "* **Varianza**: La [varianza](https://es.wikipedia.org/wiki/Varianza) es la media aritmética del cuadrado de las desviaciones respecto a la media de una distribución estadística. La varianza intenta describir la dispersión de los *[datos](https://es.wikipedia.org/wiki/Dato)*. Se representa como $\\sigma^2$. \n",
    "$$\\sigma^2 = \\frac{\\sum\\limits_{i=1}^n(x_i - \\mu)^2}{n} $$\n",
    "\n",
    "En resumen, la varianza sería la media de las desviaciones al cuadrado\n",
    "\n",
    "* **Desviación típica**: La [desviación típica](https://es.wikipedia.org/wiki/Desviaci%C3%B3n_t%C3%ADpica) es la raíz cuadrada de la varianza. Se representa con la letra griega $\\sigma$.\n",
    "$$\\sigma = \\sqrt{\\frac{\\sum\\limits_{i=1}^n(x_i - \\mu)^2}{n}} $$\n"
   ]
  },
  {
   "cell_type": "markdown",
   "metadata": {},
   "source": [
    "## Estadística descriptiva: Boxplots\n",
    "\n",
    "Otros descriptores complementan a los descriptores presentados arriba.\n",
    "\n",
    "* **Cuantil**: Los [cuantiles](https://es.wikipedia.org/wiki/Cuantil) son puntos tomados a intervalos regulares de la función de distribución de una variable aleatoria. Las muestras se ordenan según sus valores de menor a mayor, y el cuantil es el valor en ese punto. Si el punto se toma en tanto por ciento de las observaciones, se llaman percentil. Si las observaciones se dividen en cuatro cuartos, las tres divisiones se llaman cuartiles (Q1=25%, Q2=50%, Q3=75%). Q2 es la Mediana.\n",
    "\n",
    "![Cuantil](cuantil.jpg \"Cuantil\")\n",
    "\n",
    "El rango intercaurtilico es RI = Q3 − Q1.\n",
    "\n",
    "* **Valor atípico**: Un [valor atípico (outlier)](https://en.wikipedia.org/wiki/Outlier) es una observación que se aleja demasiado de la moda; esta muy lejos de la tendencia principal del resto de los datos. [Siempre hay que considerar su causa.](https://statisticsbyjim.com/basics/remove-outliers/) Si son causados por errores en la lectura de los datos o medidas inusuales se borran, pero si no hay que considerarlos. \n",
    "\n",
    "\n",
    "* **Boxplot**: Un [boxplot](https://towardsdatascience.com/understanding-boxplots-5e2df7bcbd51) es una gráfica que muestra varios descriptores a la vez: Los tres cuartiles, el \"mínimo\" y \"máximo\" calculados y los outliers. [Son usados en muchos ámbitos.](https://www.phoronix.com/scan.php?page=article&item=vulkan-rt-aug21&num=4)"
   ]
  },
  {
   "cell_type": "markdown",
   "metadata": {},
   "source": []
  }
 ],
 "metadata": {
  "kernelspec": {
   "display_name": "Python 3",
   "language": "python",
   "name": "python3"
  },
  "language_info": {
   "codemirror_mode": {
    "name": "ipython",
    "version": 3
   },
   "file_extension": ".py",
   "mimetype": "text/x-python",
   "name": "python",
   "nbconvert_exporter": "python",
   "pygments_lexer": "ipython3",
   "version": "3.9.7"
  }
 },
 "nbformat": 4,
 "nbformat_minor": 4
}
