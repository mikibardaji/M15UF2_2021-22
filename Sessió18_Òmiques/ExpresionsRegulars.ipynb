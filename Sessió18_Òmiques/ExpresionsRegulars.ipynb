{
 "cells": [
  {
   "cell_type": "markdown",
   "metadata": {},
   "source": [
    "# Expresions Regulars\n",
    "\n",
    "*Definició.-* Llenguatge que serveix per expressar patrons de texto.\n",
    "*Patró: * Estructura que es repeteix\n",
    "*Recursos: * \n",
    "\n",
    "· [regexone](www.regexone.com  \"regexone\")  --> Teoría\n",
    "\n",
    "· [regex101](https://regex101.com/  \"regex101\") --> Debugg\n",
    "\n",
    "![[regex_taula]](regex_taula.png \"regex_taula\")\n",
    "\n",
    "Tot el que esta explicat aquí debaix, esta extret de la web regexone.\n",
    "\n",
    "### Tipus de caràcters\n",
    "\n",
    "        "
   ]
  },
  {
   "cell_type": "markdown",
   "metadata": {},
   "source": [
    "- Caràcters Literals: a L, Z, J, 9, 2, #, % => **Qualsevol caràcter no especial**"
   ]
  },
  {
   "cell_type": "markdown",
   "metadata": {},
   "source": [
    "- Caràcters especials:\n",
    "\n",
    "    #### -BACKSLASH: \n",
    "            \n",
    "        Fa que el següent càracter és especial (si no ho és).\n",
    "        Fa que el següent càracter no sigui especial (si ho és).\n",
    "\n",
    "        **Exemples** \n",
    "                \\n (newline)\n",
    "                \\t (tab)\n",
    "                \\. (punt normal, colon, dot)\n",
    "\n",
    "    #### \\d:\n",
    "\n",
    "        Un dígit del 0 al 9\n",
    "\n",
    "    #### \\D:\n",
    "\n",
    "        Un caracter que no és un dígit\n",
    "        Una majúscula significa negació.\n",
    "\n",
    "    #### \\w:\n",
    "\n",
    "        Un carácter alfanumèric: Lletra 'A' o dígit '9' pero no símbol '#'\n",
    "\n",
    "    #### \\W:\n",
    "\n",
    "        Tots menys els alfanumèrics: És a dir símbols (inclou espais)\n",
    "\n",
    "    #### \\s:\n",
    "\n",
    "        whitespace : espais, doble espai, tabuladors, salts de linea.\n",
    "\n",
    "    #### \\S:\n",
    "\n",
    "        Tot lo que no son espais\n"
   ]
  },
  {
   "cell_type": "markdown",
   "metadata": {},
   "source": [
    "- Classes: \n",
    "        \n",
    "  És la unió de varis caràcters. Em permet buscar una ocurrència de qualsevol d'ells.\n",
    "\n",
    "    · Els conectors es posen entre Square Brackets []\n",
    "\n",
    "    · Els [] són caràcters especials.\n",
    "\n",
    "      · **Exemples** \n",
    "          1. Hola a tod[ao]s <= Una clase de 2 lletres hi haurà coincidència tant amb la 'a' i la 'o'\n",
    "          2. Parsejar capçaleres d'un fitxer html (h1,h2,h3,h4,h5,h6)\n",
    "            <h\\d> => tots els numeros inclosos el 0\n",
    "            <h[123456789]> => tots excepte el 0.\n",
    "\n",
    "    · Dins d'una clase hi ha un caràcter que es torna especial segons la seva posició dins la clase. Es el caràcter ^ (CARET)\n",
    "\n",
    "      1. Quant és el primer caràcter dins de la classe, nega tota la classe. \n",
    "            *exemple* [^S] => Busca paraules amb singular  Qualsevol caràcter que no sigui S, [^aeiou] => Buscaria consonants\n",
    "\n",
    "      2. Quant no és el primer dins la clase, és un literal:\n",
    "           [a^eiou] => Busca totes les paraules y el caret\n",
    "\n",
    "![[exemple1exp]](exemple1exp.png \"exemple1exp\")           \n",
    "\n",
    "    · Altre caràcter que es torna especial es el guió - (DASH)\n",
    "\n",
    "      1. Quant esta entre dos caràcters, crea un rang.\n",
    "        *exemple* [0-9] => Tots els dígits entre 0 i 9\n",
    "                  [a-z] => El alfabet amb minúscules, anglès (ASCII,UTF-8)\n",
    "                  [a-zA-Z0-9] => Qualsevol caràcter alfanumèric (\\w)\n",
    "      2. Quant es troba al principi o al final de la classe, és un literal normal.\n",
    "\n",
    "*Busca les lletres minúscules.*\n",
    "![[express2minus.png]](express2minus.png \"express2minus\")  \n",
    "*Busca totes les lletres.*\n",
    "![[express2majus.png]](express2majus.png \"express2majus\") \n",
    "\n",
    "*Busca els espais.*\n",
    "![[express2blancs.png]](express2blancs.png \"express2blancs\") \n",
    "                  \n",
    "\n",
    "\n"
   ]
  },
  {
   "cell_type": "code",
   "execution_count": null,
   "metadata": {},
   "outputs": [],
   "source": []
  }
 ],
 "metadata": {
  "interpreter": {
   "hash": "bc643f84d3d5c4e658b97d5c192bec8ce3a23956675c9ed565d10fd3128aa104"
  },
  "kernelspec": {
   "display_name": "Python 3.9.7 64-bit ('bio': conda)",
   "language": "python",
   "name": "python3"
  },
  "language_info": {
   "codemirror_mode": {
    "name": "ipython",
    "version": 3
   },
   "file_extension": ".py",
   "mimetype": "text/x-python",
   "name": "python",
   "nbconvert_exporter": "python",
   "pygments_lexer": "ipython3",
   "version": "3.9.7"
  },
  "orig_nbformat": 4
 },
 "nbformat": 4,
 "nbformat_minor": 2
}
