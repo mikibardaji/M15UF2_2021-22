{
 "cells": [
  {
   "cell_type": "code",
   "execution_count": 2,
   "metadata": {},
   "outputs": [
    {
     "data": {
      "text/plain": [
       "Seq('AGTACACTGGT')"
      ]
     },
     "execution_count": 2,
     "metadata": {},
     "output_type": "execute_result"
    }
   ],
   "source": [
    "from Bio.Seq import Seq\n",
    "my_seq = Seq(\"AGTACACTGGT\")\n",
    "my_seq"
   ]
  },
  {
   "cell_type": "code",
   "execution_count": 3,
   "metadata": {},
   "outputs": [
    {
     "name": "stdout",
     "output_type": "stream",
     "text": [
      "AGTACACTGGT\n"
     ]
    }
   ],
   "source": [
    "print(my_seq)"
   ]
  },
  {
   "cell_type": "code",
   "execution_count": 4,
   "metadata": {},
   "outputs": [
    {
     "data": {
      "text/plain": [
       "Seq('TCATGTGACCA')"
      ]
     },
     "execution_count": 4,
     "metadata": {},
     "output_type": "execute_result"
    }
   ],
   "source": [
    "#Calcula la sequencia complemento\n",
    "my_seq.complement()"
   ]
  },
  {
   "cell_type": "code",
   "execution_count": 5,
   "metadata": {},
   "outputs": [
    {
     "name": "stderr",
     "output_type": "stream",
     "text": [
      "/home/miki/anaconda3/envs/py39/lib/python3.9/site-packages/Bio/Seq.py:2979: BiopythonWarning: Partial codon, len(sequence) not a multiple of three. Explicitly trim the sequence or add trailing N before translation. This may become an error in future.\n",
      "  warnings.warn(\n"
     ]
    },
    {
     "data": {
      "text/plain": [
       "Seq('STL')"
      ]
     },
     "execution_count": 5,
     "metadata": {},
     "output_type": "execute_result"
    }
   ],
   "source": [
    "my_seq.translate()"
   ]
  },
  {
   "cell_type": "code",
   "execution_count": 6,
   "metadata": {},
   "outputs": [
    {
     "data": {
      "text/plain": [
       "Seq('D')"
      ]
     },
     "execution_count": 6,
     "metadata": {},
     "output_type": "execute_result"
    }
   ],
   "source": [
    "my_seq2 = Seq(\"GAT\")\n",
    "my_seq2.complement()\n",
    "my_seq2.translate()"
   ]
  },
  {
   "cell_type": "code",
   "execution_count": 7,
   "metadata": {},
   "outputs": [
    {
     "data": {
      "text/plain": [
       "['A', 'T', 'A', 'G']"
      ]
     },
     "execution_count": 7,
     "metadata": {},
     "output_type": "execute_result"
    }
   ],
   "source": [
    "my_seq3 = Seq(\"AGTACACTGGT\")\n",
    "list(reversed((\"GATA\")))"
   ]
  },
  {
   "cell_type": "code",
   "execution_count": 8,
   "metadata": {},
   "outputs": [
    {
     "data": {
      "text/plain": [
       "[(0, 'A'), (1, 'T'), (2, 'A'), (3, 'G')]"
      ]
     },
     "execution_count": 8,
     "metadata": {},
     "output_type": "execute_result"
    }
   ],
   "source": [
    "my_seq3 = Seq(\"AGTACACTGGT\")\n",
    "list(enumerate(reversed(\"GATA\")))"
   ]
  },
  {
   "cell_type": "code",
   "execution_count": 9,
   "metadata": {},
   "outputs": [
    {
     "name": "stdout",
     "output_type": "stream",
     "text": [
      "<reversed object at 0x7f22881698e0>\n"
     ]
    },
    {
     "data": {
      "text/plain": [
       "Seq('TGGTCACATGA')"
      ]
     },
     "execution_count": 9,
     "metadata": {},
     "output_type": "execute_result"
    }
   ],
   "source": [
    "my_seq3 = Seq(\"AGTACACTGGT\")\n",
    "# Reverse\n",
    "print(reversed(my_seq3))\n",
    "my_seq3[::-1]\n",
    "\n",
    "#"
   ]
  },
  {
   "cell_type": "code",
   "execution_count": 10,
   "metadata": {},
   "outputs": [],
   "source": [
    "#Strings in python are inmutable"
   ]
  },
  {
   "cell_type": "code",
   "execution_count": 11,
   "metadata": {},
   "outputs": [],
   "source": [
    "#Chapter 4 Sequence annotation objects\n",
    "\n",
    "#Per treballar amb fitxers amb anotacions de diferents seqüencies utilitzarem els fitxers .gerbank, \n",
    "# en canvi el fitxer FASTA, per treballar amb una seqüència sense anotacions.\n",
    "#Llegir fitxers fasta amb biopython\n",
    "\n",
    "#Treballarem partint d'aqui https://www.ncbi.nlm.nih.gov/sars-cov-2/"
   ]
  },
  {
   "cell_type": "code",
   "execution_count": 12,
   "metadata": {},
   "outputs": [
    {
     "data": {
      "text/plain": [
       "['__add__',\n",
       " '__bool__',\n",
       " '__class__',\n",
       " '__contains__',\n",
       " '__delattr__',\n",
       " '__dict__',\n",
       " '__dir__',\n",
       " '__doc__',\n",
       " '__eq__',\n",
       " '__format__',\n",
       " '__ge__',\n",
       " '__getattribute__',\n",
       " '__getitem__',\n",
       " '__gt__',\n",
       " '__hash__',\n",
       " '__init__',\n",
       " '__init_subclass__',\n",
       " '__iter__',\n",
       " '__le__',\n",
       " '__le___',\n",
       " '__len__',\n",
       " '__lt__',\n",
       " '__module__',\n",
       " '__ne__',\n",
       " '__new__',\n",
       " '__radd__',\n",
       " '__reduce__',\n",
       " '__reduce_ex__',\n",
       " '__repr__',\n",
       " '__setattr__',\n",
       " '__sizeof__',\n",
       " '__str__',\n",
       " '__subclasshook__',\n",
       " '__weakref__',\n",
       " '_per_letter_annotations',\n",
       " '_seq',\n",
       " '_set_per_letter_annotations',\n",
       " '_set_seq',\n",
       " 'annotations',\n",
       " 'dbxrefs',\n",
       " 'description',\n",
       " 'features',\n",
       " 'format',\n",
       " 'id',\n",
       " 'letter_annotations',\n",
       " 'lower',\n",
       " 'name',\n",
       " 'reverse_complement',\n",
       " 'seq',\n",
       " 'translate',\n",
       " 'upper']"
      ]
     },
     "execution_count": 12,
     "metadata": {},
     "output_type": "execute_result"
    }
   ],
   "source": [
    "#Chapter ‍5 Sequence Input/Output (tutorial)\n",
    "from Bio import SeqIO\n",
    "from Bio.SeqRecord import SeqRecord\n",
    "from Bio.SeqIO.FastaIO import FastaIterator\n",
    "from Bio.SeqFeature import SeqFeature, FeatureLocation\n",
    "\n",
    "#Mètodes bàsics per llegir fitxers SeqIO.read() i SeqIO.parse()\n",
    "#read : mètodes per llegir UNA SOLA sequència fasta\n",
    "#parse: per llegir moltes seqüències.\n",
    "#Els dos mètodes retornen un SeqRecord\n",
    "#Si es llegeix un fitxer fasta, la fitxa quasi no te cap anotació.\n",
    "\n",
    "record: SeqRecord = SeqIO.read(\"coronavirus.fasta\",\"fasta\")\n",
    "#per veure tots els mètodes del SeqRecord\n",
    "#si comencen per _ son mètodes dels sistema que no s'haurien de cridar.\n",
    "dir(record)\n"
   ]
  },
  {
   "cell_type": "code",
   "execution_count": 13,
   "metadata": {},
   "outputs": [
    {
     "data": {
      "text/plain": [
       "'NC_045512.2'"
      ]
     },
     "execution_count": 13,
     "metadata": {},
     "output_type": "execute_result"
    }
   ],
   "source": [
    "#Obtenim el identificador de seqǜència\n",
    "record.id"
   ]
  },
  {
   "cell_type": "code",
   "execution_count": 14,
   "metadata": {},
   "outputs": [
    {
     "data": {
      "text/plain": [
       "'Pepe'"
      ]
     },
     "execution_count": 14,
     "metadata": {},
     "output_type": "execute_result"
    }
   ],
   "source": [
    "#Podem canviar la id\n",
    "record.id = 'Pepe'\n",
    "record.id"
   ]
  },
  {
   "cell_type": "code",
   "execution_count": 15,
   "metadata": {},
   "outputs": [
    {
     "data": {
      "text/plain": [
       "Seq('ATTAAAGGTTTATACCTTCCCAGGTAACAAACCAACCAACTTTCGATCTCTTGT...AAA')"
      ]
     },
     "execution_count": 15,
     "metadata": {},
     "output_type": "execute_result"
    }
   ],
   "source": [
    "#Per veure la sequencia\n",
    "record.seq"
   ]
  },
  {
   "cell_type": "code",
   "execution_count": 16,
   "metadata": {},
   "outputs": [
    {
     "data": {
      "text/plain": [
       "Bio.Seq.Seq"
      ]
     },
     "execution_count": 16,
     "metadata": {},
     "output_type": "execute_result"
    }
   ],
   "source": [
    "type(record.seq)"
   ]
  },
  {
   "cell_type": "code",
   "execution_count": 17,
   "metadata": {},
   "outputs": [
    {
     "data": {
      "text/plain": [
       "29903"
      ]
     },
     "execution_count": 17,
     "metadata": {},
     "output_type": "execute_result"
    }
   ],
   "source": [
    "#Longitud de la seqüència\n",
    "len(record.seq)"
   ]
  },
  {
   "cell_type": "code",
   "execution_count": 18,
   "metadata": {},
   "outputs": [
    {
     "data": {
      "text/plain": [
       "Seq('ATTAAAGGTTTATACCTTCCCAGGTAACAAACCAACCAACTTTCGATCTCTTGT...AAA')"
      ]
     },
     "execution_count": 18,
     "metadata": {},
     "output_type": "execute_result"
    }
   ],
   "source": [
    "record.seq #Bio.Seq.Seq"
   ]
  },
  {
   "cell_type": "code",
   "execution_count": 19,
   "metadata": {},
   "outputs": [
    {
     "data": {
      "text/plain": [
       "[]"
      ]
     },
     "execution_count": 19,
     "metadata": {},
     "output_type": "execute_result"
    }
   ],
   "source": [
    "record.id #cabecera String\n",
    "record.name #el mateix id String\n",
    "record.description #descripció String\n",
    "record.dbxrefs #llista\n",
    "#Els camps però als fitxers fasta , no son fiables, com si ho son els genbank"
   ]
  },
  {
   "cell_type": "code",
   "execution_count": 20,
   "metadata": {},
   "outputs": [
    {
     "ename": "ValueError",
     "evalue": "More than one record found in handle",
     "output_type": "error",
     "traceback": [
      "\u001b[0;31m---------------------------------------------------------------------------\u001b[0m",
      "\u001b[0;31mValueError\u001b[0m                                Traceback (most recent call last)",
      "\u001b[0;32m/tmp/ipykernel_4677/4510345.py\u001b[0m in \u001b[0;36m<module>\u001b[0;34m\u001b[0m\n\u001b[0;32m----> 1\u001b[0;31m \u001b[0mSeqIO\u001b[0m\u001b[0;34m.\u001b[0m\u001b[0mread\u001b[0m\u001b[0;34m(\u001b[0m\u001b[0;34m\"ls_orchid.fasta\"\u001b[0m\u001b[0;34m,\u001b[0m\u001b[0;34m\"fasta\"\u001b[0m\u001b[0;34m)\u001b[0m \u001b[0;31m# es un multifasta , i dona error\u001b[0m\u001b[0;34m\u001b[0m\u001b[0;34m\u001b[0m\u001b[0m\n\u001b[0m",
      "\u001b[0;32m~/anaconda3/envs/py39/lib/python3.9/site-packages/Bio/SeqIO/__init__.py\u001b[0m in \u001b[0;36mread\u001b[0;34m(handle, format, alphabet)\u001b[0m\n\u001b[1;32m    657\u001b[0m     \u001b[0;32mtry\u001b[0m\u001b[0;34m:\u001b[0m\u001b[0;34m\u001b[0m\u001b[0;34m\u001b[0m\u001b[0m\n\u001b[1;32m    658\u001b[0m         \u001b[0mnext\u001b[0m\u001b[0;34m(\u001b[0m\u001b[0miterator\u001b[0m\u001b[0;34m)\u001b[0m\u001b[0;34m\u001b[0m\u001b[0;34m\u001b[0m\u001b[0m\n\u001b[0;32m--> 659\u001b[0;31m         \u001b[0;32mraise\u001b[0m \u001b[0mValueError\u001b[0m\u001b[0;34m(\u001b[0m\u001b[0;34m\"More than one record found in handle\"\u001b[0m\u001b[0;34m)\u001b[0m\u001b[0;34m\u001b[0m\u001b[0;34m\u001b[0m\u001b[0m\n\u001b[0m\u001b[1;32m    660\u001b[0m     \u001b[0;32mexcept\u001b[0m \u001b[0mStopIteration\u001b[0m\u001b[0;34m:\u001b[0m\u001b[0;34m\u001b[0m\u001b[0;34m\u001b[0m\u001b[0m\n\u001b[1;32m    661\u001b[0m         \u001b[0;32mpass\u001b[0m\u001b[0;34m\u001b[0m\u001b[0;34m\u001b[0m\u001b[0m\n",
      "\u001b[0;31mValueError\u001b[0m: More than one record found in handle"
     ]
    }
   ],
   "source": [
    "SeqIO.read(\"ls_orchid.fasta\",\"fasta\") # es un multifasta , i dona error"
   ]
  },
  {
   "cell_type": "markdown",
   "metadata": {},
   "source": [
    "# Jerarquia de clases a la lectura de fitxers FASTA i GENBANK\n",
    "\n",
    "![[jerarquia]](jerarquia.png \"jerarqui\")"
   ]
  },
  {
   "cell_type": "code",
   "execution_count": null,
   "metadata": {},
   "outputs": [
    {
     "name": "stdout",
     "output_type": "stream",
     "text": [
      "gi|2765658|emb|Z78533.1|CIZ78533, gi|2765657|emb|Z78532.1|CCZ78532, gi|2765656|emb|Z78531.1|CFZ78531, gi|2765655|emb|Z78530.1|CMZ78530, gi|2765654|emb|Z78529.1|CLZ78529, gi|2765652|emb|Z78527.1|CYZ78527, gi|2765651|emb|Z78526.1|CGZ78526, gi|2765650|emb|Z78525.1|CAZ78525, gi|2765649|emb|Z78524.1|CFZ78524, gi|2765648|emb|Z78523.1|CHZ78523, gi|2765647|emb|Z78522.1|CMZ78522, gi|2765646|emb|Z78521.1|CCZ78521, gi|2765645|emb|Z78520.1|CSZ78520, gi|2765644|emb|Z78519.1|CPZ78519, gi|2765643|emb|Z78518.1|CRZ78518, gi|2765642|emb|Z78517.1|CFZ78517, gi|2765641|emb|Z78516.1|CPZ78516, gi|2765640|emb|Z78515.1|MXZ78515, gi|2765639|emb|Z78514.1|PSZ78514, gi|2765638|emb|Z78513.1|PBZ78513, gi|2765637|emb|Z78512.1|PWZ78512, gi|2765636|emb|Z78511.1|PEZ78511, gi|2765635|emb|Z78510.1|PCZ78510, gi|2765634|emb|Z78509.1|PPZ78509, gi|2765633|emb|Z78508.1|PLZ78508, gi|2765632|emb|Z78507.1|PLZ78507, gi|2765631|emb|Z78506.1|PLZ78506, gi|2765630|emb|Z78505.1|PSZ78505, gi|2765629|emb|Z78504.1|PKZ78504, gi|2765628|emb|Z78503.1|PCZ78503, gi|2765627|emb|Z78502.1|PBZ78502, gi|2765626|emb|Z78501.1|PCZ78501, gi|2765625|emb|Z78500.1|PWZ78500, gi|2765624|emb|Z78499.1|PMZ78499, gi|2765623|emb|Z78498.1|PMZ78498, gi|2765622|emb|Z78497.1|PDZ78497, gi|2765621|emb|Z78496.1|PAZ78496, gi|2765620|emb|Z78495.1|PEZ78495, gi|2765619|emb|Z78494.1|PNZ78494, gi|2765618|emb|Z78493.1|PGZ78493, gi|2765617|emb|Z78492.1|PBZ78492, gi|2765616|emb|Z78491.1|PCZ78491, gi|2765615|emb|Z78490.1|PFZ78490, gi|2765614|emb|Z78489.1|PDZ78489, gi|2765613|emb|Z78488.1|PTZ78488, gi|2765612|emb|Z78487.1|PHZ78487, gi|2765611|emb|Z78486.1|PBZ78486, gi|2765610|emb|Z78485.1|PHZ78485, gi|2765609|emb|Z78484.1|PCZ78484, gi|2765608|emb|Z78483.1|PVZ78483, gi|2765607|emb|Z78482.1|PEZ78482, gi|2765606|emb|Z78481.1|PIZ78481, gi|2765605|emb|Z78480.1|PGZ78480, gi|2765604|emb|Z78479.1|PPZ78479, gi|2765603|emb|Z78478.1|PVZ78478, gi|2765602|emb|Z78477.1|PVZ78477, gi|2765601|emb|Z78476.1|PGZ78476, gi|2765600|emb|Z78475.1|PSZ78475, gi|2765599|emb|Z78474.1|PKZ78474, gi|2765598|emb|Z78473.1|PSZ78473, gi|2765597|emb|Z78472.1|PLZ78472, gi|2765596|emb|Z78471.1|PDZ78471, gi|2765595|emb|Z78470.1|PPZ78470, gi|2765594|emb|Z78469.1|PHZ78469, gi|2765593|emb|Z78468.1|PAZ78468, gi|2765592|emb|Z78467.1|PSZ78467, gi|2765591|emb|Z78466.1|PPZ78466, gi|2765590|emb|Z78465.1|PRZ78465, gi|2765589|emb|Z78464.1|PGZ78464, gi|2765588|emb|Z78463.1|PGZ78463, gi|2765587|emb|Z78462.1|PSZ78462, gi|2765586|emb|Z78461.1|PWZ78461, gi|2765585|emb|Z78460.1|PCZ78460, gi|2765584|emb|Z78459.1|PDZ78459, gi|2765583|emb|Z78458.1|PHZ78458, gi|2765582|emb|Z78457.1|PCZ78457, gi|2765581|emb|Z78456.1|PTZ78456, gi|2765580|emb|Z78455.1|PJZ78455, gi|2765579|emb|Z78454.1|PFZ78454, gi|2765578|emb|Z78453.1|PSZ78453, gi|2765577|emb|Z78452.1|PBZ78452, gi|2765576|emb|Z78451.1|PHZ78451, gi|2765575|emb|Z78450.1|PPZ78450, gi|2765574|emb|Z78449.1|PMZ78449, gi|2765573|emb|Z78448.1|PAZ78448, gi|2765572|emb|Z78447.1|PVZ78447, gi|2765571|emb|Z78446.1|PAZ78446, gi|2765570|emb|Z78445.1|PUZ78445, gi|2765569|emb|Z78444.1|PAZ78444, gi|2765568|emb|Z78443.1|PLZ78443, gi|2765567|emb|Z78442.1|PBZ78442, gi|2765566|emb|Z78441.1|PSZ78441, gi|2765565|emb|Z78440.1|PPZ78440, gi|2765564|emb|Z78439.1|PBZ78439, "
     ]
    }
   ],
   "source": [
    "#llegir en una llista de record\n",
    "record_list: list[SeqRecord] = list(SeqIO.parse(\"ls_orchid.fasta\",\"fasta\"))\n",
    "\n",
    "len(record_list)\n",
    "record_list[0].seq\n",
    "\n",
    "from Bio.SeqIO.FastaIO import FastaIterator\n",
    "#Multifasta: Llegir totes les seqüències del multifasta, amb RAM\n",
    "iterator: FastaIterator = SeqIO.parse(\"ls_orchid.fasta\",\"fasta\")\n",
    "\n",
    "for record in iterator:\n",
    "    print(record.id, end=', ')\n",
    "\n",
    "#Iterator son eficientes perque ocupen amb memoria sol el registre\n",
    "#un iterator no pot anar endarrere i no podem borrar, perque et \"carregues\" el iterator."
   ]
  },
  {
   "cell_type": "code",
   "execution_count": null,
   "metadata": {},
   "outputs": [],
   "source": [
    "#WARNING: si ja hem llegit el iterador, ja es troba al final\n",
    "for record in iterator:\n",
    "    print(record.id, end=', ')"
   ]
  },
  {
   "cell_type": "code",
   "execution_count": null,
   "metadata": {},
   "outputs": [
    {
     "data": {
      "text/plain": [
       "'gi|2765658|emb|Z78533.1|CIZ78533'"
      ]
     },
     "execution_count": 24,
     "metadata": {},
     "output_type": "execute_result"
    }
   ],
   "source": [
    "iterator: FastaIterator = SeqIO.parse(\"ls_orchid.fasta\",\"fasta\")\n",
    "\n",
    "record: SeqRecord = next(iterator)\n",
    "\n",
    "record.id"
   ]
  },
  {
   "cell_type": "code",
   "execution_count": null,
   "metadata": {},
   "outputs": [
    {
     "data": {
      "text/plain": [
       "[SeqFeature(FeatureLocation(ExactPosition(0), ExactPosition(29903), strand=1), type='source'),\n",
       " SeqFeature(FeatureLocation(ExactPosition(0), ExactPosition(265), strand=1), type=\"5'UTR\"),\n",
       " SeqFeature(FeatureLocation(ExactPosition(265), ExactPosition(21555), strand=1), type='gene'),\n",
       " SeqFeature(CompoundLocation([FeatureLocation(ExactPosition(265), ExactPosition(13468), strand=1), FeatureLocation(ExactPosition(13467), ExactPosition(21555), strand=1)], 'join'), type='CDS', location_operator='join'),\n",
       " SeqFeature(FeatureLocation(ExactPosition(265), ExactPosition(805), strand=1), type='mat_peptide'),\n",
       " SeqFeature(FeatureLocation(ExactPosition(805), ExactPosition(2719), strand=1), type='mat_peptide'),\n",
       " SeqFeature(FeatureLocation(ExactPosition(2719), ExactPosition(8554), strand=1), type='mat_peptide'),\n",
       " SeqFeature(FeatureLocation(ExactPosition(8554), ExactPosition(10054), strand=1), type='mat_peptide'),\n",
       " SeqFeature(FeatureLocation(ExactPosition(10054), ExactPosition(10972), strand=1), type='mat_peptide'),\n",
       " SeqFeature(FeatureLocation(ExactPosition(10972), ExactPosition(11842), strand=1), type='mat_peptide'),\n",
       " SeqFeature(FeatureLocation(ExactPosition(11842), ExactPosition(12091), strand=1), type='mat_peptide'),\n",
       " SeqFeature(FeatureLocation(ExactPosition(12091), ExactPosition(12685), strand=1), type='mat_peptide'),\n",
       " SeqFeature(FeatureLocation(ExactPosition(12685), ExactPosition(13024), strand=1), type='mat_peptide'),\n",
       " SeqFeature(FeatureLocation(ExactPosition(13024), ExactPosition(13441), strand=1), type='mat_peptide'),\n",
       " SeqFeature(CompoundLocation([FeatureLocation(ExactPosition(13441), ExactPosition(13468), strand=1), FeatureLocation(ExactPosition(13467), ExactPosition(16236), strand=1)], 'join'), type='mat_peptide', location_operator='join'),\n",
       " SeqFeature(FeatureLocation(ExactPosition(16236), ExactPosition(18039), strand=1), type='mat_peptide'),\n",
       " SeqFeature(FeatureLocation(ExactPosition(18039), ExactPosition(19620), strand=1), type='mat_peptide'),\n",
       " SeqFeature(FeatureLocation(ExactPosition(19620), ExactPosition(20658), strand=1), type='mat_peptide'),\n",
       " SeqFeature(FeatureLocation(ExactPosition(20658), ExactPosition(21552), strand=1), type='mat_peptide'),\n",
       " SeqFeature(FeatureLocation(ExactPosition(265), ExactPosition(13483), strand=1), type='CDS'),\n",
       " SeqFeature(FeatureLocation(ExactPosition(265), ExactPosition(805), strand=1), type='mat_peptide'),\n",
       " SeqFeature(FeatureLocation(ExactPosition(805), ExactPosition(2719), strand=1), type='mat_peptide'),\n",
       " SeqFeature(FeatureLocation(ExactPosition(2719), ExactPosition(8554), strand=1), type='mat_peptide'),\n",
       " SeqFeature(FeatureLocation(ExactPosition(8554), ExactPosition(10054), strand=1), type='mat_peptide'),\n",
       " SeqFeature(FeatureLocation(ExactPosition(10054), ExactPosition(10972), strand=1), type='mat_peptide'),\n",
       " SeqFeature(FeatureLocation(ExactPosition(10972), ExactPosition(11842), strand=1), type='mat_peptide'),\n",
       " SeqFeature(FeatureLocation(ExactPosition(11842), ExactPosition(12091), strand=1), type='mat_peptide'),\n",
       " SeqFeature(FeatureLocation(ExactPosition(12091), ExactPosition(12685), strand=1), type='mat_peptide'),\n",
       " SeqFeature(FeatureLocation(ExactPosition(12685), ExactPosition(13024), strand=1), type='mat_peptide'),\n",
       " SeqFeature(FeatureLocation(ExactPosition(13024), ExactPosition(13441), strand=1), type='mat_peptide'),\n",
       " SeqFeature(FeatureLocation(ExactPosition(13441), ExactPosition(13480), strand=1), type='mat_peptide'),\n",
       " SeqFeature(FeatureLocation(ExactPosition(13475), ExactPosition(13503), strand=1), type='stem_loop'),\n",
       " SeqFeature(FeatureLocation(ExactPosition(13487), ExactPosition(13542), strand=1), type='stem_loop'),\n",
       " SeqFeature(FeatureLocation(ExactPosition(21562), ExactPosition(25384), strand=1), type='gene'),\n",
       " SeqFeature(FeatureLocation(ExactPosition(21562), ExactPosition(25384), strand=1), type='CDS'),\n",
       " SeqFeature(FeatureLocation(ExactPosition(25392), ExactPosition(26220), strand=1), type='gene'),\n",
       " SeqFeature(FeatureLocation(ExactPosition(25392), ExactPosition(26220), strand=1), type='CDS'),\n",
       " SeqFeature(FeatureLocation(ExactPosition(26244), ExactPosition(26472), strand=1), type='gene'),\n",
       " SeqFeature(FeatureLocation(ExactPosition(26244), ExactPosition(26472), strand=1), type='CDS'),\n",
       " SeqFeature(FeatureLocation(ExactPosition(26522), ExactPosition(27191), strand=1), type='gene'),\n",
       " SeqFeature(FeatureLocation(ExactPosition(26522), ExactPosition(27191), strand=1), type='CDS'),\n",
       " SeqFeature(FeatureLocation(ExactPosition(27201), ExactPosition(27387), strand=1), type='gene'),\n",
       " SeqFeature(FeatureLocation(ExactPosition(27201), ExactPosition(27387), strand=1), type='CDS'),\n",
       " SeqFeature(FeatureLocation(ExactPosition(27393), ExactPosition(27759), strand=1), type='gene'),\n",
       " SeqFeature(FeatureLocation(ExactPosition(27393), ExactPosition(27759), strand=1), type='CDS'),\n",
       " SeqFeature(FeatureLocation(ExactPosition(27755), ExactPosition(27887), strand=1), type='gene'),\n",
       " SeqFeature(FeatureLocation(ExactPosition(27755), ExactPosition(27887), strand=1), type='CDS'),\n",
       " SeqFeature(FeatureLocation(ExactPosition(27893), ExactPosition(28259), strand=1), type='gene'),\n",
       " SeqFeature(FeatureLocation(ExactPosition(27893), ExactPosition(28259), strand=1), type='CDS'),\n",
       " SeqFeature(FeatureLocation(ExactPosition(28273), ExactPosition(29533), strand=1), type='gene'),\n",
       " SeqFeature(FeatureLocation(ExactPosition(28273), ExactPosition(29533), strand=1), type='CDS'),\n",
       " SeqFeature(FeatureLocation(ExactPosition(29557), ExactPosition(29674), strand=1), type='gene'),\n",
       " SeqFeature(FeatureLocation(ExactPosition(29557), ExactPosition(29674), strand=1), type='CDS'),\n",
       " SeqFeature(FeatureLocation(ExactPosition(29608), ExactPosition(29644), strand=1), type='stem_loop'),\n",
       " SeqFeature(FeatureLocation(ExactPosition(29628), ExactPosition(29657), strand=1), type='stem_loop'),\n",
       " SeqFeature(FeatureLocation(ExactPosition(29674), ExactPosition(29903), strand=1), type=\"3'UTR\"),\n",
       " SeqFeature(FeatureLocation(ExactPosition(29727), ExactPosition(29768), strand=1), type='stem_loop')]"
      ]
     },
     "execution_count": 41,
     "metadata": {},
     "output_type": "execute_result"
    }
   ],
   "source": [
    "#Chapter 5: Input/Output de ficheros GENBANK\n",
    "record: SeqRecord = SeqIO.read(\"coronavirus.gb\",\"genbank\")\n",
    "dir(record)\n",
    "\n",
    "#camps que tenen el SeqRecord\n",
    "#'annotations',\n",
    "# 'id', identificador\n",
    "# 'name', name que normalment és el id.\n",
    "#'dbxrefs', cross references\n",
    "#'description',\n",
    "# 'features',\n",
    "#'format',\n",
    "\n",
    "# 'letter_annotations',\n",
    "# 'lower',\n",
    "\n",
    "# 'reverse_complement',\n",
    "# 'seq', sequencia\n",
    "# 'translate',\n",
    "# 'upper']\n",
    "\n",
    "record.seq                  #Bio.Seq.Seq\n",
    "record.id                   #str\n",
    "record.name                 #str\n",
    "record.description          #str\n",
    "record.dbxrefs              #list[str]\n",
    "record.annotations          #dict --> Aquest es el contexte de la seqüència\n",
    "record.letter_annotations   #dict Informació i contexte\n",
    "record.features             #list Característiques i annotacions"
   ]
  },
  {
   "cell_type": "code",
   "execution_count": 21,
   "metadata": {},
   "outputs": [
    {
     "ename": "IndexError",
     "evalue": "list index out of range",
     "output_type": "error",
     "traceback": [
      "\u001b[0;31m---------------------------------------------------------------------------\u001b[0m",
      "\u001b[0;31mIndexError\u001b[0m                                Traceback (most recent call last)",
      "\u001b[0;32m/tmp/ipykernel_4677/705494882.py\u001b[0m in \u001b[0;36m<module>\u001b[0;34m\u001b[0m\n\u001b[1;32m      1\u001b[0m \u001b[0;31m# Un SeqFeatrue es una anotació dins la secció FEATURES.\u001b[0m\u001b[0;34m\u001b[0m\u001b[0;34m\u001b[0m\u001b[0m\n\u001b[1;32m      2\u001b[0m \u001b[0;31m# Els camps dins de la Features\u001b[0m\u001b[0;34m\u001b[0m\u001b[0;34m\u001b[0m\u001b[0m\n\u001b[0;32m----> 3\u001b[0;31m \u001b[0msource_feature\u001b[0m\u001b[0;34m:\u001b[0m \u001b[0mSeqFeature\u001b[0m \u001b[0;34m=\u001b[0m \u001b[0mrecord\u001b[0m\u001b[0;34m.\u001b[0m\u001b[0mfeatures\u001b[0m\u001b[0;34m[\u001b[0m\u001b[0;36m0\u001b[0m\u001b[0;34m]\u001b[0m\u001b[0;34m;\u001b[0m\u001b[0;34m\u001b[0m\u001b[0;34m\u001b[0m\u001b[0m\n\u001b[0m\u001b[1;32m      4\u001b[0m \u001b[0mprint\u001b[0m\u001b[0;34m(\u001b[0m\u001b[0msource_feature\u001b[0m\u001b[0;34m)\u001b[0m\u001b[0;34m\u001b[0m\u001b[0;34m\u001b[0m\u001b[0m\n\u001b[1;32m      5\u001b[0m \u001b[0;34m\u001b[0m\u001b[0m\n",
      "\u001b[0;31mIndexError\u001b[0m: list index out of range"
     ]
    }
   ],
   "source": [
    "# Un SeqFeatrue es una anotació dins la secció FEATURES.\n",
    "# Els camps dins de la Features\n",
    "source_feature: SeqFeature = record.features[0];\n",
    "print(source_feature)\n",
    "\n",
    "#location: [0:29903](+) <-- això es un stram si es positiu cadena directa, sinò cadena indirecta.\n"
   ]
  },
  {
   "cell_type": "code",
   "execution_count": null,
   "metadata": {},
   "outputs": [
    {
     "ename": "NameError",
     "evalue": "name 'source_feature' is not defined",
     "output_type": "error",
     "traceback": [
      "\u001b[0;31m---------------------------------------------------------------------------\u001b[0m",
      "\u001b[0;31mNameError\u001b[0m                                 Traceback (most recent call last)",
      "\u001b[0;32m/tmp/ipykernel_4677/4032733674.py\u001b[0m in \u001b[0;36m<module>\u001b[0;34m\u001b[0m\n\u001b[0;32m----> 1\u001b[0;31m \u001b[0mdir\u001b[0m\u001b[0;34m(\u001b[0m\u001b[0msource_feature\u001b[0m\u001b[0;34m)\u001b[0m\u001b[0;34m\u001b[0m\u001b[0;34m\u001b[0m\u001b[0m\n\u001b[0m\u001b[1;32m      2\u001b[0m \u001b[0;34m\u001b[0m\u001b[0m\n\u001b[1;32m      3\u001b[0m  \u001b[0;31m#'extract', talla a partir del punt que li diguid\u001b[0m\u001b[0;34m\u001b[0m\u001b[0;34m\u001b[0m\u001b[0m\n\u001b[1;32m      4\u001b[0m  \u001b[0;31m#'id',\u001b[0m\u001b[0;34m\u001b[0m\u001b[0;34m\u001b[0m\u001b[0m\n\u001b[1;32m      5\u001b[0m  \u001b[0;31m#'location',\u001b[0m\u001b[0;34m\u001b[0m\u001b[0;34m\u001b[0m\u001b[0m\n",
      "\u001b[0;31mNameError\u001b[0m: name 'source_feature' is not defined"
     ]
    }
   ],
   "source": [
    "dir(source_feature)\n",
    "\n",
    " #'extract', talla a partir del punt que li diguid\n",
    " #'id',\n",
    " #'location',\n",
    " #'location_operator',\n",
    " #'qualifiers',\n",
    " #'ref',\n",
    " #'ref_db',\n",
    " #'strand',\n",
    " #'translate', te tradueix la cadena\n",
    " #'type' \n",
    "\n",
    "source_feature.type         #str\n",
    "source_feature.id           #str\n",
    "source_feature.location     #str\n",
    "source_feature.strand       #int (hebra directa )\n",
    "source_feature.ref          #str\n",
    "source_feature.ref_db       #str\n",
    "source_feature.qualifiers   #dict\n",
    "\n",
    "source_location: FeatureLocation = dict(source_feature.qualifiers)\n",
    "\n",
    "dir(source_location)\n",
    "\n",
    "# 'clear',\n",
    "# 'copy',\n",
    "# 'fromkeys',\n",
    "# 'get',\n",
    "# 'items',\n",
    "# 'keys',\n",
    "# 'pop',\n",
    "# 'popitem',\n",
    "# 'setdefault',\n",
    "# 'update',\n",
    "# 'values'\n",
    "\n",
    "#Veure la jerarquia de totes les classes dins aquest directori imatge jerarquia.png\n",
    "source_location.strand #int 1 = Hebra Directa -1 = Hebra indirecta\n",
    "source_location.start  #4.3.2.3 Fuzzy Positions\n",
    "source_location.end    #4.3.2.3 Fuzzy Positions\n",
    "source_location.ref \n",
    "source_location.nofuzzy_start #posició ambigüa   "
   ]
  }
 ],
 "metadata": {
  "interpreter": {
   "hash": "bc643f84d3d5c4e658b97d5c192bec8ce3a23956675c9ed565d10fd3128aa104"
  },
  "kernelspec": {
   "display_name": "Python 3.9.7 64-bit ('bio': conda)",
   "language": "python",
   "name": "python3"
  },
  "language_info": {
   "codemirror_mode": {
    "name": "ipython",
    "version": 3
   },
   "file_extension": ".py",
   "mimetype": "text/x-python",
   "name": "python",
   "nbconvert_exporter": "python",
   "pygments_lexer": "ipython3",
   "version": "3.9.7"
  },
  "orig_nbformat": 4
 },
 "nbformat": 4,
 "nbformat_minor": 2
}
