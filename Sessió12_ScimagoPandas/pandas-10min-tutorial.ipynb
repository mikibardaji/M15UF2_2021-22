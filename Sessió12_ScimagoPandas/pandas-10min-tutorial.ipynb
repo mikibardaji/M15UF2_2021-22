{
 "cells": [
  {
   "cell_type": "code",
   "execution_count": 1,
   "metadata": {},
   "outputs": [],
   "source": [
    "import copy\n",
    "\n",
    "import numpy as np\n",
    "import pandas as pd"
   ]
  },
  {
   "cell_type": "markdown",
   "metadata": {},
   "source": [
    "# 1. About\n",
    "- This Jupyter Lab notebook follow the tutorial in the official Pandas documentation.\n",
    "- It is called \"10 minutes to pandas\"."
   ]
  },
  {
   "cell_type": "markdown",
   "metadata": {},
   "source": [
    "# 2. Introduction (Object creation + Viewing data)"
   ]
  },
  {
   "cell_type": "markdown",
   "metadata": {},
   "source": [
    "## 2.1 Example from the '10 minutes to pandas'"
   ]
  },
  {
   "cell_type": "code",
   "execution_count": 2,
   "metadata": {},
   "outputs": [
    {
     "data": {
      "text/html": [
       "<div>\n",
       "<style scoped>\n",
       "    .dataframe tbody tr th:only-of-type {\n",
       "        vertical-align: middle;\n",
       "    }\n",
       "\n",
       "    .dataframe tbody tr th {\n",
       "        vertical-align: top;\n",
       "    }\n",
       "\n",
       "    .dataframe thead th {\n",
       "        text-align: right;\n",
       "    }\n",
       "</style>\n",
       "<table border=\"1\" class=\"dataframe\">\n",
       "  <thead>\n",
       "    <tr style=\"text-align: right;\">\n",
       "      <th></th>\n",
       "      <th>A</th>\n",
       "      <th>B</th>\n",
       "      <th>C</th>\n",
       "      <th>D</th>\n",
       "    </tr>\n",
       "  </thead>\n",
       "  <tbody>\n",
       "    <tr>\n",
       "      <th>2013-01-01</th>\n",
       "      <td>0.276059</td>\n",
       "      <td>1.631608</td>\n",
       "      <td>-0.411694</td>\n",
       "      <td>-0.837094</td>\n",
       "    </tr>\n",
       "    <tr>\n",
       "      <th>2013-01-02</th>\n",
       "      <td>-0.538334</td>\n",
       "      <td>-0.662998</td>\n",
       "      <td>0.311124</td>\n",
       "      <td>-0.706487</td>\n",
       "    </tr>\n",
       "    <tr>\n",
       "      <th>2013-01-03</th>\n",
       "      <td>0.618913</td>\n",
       "      <td>0.636513</td>\n",
       "      <td>-0.081085</td>\n",
       "      <td>-0.983302</td>\n",
       "    </tr>\n",
       "    <tr>\n",
       "      <th>2013-01-04</th>\n",
       "      <td>0.483804</td>\n",
       "      <td>-0.871470</td>\n",
       "      <td>-2.200646</td>\n",
       "      <td>1.445253</td>\n",
       "    </tr>\n",
       "    <tr>\n",
       "      <th>2013-01-05</th>\n",
       "      <td>0.728478</td>\n",
       "      <td>0.438622</td>\n",
       "      <td>-0.311934</td>\n",
       "      <td>-1.284049</td>\n",
       "    </tr>\n",
       "    <tr>\n",
       "      <th>2013-01-06</th>\n",
       "      <td>0.809170</td>\n",
       "      <td>2.698371</td>\n",
       "      <td>0.576049</td>\n",
       "      <td>0.123526</td>\n",
       "    </tr>\n",
       "  </tbody>\n",
       "</table>\n",
       "</div>"
      ],
      "text/plain": [
       "                   A         B         C         D\n",
       "2013-01-01  0.276059  1.631608 -0.411694 -0.837094\n",
       "2013-01-02 -0.538334 -0.662998  0.311124 -0.706487\n",
       "2013-01-03  0.618913  0.636513 -0.081085 -0.983302\n",
       "2013-01-04  0.483804 -0.871470 -2.200646  1.445253\n",
       "2013-01-05  0.728478  0.438622 -0.311934 -1.284049\n",
       "2013-01-06  0.809170  2.698371  0.576049  0.123526"
      ]
     },
     "execution_count": 2,
     "metadata": {},
     "output_type": "execute_result"
    }
   ],
   "source": [
    "dates = pd.date_range(\"2013-01-01\", periods=6)\n",
    "\n",
    "df1: pd.DataFrame = pd.DataFrame(data=np.random.randn(6, 4),\n",
    "                                 index=dates,\n",
    "                                 columns=['A', 'B', 'C', 'D'])\n",
    "\n",
    "df1"
   ]
  },
  {
   "cell_type": "code",
   "execution_count": 3,
   "metadata": {},
   "outputs": [
    {
     "data": {
      "text/plain": [
       "array([[ 0.76994864,  0.25528971, -2.53591554, -0.46510687],\n",
       "       [-0.7399456 ,  0.23964125, -1.10762804, -0.19783881],\n",
       "       [ 0.43495194, -1.60152558, -1.18695504,  0.05297793],\n",
       "       [-1.0930374 , -0.19258587,  1.15821687, -2.30368619],\n",
       "       [-1.23884204, -0.30966247, -1.29782629, -0.84416682],\n",
       "       [-0.59868072, -0.79606605,  0.67172837,  0.98262978]])"
      ]
     },
     "execution_count": 3,
     "metadata": {},
     "output_type": "execute_result"
    }
   ],
   "source": [
    "np.random.randn(6, 4)"
   ]
  },
  {
   "cell_type": "code",
   "execution_count": 4,
   "metadata": {},
   "outputs": [
    {
     "data": {
      "text/plain": [
       "['A', 'B', 'C', 'D']"
      ]
     },
     "execution_count": 4,
     "metadata": {},
     "output_type": "execute_result"
    }
   ],
   "source": [
    "list(\"ABCD\")"
   ]
  },
  {
   "cell_type": "code",
   "execution_count": 5,
   "metadata": {},
   "outputs": [
    {
     "data": {
      "text/html": [
       "<div>\n",
       "<style scoped>\n",
       "    .dataframe tbody tr th:only-of-type {\n",
       "        vertical-align: middle;\n",
       "    }\n",
       "\n",
       "    .dataframe tbody tr th {\n",
       "        vertical-align: top;\n",
       "    }\n",
       "\n",
       "    .dataframe thead th {\n",
       "        text-align: right;\n",
       "    }\n",
       "</style>\n",
       "<table border=\"1\" class=\"dataframe\">\n",
       "  <thead>\n",
       "    <tr style=\"text-align: right;\">\n",
       "      <th></th>\n",
       "      <th>A</th>\n",
       "      <th>B</th>\n",
       "      <th>C</th>\n",
       "      <th>D</th>\n",
       "      <th>E</th>\n",
       "      <th>F</th>\n",
       "    </tr>\n",
       "  </thead>\n",
       "  <tbody>\n",
       "    <tr>\n",
       "      <th>0</th>\n",
       "      <td>1.0</td>\n",
       "      <td>2013-01-02</td>\n",
       "      <td>1.0</td>\n",
       "      <td>3</td>\n",
       "      <td>test</td>\n",
       "      <td>foo</td>\n",
       "    </tr>\n",
       "    <tr>\n",
       "      <th>1</th>\n",
       "      <td>1.0</td>\n",
       "      <td>2013-01-02</td>\n",
       "      <td>1.0</td>\n",
       "      <td>3</td>\n",
       "      <td>train</td>\n",
       "      <td>foo</td>\n",
       "    </tr>\n",
       "    <tr>\n",
       "      <th>2</th>\n",
       "      <td>1.0</td>\n",
       "      <td>2013-01-02</td>\n",
       "      <td>1.0</td>\n",
       "      <td>3</td>\n",
       "      <td>test</td>\n",
       "      <td>foo</td>\n",
       "    </tr>\n",
       "    <tr>\n",
       "      <th>3</th>\n",
       "      <td>1.0</td>\n",
       "      <td>2013-01-02</td>\n",
       "      <td>1.0</td>\n",
       "      <td>3</td>\n",
       "      <td>train</td>\n",
       "      <td>foo</td>\n",
       "    </tr>\n",
       "  </tbody>\n",
       "</table>\n",
       "</div>"
      ],
      "text/plain": [
       "     A          B    C  D      E    F\n",
       "0  1.0 2013-01-02  1.0  3   test  foo\n",
       "1  1.0 2013-01-02  1.0  3  train  foo\n",
       "2  1.0 2013-01-02  1.0  3   test  foo\n",
       "3  1.0 2013-01-02  1.0  3  train  foo"
      ]
     },
     "execution_count": 5,
     "metadata": {},
     "output_type": "execute_result"
    }
   ],
   "source": [
    "df2: pd.DataFrame = pd.DataFrame(\n",
    "    {\n",
    "        \"A\": 1.0,\n",
    "        \"B\": pd.Timestamp(\"20130102\"),\n",
    "        \"C\": pd.Series(1, index=list(range(4)), dtype=\"float32\"),\n",
    "        \"D\": np.array([3] * 4, dtype=\"int32\"),\n",
    "        \"E\": pd.Categorical([\"test\", \"train\", \"test\", \"train\"]),\n",
    "        \"F\": \"foo\",\n",
    "    }\n",
    ")\n",
    "df2"
   ]
  },
  {
   "cell_type": "markdown",
   "metadata": {},
   "source": [
    "## 2.2 Grades example"
   ]
  },
  {
   "cell_type": "code",
   "execution_count": 6,
   "metadata": {},
   "outputs": [
    {
     "data": {
      "text/plain": [
       "0    1.0\n",
       "1    3.0\n",
       "2    5.0\n",
       "3    NaN\n",
       "4    6.0\n",
       "5    8.0\n",
       "dtype: float64"
      ]
     },
     "execution_count": 6,
     "metadata": {},
     "output_type": "execute_result"
    }
   ],
   "source": [
    "# Series example.\n",
    "# Nan != NA, but Pandas uses them interchangeably.\n",
    "\n",
    "ser = pd.Series([1, 3, 5, np.nan, 6, 8], dtype=np.float64)\n",
    "ser"
   ]
  },
  {
   "cell_type": "code",
   "execution_count": 7,
   "metadata": {},
   "outputs": [
    {
     "data": {
      "text/plain": [
       "Anna    7\n",
       "Mary    9\n",
       "Lucy    8\n",
       "Zoe     4\n",
       "dtype: int64"
      ]
     },
     "execution_count": 7,
     "metadata": {},
     "output_type": "execute_result"
    }
   ],
   "source": [
    "# Series\n",
    "# Numpy's dtypes are automatically inferred.\n",
    "\n",
    "names_list:      list[str]  = [\"Anna\", \"Mary\", \"Lucy\", \"Zoe\"]\n",
    "grades_list:     list[int]  = [7, 9 , 8, 4]\n",
    "wants_dual_list: list[bool] = [False, True, False, True]\n",
    "\n",
    "ser: pd.Series = pd.Series(index=names_list, data=grades_list)\n",
    "ser"
   ]
  },
  {
   "cell_type": "code",
   "execution_count": 8,
   "metadata": {},
   "outputs": [
    {
     "data": {
      "text/html": [
       "<div>\n",
       "<style scoped>\n",
       "    .dataframe tbody tr th:only-of-type {\n",
       "        vertical-align: middle;\n",
       "    }\n",
       "\n",
       "    .dataframe tbody tr th {\n",
       "        vertical-align: top;\n",
       "    }\n",
       "\n",
       "    .dataframe thead th {\n",
       "        text-align: right;\n",
       "    }\n",
       "</style>\n",
       "<table border=\"1\" class=\"dataframe\">\n",
       "  <thead>\n",
       "    <tr style=\"text-align: right;\">\n",
       "      <th></th>\n",
       "      <th>grade</th>\n",
       "      <th>wants_dual</th>\n",
       "    </tr>\n",
       "  </thead>\n",
       "  <tbody>\n",
       "    <tr>\n",
       "      <th>Anna</th>\n",
       "      <td>7</td>\n",
       "      <td>False</td>\n",
       "    </tr>\n",
       "    <tr>\n",
       "      <th>Mary</th>\n",
       "      <td>9</td>\n",
       "      <td>True</td>\n",
       "    </tr>\n",
       "    <tr>\n",
       "      <th>Lucy</th>\n",
       "      <td>8</td>\n",
       "      <td>False</td>\n",
       "    </tr>\n",
       "    <tr>\n",
       "      <th>Zoe</th>\n",
       "      <td>4</td>\n",
       "      <td>True</td>\n",
       "    </tr>\n",
       "  </tbody>\n",
       "</table>\n",
       "</div>"
      ],
      "text/plain": [
       "      grade  wants_dual\n",
       "Anna      7       False\n",
       "Mary      9        True\n",
       "Lucy      8       False\n",
       "Zoe       4        True"
      ]
     },
     "execution_count": 8,
     "metadata": {},
     "output_type": "execute_result"
    }
   ],
   "source": [
    "# DataFrames\n",
    "\n",
    "# DataFrames are built in columns.\n",
    "# Column names are the keys of the data dictionary.\n",
    "# Numpy's dtypes are automatically inferred.\n",
    "\n",
    "data: dict[str, list] = {\"grade\":      grades_list,\n",
    "                         \"wants_dual\": wants_dual_list}\n",
    "\n",
    "students: pd.DataFrame = pd.DataFrame(index = names_list,\n",
    "                                      data  = data)\n",
    "students"
   ]
  },
  {
   "cell_type": "code",
   "execution_count": 9,
   "metadata": {},
   "outputs": [
    {
     "name": "stdout",
     "output_type": "stream",
     "text": [
      "<class 'pandas.core.indexes.base.Index'>\n",
      "<class 'pandas.core.indexes.base.Index'>\n"
     ]
    },
    {
     "data": {
      "text/html": [
       "<div>\n",
       "<style scoped>\n",
       "    .dataframe tbody tr th:only-of-type {\n",
       "        vertical-align: middle;\n",
       "    }\n",
       "\n",
       "    .dataframe tbody tr th {\n",
       "        vertical-align: top;\n",
       "    }\n",
       "\n",
       "    .dataframe thead th {\n",
       "        text-align: right;\n",
       "    }\n",
       "</style>\n",
       "<table border=\"1\" class=\"dataframe\">\n",
       "  <thead>\n",
       "    <tr style=\"text-align: right;\">\n",
       "      <th></th>\n",
       "      <th>grade</th>\n",
       "      <th>wants_dual</th>\n",
       "    </tr>\n",
       "  </thead>\n",
       "  <tbody>\n",
       "    <tr>\n",
       "      <th>Mary</th>\n",
       "      <td>9</td>\n",
       "      <td>True</td>\n",
       "    </tr>\n",
       "    <tr>\n",
       "      <th>Lucy</th>\n",
       "      <td>8</td>\n",
       "      <td>False</td>\n",
       "    </tr>\n",
       "    <tr>\n",
       "      <th>Anna</th>\n",
       "      <td>7</td>\n",
       "      <td>False</td>\n",
       "    </tr>\n",
       "    <tr>\n",
       "      <th>Zoe</th>\n",
       "      <td>4</td>\n",
       "      <td>True</td>\n",
       "    </tr>\n",
       "  </tbody>\n",
       "</table>\n",
       "</div>"
      ],
      "text/plain": [
       "      grade  wants_dual\n",
       "Mary      9        True\n",
       "Lucy      8       False\n",
       "Anna      7       False\n",
       "Zoe       4        True"
      ]
     },
     "execution_count": 9,
     "metadata": {},
     "output_type": "execute_result"
    }
   ],
   "source": [
    "# Shows only the first or the last rows\n",
    "students.head(2)\n",
    "students.tail(2)\n",
    "\n",
    "# Retrieve the index (row names) and the columns (column names)\n",
    "# BEWARE! No functions here. They are attributes!\n",
    "print(type(students.index))\n",
    "print(type(students.columns))\n",
    "\n",
    "# Transpose\n",
    "# BEWARE! Not a function. It's an attribute!\n",
    "students.T\n",
    "\n",
    "# Sorting indexes\n",
    "sorted_students = students.sort_index(axis=0, ascending=False)\n",
    "sorted_students\n",
    "\n",
    "# Sorting values\n",
    "sorted_grades = students.sort_values(by=\"grade\",\n",
    "                                     axis=0,\n",
    "                                     ascending=False)\n",
    "sorted_grades"
   ]
  },
  {
   "cell_type": "markdown",
   "metadata": {},
   "source": [
    "# 3. Selection"
   ]
  },
  {
   "cell_type": "code",
   "execution_count": 10,
   "metadata": {},
   "outputs": [
    {
     "data": {
      "text/plain": [
       "Anna    7\n",
       "Mary    9\n",
       "Lucy    8\n",
       "Zoe     4\n",
       "Name: grade, dtype: int64"
      ]
     },
     "execution_count": 10,
     "metadata": {},
     "output_type": "execute_result"
    }
   ],
   "source": [
    "# Selection\n",
    "\n",
    "# Use always .loc.\n",
    "# .loc is an attribute!\n",
    "# .loc receives two parameters: [\"zambullirse\", \"bucear\"]\n",
    "students\n",
    "students.loc[\"Lucy\", \"grade\"]\n",
    "students.loc[\"Lucy\", [\"grade\", \"wants_dual\"]]\n",
    "students.loc[\"Lucy\", :]\n",
    "\n",
    "students.loc[:, \"grade\"]\n",
    "\n"
   ]
  },
  {
   "cell_type": "code",
   "execution_count": 11,
   "metadata": {},
   "outputs": [
    {
     "data": {
      "text/plain": [
       "4"
      ]
     },
     "execution_count": 11,
     "metadata": {},
     "output_type": "execute_result"
    }
   ],
   "source": [
    "# .loc examples\n",
    "students.loc[\"Lucy\" , \"grade\"]\n",
    "students.loc[\"Anna\" , \"wants_dual\"]\n",
    "\n",
    "# iloc examples\n",
    "students.iloc[ 3 , 0] # Zoe's grade\n",
    "students.iloc[-1 , 0] # Zoe's grade\n",
    "\n",
    "# at examples\n",
    "students.at[\"Lucy\" , \"grade\"]\n",
    "\n",
    "# iat example \n",
    "students.iat[ 3 , 0] # Zoe's grade\n"
   ]
  },
  {
   "cell_type": "code",
   "execution_count": 12,
   "metadata": {},
   "outputs": [],
   "source": [
    "# Use preferently .loc[]\n",
    "# .at[] is only an optimization. Returns always a single value.\n",
    "# .loc[] can return multiple values\n",
    "\n",
    "students.loc[ [\"Mary\", \"Lucy\"] ,\n",
    "               \"grade\"]\n",
    "\n",
    "students.loc[ [\"Mary\", \"Lucy\"],\n",
    "              [\"grade\", \"wants_dual\"] ]\n",
    "\n",
    "students.loc[ [\"Anna\", \"Mary\", \"Lucy\", \"Zoe\"],\n",
    "              [\"grade\"] ]\n",
    "\n",
    "students.loc[ students.index,\n",
    "              [\"grade\"] ]\n",
    "\n",
    "students.loc[ :, [\"grade\"] ]\n",
    "\n",
    "students.loc[ :, : ]\n",
    "\n",
    "students.loc[ \"Anna\":\"Lucy\", : ]  # Slices INCLUDE THE LAST LABEL!\n",
    "\n",
    "students1: pd.DataFrame = students.loc[\"Anna\":\"Mary\", :]\n",
    "students2: pd.DataFrame = students.loc[\"Lucy\":\"Zoe\", :]\n"
   ]
  },
  {
   "cell_type": "code",
   "execution_count": 13,
   "metadata": {},
   "outputs": [
    {
     "data": {
      "text/html": [
       "<div>\n",
       "<style scoped>\n",
       "    .dataframe tbody tr th:only-of-type {\n",
       "        vertical-align: middle;\n",
       "    }\n",
       "\n",
       "    .dataframe tbody tr th {\n",
       "        vertical-align: top;\n",
       "    }\n",
       "\n",
       "    .dataframe thead th {\n",
       "        text-align: right;\n",
       "    }\n",
       "</style>\n",
       "<table border=\"1\" class=\"dataframe\">\n",
       "  <thead>\n",
       "    <tr style=\"text-align: right;\">\n",
       "      <th></th>\n",
       "      <th>grade</th>\n",
       "      <th>wants_dual</th>\n",
       "    </tr>\n",
       "  </thead>\n",
       "  <tbody>\n",
       "    <tr>\n",
       "      <th>Anna</th>\n",
       "      <td>7</td>\n",
       "      <td>False</td>\n",
       "    </tr>\n",
       "    <tr>\n",
       "      <th>Mary</th>\n",
       "      <td>9</td>\n",
       "      <td>True</td>\n",
       "    </tr>\n",
       "    <tr>\n",
       "      <th>Lucy</th>\n",
       "      <td>8</td>\n",
       "      <td>False</td>\n",
       "    </tr>\n",
       "    <tr>\n",
       "      <th>Zoe</th>\n",
       "      <td>4</td>\n",
       "      <td>True</td>\n",
       "    </tr>\n",
       "  </tbody>\n",
       "</table>\n",
       "</div>"
      ],
      "text/plain": [
       "      grade  wants_dual\n",
       "Anna      7       False\n",
       "Mary      9        True\n",
       "Lucy      8       False\n",
       "Zoe       4        True"
      ]
     },
     "execution_count": 13,
     "metadata": {},
     "output_type": "execute_result"
    }
   ],
   "source": [
    "# Masks\n",
    "# Mask = Object that hides the information we don't want.\n",
    "\n",
    "pass_mask: pd.Series = (students.loc[ : , \"grade\"] >= 5)\n",
    "students.loc[pass_mask , :]\n",
    "\n",
    "students.loc[ [\"Anna\", \"Mary\", \"Lucy\"] , :]\n",
    "students.loc[ [True, True, True, False] , :]\n",
    "\n",
    "students"
   ]
  },
  {
   "cell_type": "markdown",
   "metadata": {},
   "source": [
    "# 4. Missing data"
   ]
  },
  {
   "cell_type": "code",
   "execution_count": 14,
   "metadata": {},
   "outputs": [
    {
     "data": {
      "text/plain": [
       "0    0.0\n",
       "1    1.0\n",
       "3    3.0\n",
       "dtype: float64"
      ]
     },
     "execution_count": 14,
     "metadata": {},
     "output_type": "execute_result"
    }
   ],
   "source": [
    "# Read Scimago ranking\n",
    "entries: pd.DataFrame = pd.read_csv(\"scimago-medicine.csv\", sep=\";\")\n",
    "\n",
    "# Count entries with H-Index >= 100\n",
    "h_index_mask        = (entries.loc[: , \"H index\"] >= 100)\n",
    "h_index_100_entries = entries.loc[h_index_mask, :]\n",
    "len(h_index_100_entries)\n",
    "\n",
    "# Show top 5 entries with the highest H index\n",
    "sorted_entries = entries.sort_values(by=\"H index\",\n",
    "                                     axis=0,\n",
    "                                     ascending=False)\n",
    "sorted_entries.head(5)\n",
    "\n",
    "# Edit the entries with a mask\n",
    "entries2 = copy.deepcopy(entries)\n",
    "\n",
    "bad_entries_mask = (entries2.loc[: , \"H index\"] < 1000)\n",
    "entries2.loc[bad_entries_mask, \"H index\"] = 0\n",
    "\n",
    "# Transform values\n",
    "entries3 = copy.deepcopy(entries)\n",
    "entries3.loc[:, \"H index\"] = -1 * entries3.loc[:, \"H index\"]\n",
    "\n",
    "entries3.sort_values(by=\"H index\",\n",
    "                     axis=0,\n",
    "                     ascending=True).head()\n",
    "\n",
    "# Clean NAs\n",
    "entries4 = copy.deepcopy(entries)\n",
    "\n",
    "entries4.loc[:, \"Publisher\"].isnull().value_counts()\n",
    "\n",
    "null_publisher_mask = entries4.loc[:, \"Publisher\"].isnull()\n",
    "\n",
    "entries4.loc[null_publisher_mask, \"Publisher\"] = np.nan\n",
    "\n",
    "entries4.iloc[644, :]  # Example of row with NA\n",
    "\n",
    "\n",
    "# Manage NAs\n",
    "entries5 = copy.deepcopy(entries4)\n",
    "entries5.loc[:, \"Publisher\"].fillna(value=\"Unknown Publisher\", inplace=True)\n",
    "entries5.iloc[644, :]\n",
    "\n",
    "ser1: pd.Series = pd.Series([0, 1, np.nan, 3])\n",
    "ser1.dropna()"
   ]
  },
  {
   "cell_type": "markdown",
   "metadata": {},
   "source": [
    "# 5. Operations (Apply, etc.)"
   ]
  },
  {
   "cell_type": "code",
   "execution_count": 15,
   "metadata": {},
   "outputs": [
    {
     "data": {
      "text/html": [
       "<div>\n",
       "<style scoped>\n",
       "    .dataframe tbody tr th:only-of-type {\n",
       "        vertical-align: middle;\n",
       "    }\n",
       "\n",
       "    .dataframe tbody tr th {\n",
       "        vertical-align: top;\n",
       "    }\n",
       "\n",
       "    .dataframe thead th {\n",
       "        text-align: right;\n",
       "    }\n",
       "</style>\n",
       "<table border=\"1\" class=\"dataframe\">\n",
       "  <thead>\n",
       "    <tr style=\"text-align: right;\">\n",
       "      <th></th>\n",
       "      <th>A</th>\n",
       "      <th>X</th>\n",
       "      <th>B</th>\n",
       "    </tr>\n",
       "  </thead>\n",
       "  <tbody>\n",
       "    <tr>\n",
       "      <th>0</th>\n",
       "      <td>1</td>\n",
       "      <td>6</td>\n",
       "      <td>3</td>\n",
       "    </tr>\n",
       "    <tr>\n",
       "      <th>1</th>\n",
       "      <td>2</td>\n",
       "      <td>8</td>\n",
       "      <td>4</td>\n",
       "    </tr>\n",
       "  </tbody>\n",
       "</table>\n",
       "</div>"
      ],
      "text/plain": [
       "   A  X  B\n",
       "0  1  6  3\n",
       "1  2  8  4"
      ]
     },
     "execution_count": 15,
     "metadata": {},
     "output_type": "execute_result"
    }
   ],
   "source": [
    "# Map, ApplyMap, Apply\n",
    "\n",
    "# How to remember these functions\n",
    "# 1. apply() works element-wise on Series and column/row-wise on DFs.\n",
    "# 2. applymap() works element-wise on DFs.\n",
    "# 3. map() is just more flexible than apply() on Series (accepts dicts)\n",
    "\n",
    "\n",
    "# 1. Series.map() and Series.apply(). Both work element-wise.\n",
    "ser2: pd.Series = pd.Series([0, 1, 2, 3])\n",
    "ser2.map(lambda x: x*2)\n",
    "\n",
    "ser3: pd.Series = pd.Series([\"Anna\", \"Mary\", \"Lucy\", \"Zoe\"])\n",
    "ser3.map(lambda x: \"Hello \" + x)\n",
    "\n",
    "# 2. DataFrame.applymap(). Works element-wise.\n",
    "data = {\"A\": [1, 2],\n",
    "        \"B\": [3, 4] }\n",
    "\n",
    "df3 = pd.DataFrame(data)\n",
    "df3.applymap(lambda x: x*2)\n",
    "\n",
    "# 3. DataFrame.apply(). Works column-wise.\n",
    "data = {\"A\": [1, 2],\n",
    "        \"B\": [3, 4] }\n",
    "\n",
    "df3.apply(lambda column: column.sum())\n",
    "\n",
    "\n",
    "\n",
    "# How to make new columns of data\n",
    "df4 = copy.deepcopy(df3)\n",
    "df4.loc[:, \"X\"] = df3.B.map(lambda x: x*2)\n",
    "df4\n",
    "\n",
    "# Reordering columns manually (there are better methods)\n",
    "df5 = df4.loc[:, [\"A\", \"X\", \"B\"]]\n",
    "df5\n"
   ]
  },
  {
   "cell_type": "markdown",
   "metadata": {},
   "source": [
    "# 6. Merge"
   ]
  },
  {
   "cell_type": "code",
   "execution_count": 16,
   "metadata": {},
   "outputs": [
    {
     "data": {
      "text/html": [
       "<div>\n",
       "<style scoped>\n",
       "    .dataframe tbody tr th:only-of-type {\n",
       "        vertical-align: middle;\n",
       "    }\n",
       "\n",
       "    .dataframe tbody tr th {\n",
       "        vertical-align: top;\n",
       "    }\n",
       "\n",
       "    .dataframe thead th {\n",
       "        text-align: right;\n",
       "    }\n",
       "</style>\n",
       "<table border=\"1\" class=\"dataframe\">\n",
       "  <thead>\n",
       "    <tr style=\"text-align: right;\">\n",
       "      <th></th>\n",
       "      <th>grade</th>\n",
       "      <th>name</th>\n",
       "    </tr>\n",
       "  </thead>\n",
       "  <tbody>\n",
       "    <tr>\n",
       "      <th>0</th>\n",
       "      <td>7</td>\n",
       "      <td>Anna</td>\n",
       "    </tr>\n",
       "    <tr>\n",
       "      <th>1</th>\n",
       "      <td>9</td>\n",
       "      <td>Mary</td>\n",
       "    </tr>\n",
       "    <tr>\n",
       "      <th>2</th>\n",
       "      <td>8</td>\n",
       "      <td>Lucy</td>\n",
       "    </tr>\n",
       "    <tr>\n",
       "      <th>3</th>\n",
       "      <td>4</td>\n",
       "      <td>Zoe</td>\n",
       "    </tr>\n",
       "  </tbody>\n",
       "</table>\n",
       "</div>"
      ],
      "text/plain": [
       "   grade  name\n",
       "0      7  Anna\n",
       "1      9  Mary\n",
       "2      8  Lucy\n",
       "3      4   Zoe"
      ]
     },
     "execution_count": 16,
     "metadata": {},
     "output_type": "execute_result"
    }
   ],
   "source": [
    "# SQL-Like Joins\n",
    "\n",
    "# Let's split the grades into a separate dataframe\n",
    "student_grades: pd.DataFrame = copy.deepcopy(students)\n",
    "# student_grades.index.name = \"name\"\n",
    "student_grades.reset_index(inplace=True)\n",
    "student_grades.drop(columns=\"wants_dual\", inplace=True)\n",
    "student_grades.rename(columns={\"index\": \"name\"}, inplace=True)\n",
    "student_grades = student_grades.loc[:, [\"grade\", \"name\"] ]\n",
    "student_grades\n"
   ]
  },
  {
   "cell_type": "code",
   "execution_count": 17,
   "metadata": {},
   "outputs": [
    {
     "data": {
      "text/html": [
       "<div>\n",
       "<style scoped>\n",
       "    .dataframe tbody tr th:only-of-type {\n",
       "        vertical-align: middle;\n",
       "    }\n",
       "\n",
       "    .dataframe tbody tr th {\n",
       "        vertical-align: top;\n",
       "    }\n",
       "\n",
       "    .dataframe thead th {\n",
       "        text-align: right;\n",
       "    }\n",
       "</style>\n",
       "<table border=\"1\" class=\"dataframe\">\n",
       "  <thead>\n",
       "    <tr style=\"text-align: right;\">\n",
       "      <th></th>\n",
       "      <th>grade</th>\n",
       "      <th>wants_dual</th>\n",
       "    </tr>\n",
       "  </thead>\n",
       "  <tbody>\n",
       "    <tr>\n",
       "      <th>Anna</th>\n",
       "      <td>7</td>\n",
       "      <td>False</td>\n",
       "    </tr>\n",
       "    <tr>\n",
       "      <th>Mary</th>\n",
       "      <td>9</td>\n",
       "      <td>True</td>\n",
       "    </tr>\n",
       "    <tr>\n",
       "      <th>Lucy</th>\n",
       "      <td>8</td>\n",
       "      <td>False</td>\n",
       "    </tr>\n",
       "    <tr>\n",
       "      <th>Zoe</th>\n",
       "      <td>4</td>\n",
       "      <td>True</td>\n",
       "    </tr>\n",
       "  </tbody>\n",
       "</table>\n",
       "</div>"
      ],
      "text/plain": [
       "      grade  wants_dual\n",
       "Anna      7       False\n",
       "Mary      9        True\n",
       "Lucy      8       False\n",
       "Zoe       4        True"
      ]
     },
     "execution_count": 17,
     "metadata": {},
     "output_type": "execute_result"
    }
   ],
   "source": [
    "# SQL-Like Joins\n",
    "\n",
    "# Split the dataframe and join it later\n",
    "student_grades: pd.DataFrame = (students\n",
    "                                .reset_index()\n",
    "                                .rename(columns={\"index\": \"name\"})\n",
    "                                .drop(columns=\"wants_dual\")\n",
    "                                .loc[:, [\"name\", \"grade\"]]\n",
    ")\n",
    "\n",
    "student_duals:  pd.DataFrame = (students\n",
    "                                .reset_index()\n",
    "                                .rename(columns={\"index\": \"name\"})\n",
    "                                .drop(columns=\"grade\")\n",
    "                                .loc[:, [\"name\", \"wants_dual\"]]\n",
    ")\n",
    "\n",
    "merged_students: pd.DataFrame = ( pd.merge(student_grades, student_duals, on=\"name\")\n",
    "                                    .set_index(\"name\")\n",
    ")\n",
    "\n",
    "merged_students.index.name = None\n",
    "merged_students\n",
    "\n"
   ]
  },
  {
   "cell_type": "markdown",
   "metadata": {},
   "source": [
    "# 7. Group By\n",
    "(Improved example from the '10 minutes to pandas')"
   ]
  },
  {
   "cell_type": "code",
   "execution_count": 18,
   "metadata": {},
   "outputs": [
    {
     "name": "stdout",
     "output_type": "stream",
     "text": [
      "bar: -2.224068755364976\n",
      "foo: 0.45422077936635363\n",
      "            C\n",
      "A            \n",
      "bar -2.224069\n",
      "foo  0.454221\n",
      "<class 'pandas.core.frame.DataFrame'>\n"
     ]
    },
    {
     "data": {
      "text/html": [
       "<div>\n",
       "<style scoped>\n",
       "    .dataframe tbody tr th:only-of-type {\n",
       "        vertical-align: middle;\n",
       "    }\n",
       "\n",
       "    .dataframe tbody tr th {\n",
       "        vertical-align: top;\n",
       "    }\n",
       "\n",
       "    .dataframe thead th {\n",
       "        text-align: right;\n",
       "    }\n",
       "</style>\n",
       "<table border=\"1\" class=\"dataframe\">\n",
       "  <thead>\n",
       "    <tr style=\"text-align: right;\">\n",
       "      <th></th>\n",
       "      <th>A</th>\n",
       "      <th>B</th>\n",
       "      <th>C</th>\n",
       "    </tr>\n",
       "  </thead>\n",
       "  <tbody>\n",
       "    <tr>\n",
       "      <th>0</th>\n",
       "      <td>foo</td>\n",
       "      <td>one</td>\n",
       "      <td>1.045079</td>\n",
       "    </tr>\n",
       "    <tr>\n",
       "      <th>1</th>\n",
       "      <td>bar</td>\n",
       "      <td>one</td>\n",
       "      <td>-1.605560</td>\n",
       "    </tr>\n",
       "    <tr>\n",
       "      <th>2</th>\n",
       "      <td>foo</td>\n",
       "      <td>two</td>\n",
       "      <td>-0.909896</td>\n",
       "    </tr>\n",
       "    <tr>\n",
       "      <th>3</th>\n",
       "      <td>bar</td>\n",
       "      <td>three</td>\n",
       "      <td>-0.051453</td>\n",
       "    </tr>\n",
       "    <tr>\n",
       "      <th>4</th>\n",
       "      <td>foo</td>\n",
       "      <td>two</td>\n",
       "      <td>-1.776869</td>\n",
       "    </tr>\n",
       "    <tr>\n",
       "      <th>5</th>\n",
       "      <td>bar</td>\n",
       "      <td>two</td>\n",
       "      <td>-0.567056</td>\n",
       "    </tr>\n",
       "    <tr>\n",
       "      <th>6</th>\n",
       "      <td>foo</td>\n",
       "      <td>one</td>\n",
       "      <td>2.659938</td>\n",
       "    </tr>\n",
       "    <tr>\n",
       "      <th>7</th>\n",
       "      <td>foo</td>\n",
       "      <td>three</td>\n",
       "      <td>-0.564032</td>\n",
       "    </tr>\n",
       "  </tbody>\n",
       "</table>\n",
       "</div>"
      ],
      "text/plain": [
       "     A      B         C\n",
       "0  foo    one  1.045079\n",
       "1  bar    one -1.605560\n",
       "2  foo    two -0.909896\n",
       "3  bar  three -0.051453\n",
       "4  foo    two -1.776869\n",
       "5  bar    two -0.567056\n",
       "6  foo    one  2.659938\n",
       "7  foo  three -0.564032"
      ]
     },
     "execution_count": 18,
     "metadata": {},
     "output_type": "execute_result"
    }
   ],
   "source": [
    "# Group By\n",
    "\n",
    "df3 = pd.DataFrame(\n",
    "    {\n",
    "        \"A\": [\"foo\", \"bar\", \"foo\", \"bar\", \"foo\", \"bar\", \"foo\", \"foo\"],\n",
    "        \"B\": [\"one\", \"one\", \"two\", \"three\", \"two\", \"two\", \"one\", \"three\"],\n",
    "        \"C\": np.random.randn(8),\n",
    "    }\n",
    ")\n",
    "\n",
    "# Group by a single column and sum each group\n",
    "df3_grouped = df3.groupby(\"A\")\n",
    "df3_sum = df3_grouped.sum()\n",
    "df3_sum\n",
    "\n",
    "\n",
    "# Verify manually that the grouping worked\n",
    "\n",
    "# Check dictionary of groups\n",
    "df3_groups = df3_grouped.groups\n",
    "df3_groups\n",
    "\n",
    "# Get each group labels\n",
    "foo_rows = df3_groups['foo']\n",
    "bar_rows = df3_groups['bar']\n",
    "\n",
    "# Sum the C column for each group\n",
    "df3_foo_c_sum = df3.loc[foo_rows, \"C\"].sum()\n",
    "df3_bar_c_sum = df3.loc[bar_rows, \"C\"].sum()\n",
    "\n",
    "# Compare values\n",
    "print('bar:', df3_bar_c_sum)\n",
    "print('foo:', df3_foo_c_sum)\n",
    "\n",
    "print(df3_sum)\n",
    "\n",
    "\n",
    "# 'Ungroup' to access the original dataframe: Filter by True!\n",
    "# https://www.py4u.net/discuss/141899\n",
    "df3_ungrouped = df3_grouped.filter(lambda group_df: True)\n",
    "print(type(df3_ungrouped))\n",
    "df3_ungrouped"
   ]
  },
  {
   "cell_type": "markdown",
   "metadata": {},
   "source": [
    "# 8. Categoricals"
   ]
  },
  {
   "cell_type": "code",
   "execution_count": 19,
   "metadata": {},
   "outputs": [
    {
     "data": {
      "text/html": [
       "<div>\n",
       "<style scoped>\n",
       "    .dataframe tbody tr th:only-of-type {\n",
       "        vertical-align: middle;\n",
       "    }\n",
       "\n",
       "    .dataframe tbody tr th {\n",
       "        vertical-align: top;\n",
       "    }\n",
       "\n",
       "    .dataframe thead th {\n",
       "        text-align: right;\n",
       "    }\n",
       "</style>\n",
       "<table border=\"1\" class=\"dataframe\">\n",
       "  <thead>\n",
       "    <tr style=\"text-align: right;\">\n",
       "      <th></th>\n",
       "      <th>grade</th>\n",
       "      <th>wants_dual</th>\n",
       "      <th>cat_grade</th>\n",
       "    </tr>\n",
       "  </thead>\n",
       "  <tbody>\n",
       "    <tr>\n",
       "      <th>Mary</th>\n",
       "      <td>9</td>\n",
       "      <td>True</td>\n",
       "      <td>Excelente</td>\n",
       "    </tr>\n",
       "    <tr>\n",
       "      <th>Lucy</th>\n",
       "      <td>8</td>\n",
       "      <td>False</td>\n",
       "      <td>Notable</td>\n",
       "    </tr>\n",
       "    <tr>\n",
       "      <th>Anna</th>\n",
       "      <td>7</td>\n",
       "      <td>False</td>\n",
       "      <td>Notable</td>\n",
       "    </tr>\n",
       "    <tr>\n",
       "      <th>Zoe</th>\n",
       "      <td>4</td>\n",
       "      <td>True</td>\n",
       "      <td>Insuficiente</td>\n",
       "    </tr>\n",
       "  </tbody>\n",
       "</table>\n",
       "</div>"
      ],
      "text/plain": [
       "      grade  wants_dual     cat_grade\n",
       "Mary      9        True     Excelente\n",
       "Lucy      8       False       Notable\n",
       "Anna      7       False       Notable\n",
       "Zoe       4        True  Insuficiente"
      ]
     },
     "execution_count": 19,
     "metadata": {},
     "output_type": "execute_result"
    }
   ],
   "source": [
    "# Categoricals (v1)\n",
    "\n",
    "# Create a new column\n",
    "students.loc[:, \"cat_grade\"] = [\"Notable\", \"Excelente\", \"Notable\", \"Insuficiente\"]\n",
    "\n",
    "students.loc[:, \"cat_grade\"] = students.loc[:, \"cat_grade\"].astype(\"category\")\n",
    "students.dtypes\n",
    "\n",
    "# Write categoricals in the same order as their numeric equivalents\n",
    "cat_grades: list[str] = [\"Insuficiente\", \"Suficiente\", \"Bien\", \"Notable\", \"Excelente\"]\n",
    "students.loc[:, \"cat_grade\"] = students.loc[:, \"cat_grade\"].cat.set_categories(cat_grades)\n",
    "students.loc[:, \"cat_grade\"]\n",
    "\n",
    "students.sort_values(by=[\"cat_grade\", \"grade\"], ascending=False)\n"
   ]
  },
  {
   "cell_type": "code",
   "execution_count": 20,
   "metadata": {},
   "outputs": [
    {
     "data": {
      "text/html": [
       "<div>\n",
       "<style scoped>\n",
       "    .dataframe tbody tr th:only-of-type {\n",
       "        vertical-align: middle;\n",
       "    }\n",
       "\n",
       "    .dataframe tbody tr th {\n",
       "        vertical-align: top;\n",
       "    }\n",
       "\n",
       "    .dataframe thead th {\n",
       "        text-align: right;\n",
       "    }\n",
       "</style>\n",
       "<table border=\"1\" class=\"dataframe\">\n",
       "  <thead>\n",
       "    <tr style=\"text-align: right;\">\n",
       "      <th></th>\n",
       "      <th>grade</th>\n",
       "      <th>wants_dual</th>\n",
       "      <th>cat_grade</th>\n",
       "    </tr>\n",
       "  </thead>\n",
       "  <tbody>\n",
       "    <tr>\n",
       "      <th>Mary</th>\n",
       "      <td>9</td>\n",
       "      <td>True</td>\n",
       "      <td>Excelente</td>\n",
       "    </tr>\n",
       "    <tr>\n",
       "      <th>Lucy</th>\n",
       "      <td>8</td>\n",
       "      <td>False</td>\n",
       "      <td>Notable</td>\n",
       "    </tr>\n",
       "    <tr>\n",
       "      <th>Anna</th>\n",
       "      <td>7</td>\n",
       "      <td>False</td>\n",
       "      <td>Notable</td>\n",
       "    </tr>\n",
       "    <tr>\n",
       "      <th>Zoe</th>\n",
       "      <td>4</td>\n",
       "      <td>True</td>\n",
       "      <td>Insuficiente</td>\n",
       "    </tr>\n",
       "  </tbody>\n",
       "</table>\n",
       "</div>"
      ],
      "text/plain": [
       "      grade  wants_dual     cat_grade\n",
       "Mary      9        True     Excelente\n",
       "Lucy      8       False       Notable\n",
       "Anna      7       False       Notable\n",
       "Zoe       4        True  Insuficiente"
      ]
     },
     "execution_count": 20,
     "metadata": {},
     "output_type": "execute_result"
    }
   ],
   "source": [
    "# Categoricals (v2, uses .apply() )\n",
    "\n",
    "# Generate categoricals from their numeric equivalents with a function\n",
    "# In Python 3.10 use match+case\n",
    "def get_categorical_grade(grade: int) -> str:\n",
    "\n",
    "    result: str\n",
    "\n",
    "    if 0 <= grade <= 4:\n",
    "        result = \"Insuficiente\"\n",
    "    elif grade == 5:\n",
    "        result = \"Suficiente\"\n",
    "    elif grade == 6:\n",
    "        result = \"Bien\"\n",
    "    elif 7 <= grade <= 8:\n",
    "        result = \"Notable\"\n",
    "    elif 9 <= grade <= 10:\n",
    "        result = \"Excelente\"\n",
    "    else:\n",
    "        result = \"Error!\"\n",
    "\n",
    "    return result\n",
    "\n",
    "\n",
    "# Create a new column of categorical values\n",
    "numerical_grades:   pd.Series = students.loc[:, \"grade\"]\n",
    "categorical_grades: pd.Series = numerical_grades.apply(get_categorical_grade)\n",
    "students.loc[:, \"cat_grade\"]  = categorical_grades\n",
    "\n",
    "# Convert to Category dtype\n",
    "students.loc[:, \"cat_grade\"] = students.loc[:, \"cat_grade\"].astype(\"category\")\n",
    "\n",
    "# Set all categories to the type\n",
    "all_categorical_grades = [\"Insuficiente\", \"Suficiente\", \"Bien\", \"Notable\", \"Excelente\"]\n",
    "students.loc[:, \"cat_grade\"] = students.loc[:, \"cat_grade\"].cat.set_categories(all_categorical_grades)\n",
    "students.loc[:, \"cat_grade\"]\n",
    "\n",
    "students.sort_values(by=[\"cat_grade\", \"grade\"], ascending=False)"
   ]
  },
  {
   "cell_type": "code",
   "execution_count": 21,
   "metadata": {},
   "outputs": [
    {
     "data": {
      "text/html": [
       "<div>\n",
       "<style scoped>\n",
       "    .dataframe tbody tr th:only-of-type {\n",
       "        vertical-align: middle;\n",
       "    }\n",
       "\n",
       "    .dataframe tbody tr th {\n",
       "        vertical-align: top;\n",
       "    }\n",
       "\n",
       "    .dataframe thead th {\n",
       "        text-align: right;\n",
       "    }\n",
       "</style>\n",
       "<table border=\"1\" class=\"dataframe\">\n",
       "  <thead>\n",
       "    <tr style=\"text-align: right;\">\n",
       "      <th></th>\n",
       "      <th>grade</th>\n",
       "      <th>wants_dual</th>\n",
       "      <th>cat_grade</th>\n",
       "    </tr>\n",
       "  </thead>\n",
       "  <tbody>\n",
       "    <tr>\n",
       "      <th>Mary</th>\n",
       "      <td>9</td>\n",
       "      <td>True</td>\n",
       "      <td>Excelente</td>\n",
       "    </tr>\n",
       "    <tr>\n",
       "      <th>Lucy</th>\n",
       "      <td>8</td>\n",
       "      <td>False</td>\n",
       "      <td>Notable</td>\n",
       "    </tr>\n",
       "    <tr>\n",
       "      <th>Anna</th>\n",
       "      <td>7</td>\n",
       "      <td>False</td>\n",
       "      <td>Notable</td>\n",
       "    </tr>\n",
       "    <tr>\n",
       "      <th>Zoe</th>\n",
       "      <td>4</td>\n",
       "      <td>True</td>\n",
       "      <td>Insuficiente</td>\n",
       "    </tr>\n",
       "  </tbody>\n",
       "</table>\n",
       "</div>"
      ],
      "text/plain": [
       "      grade  wants_dual     cat_grade\n",
       "Mary      9        True     Excelente\n",
       "Lucy      8       False       Notable\n",
       "Anna      7       False       Notable\n",
       "Zoe       4        True  Insuficiente"
      ]
     },
     "execution_count": 21,
     "metadata": {},
     "output_type": "execute_result"
    }
   ],
   "source": [
    "# Categoricals (v3, uses method chaining, unique() and simplifies the function used on .apply() )\n",
    "\n",
    "# Generate categoricals from their numeric equivalents with a function\n",
    "numerical_grades:   list[int] = list(range(0,11))\n",
    "categorical_grades: list[str] = [\"Insuficiente\", \"Insuficiente\", \"Insuficiente\", \"Insuficiente\", \"Insuficiente\",\n",
    "                                 \"Suficiente\",\n",
    "                                 \"Bien\",\n",
    "                                 \"Notable\", \"Notable\",\n",
    "                                 \"Excelente\", \"Excelente\",\n",
    "                                ]\n",
    "num_cat_grades: pd.Series = pd.Series(index=numerical_grades, data=categorical_grades)\n",
    "\n",
    "# Function that will use num_cat_grades to convert grades from numerical to categorical\n",
    "def get_categorical_grade(grade: int) -> str:\n",
    "    return num_cat_grades[grade]\n",
    "\n",
    "# List of categories in their ascending order. unique() preserves order, unlike sets!\n",
    "unique_cat_grades: np.ndarray = num_cat_grades.unique()\n",
    "\n",
    "# Create a new column, assign categorical values, convert dytpe, set all possible categories\n",
    "students.loc[:, \"cat_grade\"] = (students.loc[:, \"grade\"]\n",
    "                                .apply(get_categorical_grade)\n",
    "                                .astype(\"category\")\n",
    "                                .cat.set_categories(unique_cat_grades)\n",
    ")\n",
    "\n",
    "# Sort returns a new DataFrame\n",
    "students.sort_values(by=[\"cat_grade\", \"grade\"], ascending=False)\n"
   ]
  },
  {
   "cell_type": "code",
   "execution_count": 22,
   "metadata": {},
   "outputs": [
    {
     "data": {
      "text/html": [
       "<div>\n",
       "<style scoped>\n",
       "    .dataframe tbody tr th:only-of-type {\n",
       "        vertical-align: middle;\n",
       "    }\n",
       "\n",
       "    .dataframe tbody tr th {\n",
       "        vertical-align: top;\n",
       "    }\n",
       "\n",
       "    .dataframe thead th {\n",
       "        text-align: right;\n",
       "    }\n",
       "</style>\n",
       "<table border=\"1\" class=\"dataframe\">\n",
       "  <thead>\n",
       "    <tr style=\"text-align: right;\">\n",
       "      <th></th>\n",
       "      <th>grade</th>\n",
       "      <th>wants_dual</th>\n",
       "      <th>cat_grade</th>\n",
       "    </tr>\n",
       "  </thead>\n",
       "  <tbody>\n",
       "    <tr>\n",
       "      <th>Mary</th>\n",
       "      <td>9</td>\n",
       "      <td>True</td>\n",
       "      <td>Exceŀlent</td>\n",
       "    </tr>\n",
       "    <tr>\n",
       "      <th>Lucy</th>\n",
       "      <td>8</td>\n",
       "      <td>False</td>\n",
       "      <td>Notable</td>\n",
       "    </tr>\n",
       "    <tr>\n",
       "      <th>Anna</th>\n",
       "      <td>7</td>\n",
       "      <td>False</td>\n",
       "      <td>Notable</td>\n",
       "    </tr>\n",
       "    <tr>\n",
       "      <th>Zoe</th>\n",
       "      <td>4</td>\n",
       "      <td>True</td>\n",
       "      <td>Insuficient</td>\n",
       "    </tr>\n",
       "  </tbody>\n",
       "</table>\n",
       "</div>"
      ],
      "text/plain": [
       "      grade  wants_dual    cat_grade\n",
       "Mary      9        True    Exceŀlent\n",
       "Lucy      8       False      Notable\n",
       "Anna      7       False      Notable\n",
       "Zoe       4        True  Insuficient"
      ]
     },
     "execution_count": 22,
     "metadata": {},
     "output_type": "execute_result"
    }
   ],
   "source": [
    "# Categoricals (v4, the easiest to read. Uses .map() and a Series as a dict)\n",
    "\n",
    "# Write all correspondences in an easy-to-read way.\n",
    "correspondences: list[tuple[int, str]] = [\n",
    "    ( 0, \"Insuficient\"),\n",
    "    ( 1, \"Insuficient\"),\n",
    "    ( 2, \"Insuficient\"),\n",
    "    ( 3, \"Insuficient\"),\n",
    "    ( 4, \"Insuficient\"),\n",
    "    ( 5, \"Suficient\"),\n",
    "    ( 6, \"Bé\"),\n",
    "    ( 7, \"Notable\"),\n",
    "    ( 8, \"Notable\"),\n",
    "    ( 9, \"Exceŀlent\"),\n",
    "    (10, \"Exceŀlent\"),\n",
    "]\n",
    "\n",
    "# Put the correspondences in a Series, not a dict. We need Series.unique()\n",
    "numerical_grades:   list[int] = [item[0] for item in correspondences]\n",
    "categorical_grades: list[str] = [item[1] for item in correspondences]\n",
    "num_cat_grades:     pd.Series = pd.Series(index=numerical_grades, data=categorical_grades)\n",
    "\n",
    "# List of categories in their ascending order. unique() preserves order, unlike sets!\n",
    "unique_cat_grades: np.ndarray = num_cat_grades.unique()\n",
    "\n",
    "# Instead of .apply() we can use .map() directly using a dict or a Series.\n",
    "students.loc[:, \"cat_grade\"] = (students.loc[:, \"grade\"]\n",
    "                                .map(num_cat_grades)\n",
    "                                .astype(\"category\")\n",
    "                                .cat.set_categories(unique_cat_grades)\n",
    ")\n",
    "\n",
    "# Sort returns a new DataFrame\n",
    "students.sort_values(by=[\"cat_grade\", \"grade\"], ascending=False)"
   ]
  },
  {
   "cell_type": "markdown",
   "metadata": {},
   "source": [
    "# 9. Plotting"
   ]
  },
  {
   "cell_type": "code",
   "execution_count": 23,
   "metadata": {},
   "outputs": [
    {
     "data": {
      "text/plain": [
       "<AxesSubplot:>"
      ]
     },
     "execution_count": 23,
     "metadata": {},
     "output_type": "execute_result"
    },
    {
     "data": {
      "image/png": "[encoded data removed]",
      "text/plain": [
       "<Figure size 432x288 with 1 Axes>"
      ]
     },
     "metadata": {
      "needs_background": "light"
     },
     "output_type": "display_data"
    }
   ],
   "source": [
    "# Plotting\n",
    "\n",
    "# Discrete vars -> Use bar chart.\n",
    "students.loc[:, \"grade\"].plot(kind=\"bar\")\n"
   ]
  },
  {
   "cell_type": "code",
   "execution_count": 24,
   "metadata": {},
   "outputs": [
    {
     "data": {
      "text/plain": [
       "<AxesSubplot:>"
      ]
     },
     "execution_count": 24,
     "metadata": {},
     "output_type": "execute_result"
    },
    {
     "data": {
      "image/png": "[encoded data removed]",
      "text/plain": [
       "<Figure size 432x288 with 1 Axes>"
      ]
     },
     "metadata": {
      "needs_background": "light"
     },
     "output_type": "display_data"
    }
   ],
   "source": [
    "# Plotting\n",
    "\n",
    "# Continous vars example.\n",
    "\n",
    "# Make a DataFrame with two columns.\n",
    "# Each column will have 100 random values (ints).\n",
    "# Values will range from 0 to 100.\n",
    "\n",
    "min_value: int = 0\n",
    "max_value: int = 100\n",
    "size:      int = 100\n",
    "\n",
    "a_data: np.array = np.random.randint(min_value, max_value, size=size)\n",
    "b_data: np.array = np.random.randint(min_value, max_value, size=size)\n",
    "\n",
    "data = {\"A\": a_data, \"B\": b_data}\n",
    "random_df = pd.DataFrame(data=data) # Default index: 0..99\n",
    "random_df.plot()"
   ]
  }
 ],
 "metadata": {
  "interpreter": {
   "hash": "acfc05724b1a46e09a7c3f32f9b31b3f9f98e1757ddd6651ec728570467faae5"
  },
  "kernelspec": {
   "display_name": "Python 3.9.7 64-bit ('py39': conda)",
   "language": "python",
   "name": "python3"
  },
  "language_info": {
   "codemirror_mode": {
    "name": "ipython",
    "version": 3
   },
   "file_extension": ".py",
   "mimetype": "text/x-python",
   "name": "python",
   "nbconvert_exporter": "python",
   "pygments_lexer": "ipython3",
   "version": "3.9.7"
  },
  "orig_nbformat": 4
 },
 "nbformat": 4,
 "nbformat_minor": 2
}
