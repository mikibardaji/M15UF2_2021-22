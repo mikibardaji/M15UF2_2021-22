{
 "cells": [
  {
   "cell_type": "markdown",
   "metadata": {},
   "source": [
    "# Expresions Regulars\n",
    "\n",
    "*Definició.-* Llenguatge que serveix per expressar patrons de texto.\n",
    "*Patró: * Estructura que es repeteix\n",
    "*Recursos: * \n",
    "\n",
    "· [regexone](www.regexone.com  \"regexone\")  --> Teoría\n",
    "\n",
    "· [regex101](https://regex101.com/  \"regex101\") --> Debugg\n",
    "\n",
    "![[regex_taula]](regex_taula.png \"regex_taula\")\n",
    "\n",
    "\n",
    "Tot el que esta explicat aquí debaix, esta extret de la web regexone.\n",
    "\n",
    "### Tipus de caràcters\n",
    "\n",
    "        "
   ]
  },
  {
   "cell_type": "markdown",
   "metadata": {},
   "source": [
    "- Caràcters Literals: a L, Z, J, 9, 2, #, % => **Qualsevol caràcter no especial**"
   ]
  },
  {
   "cell_type": "markdown",
   "metadata": {},
   "source": [
    "- Caràcters especials:\n",
    "\n",
    "    #### -BACKSLASH: \n",
    "            \n",
    "        Fa que el següent càracter és especial (si no ho és).\n",
    "        Fa que el següent càracter no sigui especial (si ho és).\n",
    "\n",
    "        **Exemples** \n",
    "                \\n (newline)\n",
    "                \\t (tab)\n",
    "                \\. (punt normal, colon, dot)\n",
    "\n",
    "    #### \\d:\n",
    "\n",
    "        Un dígit del 0 al 9\n",
    "\n",
    "    #### \\D:\n",
    "\n",
    "        Un caracter que no és un dígit\n",
    "        Una majúscula significa negació.\n",
    "\n",
    "    #### \\w:\n",
    "\n",
    "        Un carácter alfanumèric: Lletra 'A' o dígit '9' pero no símbol '#'\n",
    "\n",
    "    #### \\W:\n",
    "\n",
    "        Tots menys els alfanumèrics: És a dir símbols (inclou espais)\n",
    "\n",
    "    #### \\s:\n",
    "\n",
    "        whitespace : espais, doble espai, tabuladors, salts de linea.\n",
    "\n",
    "    #### \\S:\n",
    "\n",
    "        Tot lo que no son espais\n"
   ]
  },
  {
   "cell_type": "markdown",
   "metadata": {},
   "source": [
    "- Classes: \n",
    "        \n",
    "  És la unió de varis caràcters. Em permet buscar una ocurrència de qualsevol d'ells.\n",
    "\n",
    "    · Els conectors es posen entre Square Brackets []\n",
    "\n",
    "    · Els [] són caràcters especials.\n",
    "\n",
    "      · **Exemples** \n",
    "          1. Hola a tod[ao]s <= Una clase de 2 lletres hi haurà coincidència tant amb la 'a' i la 'o'\n",
    "          2. Parsejar capçaleres d'un fitxer html (h1,h2,h3,h4,h5,h6)\n",
    "            <h\\d> => tots els numeros inclosos el 0\n",
    "            <h[123456789]> => tots excepte el 0.\n",
    "\n",
    "    · **caràcter ^ (CARET)** Dins d'una clase hi ha un caràcter que es torna especial segons la seva posició dins la clase. Es el caràcter ^ (CARET)\n",
    "\n",
    "      1. Quant és el primer caràcter dins de la classe, nega tota la classe. \n",
    "            *exemple* [^S] => Busca paraules amb singular  Qualsevol caràcter que no sigui S, [^aeiou] => Buscaria consonants\n",
    "\n",
    "      2. Quant no és el primer dins la clase, és un literal:\n",
    "           [a^eiou] => Busca totes les paraules y el caret\n",
    "\n",
    "![[exemple1exp]](exemple1exp.png \"exemple1exp\")           \n",
    "\n",
    "\n",
    "    · **guió - (DASH)** Altre caràcter que es torna especial es el guió - (DASH)\n",
    "\n",
    "      1. Quant esta entre dos caràcters, crea un rang.\n",
    "        *exemple* [0-9] => Tots els dígits entre 0 i 9\n",
    "                  [a-z] => El alfabet amb minúscules, anglès (ASCII,UTF-8)\n",
    "                  [a-zA-Z0-9] => Qualsevol caràcter alfanumèric (\\w)\n",
    "      2. Quant es troba al principi o al final de la classe, és un literal normal.\n",
    "\n",
    "*Busca les lletres minúscules.*\n",
    "\n",
    "![[express2minus.png]](express2minus.png \"express2minus\")  \n",
    "*Busca totes les lletres.*\n",
    "\n",
    "![[express2majus.png]](express2majus.png \"express2majus\") \n",
    "\n",
    "*Busca els espais.*\n",
    "\n",
    "![[express2blancs.png]](express2blancs.png \"express2blancs\") \n",
    "\n",
    "    · **. - (DOT)** Altre caràcter que es torna especial es el . - (DOT). Significa qualsevol caràcter literal (però sol un). Dins d'una classe , el punt, és un literal. Excepte el salt de linea (a no ser que activis la opció single-line)\n",
    "    \n",
    "        *Agafa 3 caracters qualsevol*\n",
    "![[dotexemple1]](dotexemple1.png \"dotexemple1\") \n",
    "\n",
    "        *Amb el backslash interpreta un punt com a literal\n",
    "![[dotexemple2]](dotexemple2.png \"dotexemple2\") \n",
    "\n",
    "\n"
   ]
  },
  {
   "cell_type": "markdown",
   "metadata": {},
   "source": [
    "    · *Cuantificadors* Si s'escriu entre {} indica quantes repeticions hi ha del caràcter anterior.\n",
    "\n",
    "![[cuantificadorsexample1]](cuantificadorsexample1.png \"cuantificadorsexample1\")     \n",
    "\n",
    "\n",
    "    · {n,m} entre n i m repeticions. Per defecte és GREEDY(ambiciós). Intenta sempre agafar el màxim (consumeix el màxim de l'entrada).\n",
    "\n",
    "![[cuantificadorsexample2]](cuantificadorsexample2.png \"cuantificadorsexample2\")\n",
    "\n",
    "    · {n,} entre n i \"infinit\" repeticions. {,m} com a mínim 0 i màxim m.\n",
    "\n",
    "![[cuantificadorsexample3]](cuantificadorsexample3.png \"cuantificadorsexample3\")\n",
    "\n",
    "![[cuantificadorsexample4]](cuantificadorsexample4.png \"cuantificadorsexample4\")\n",
    "\n",
    "Tenen dos abreviacions comuns\n",
    "\n",
    "    - * = {0,} (asterisc)\n",
    "\n",
    "    - + = {1,} (plus) exigeix que almenys hi hagi 1\n",
    "\n",
    "![[cuantificadorsexample5]](cuantificadorsexample5.png \"cuantificadorsexample5\")\n"
   ]
  },
  {
   "cell_type": "markdown",
   "metadata": {},
   "source": [
    "    · *Anclas*  Son caràcters especials que no consumeixen entrada i serveixen per indicar una posició.\n",
    "\n",
    "        - ^ CARET : Inici de linea (text).\n",
    "\n",
    "        - $ DOLLAR : Fí de linea (text).\n",
    "\n",
    "    Un paràmetre controla si la llibreria treballa linea a linea o tot el text de cop.\n",
    "\n",
    "    Quant es treballa linea a linea, no es té en compte el salt de línea \"\\n\".\n",
    "\n",
    "Exemple 1    \n",
    "![[anchorexample2]](anchorexample2.png \"anchorexample2\")\n",
    "\n",
    "Exemple 2\n",
    "![[anchorexample1]](anchorsexample1.png \"anchorexample1\")\n",
    "\n",
    "Sí es treballa amb multiline, sol troba una ocurrencia"
   ]
  },
  {
   "cell_type": "markdown",
   "metadata": {},
   "source": [
    "· *Flags*  Paràmetres de la llibreria de regexps.\n",
    "\n",
    "    · ^, $ marca el principi/fi de la linea text (opció Multiline).\n",
    "    · . (dot) coincideix amb el \\n també (o no)."
   ]
  },
  {
   "cell_type": "markdown",
   "metadata": {},
   "source": [
    "· *Caràcters especials* \n",
    "    · Grups de captura: Agrupació de caràcters, s'escriu entre ()\n",
    "    Tenen la següent funcionalitat.\n",
    "    1. Capturar i després revisar una coincidència.\n",
    "    2. Grups de cuantificadors.\n",
    "    3. Unions de grups de caràcters\n",
    "             ( ab | cd) pipe dins d'un grup = OR\n",
    "\n",
    "    *Exemples*\n",
    "\n",
    "![[expressionsexample2]](expressionsexample2.png \"expressionsexample2\")\n",
    "\n",
    "![[especialscharacters]](especialscharacters.png \"especialscharacters\")\n",
    "\n",
    "\n",
    "![[especialscharactersexample3]](especialscharactersexample3.png \"especialscharactersexample3\")\n",
    "\n",
    "Trobar dos seqüències diferents de caràcters, seguides\n",
    "\n",
    "![[especialscharactersexample4]](especialscharactersexample4.png \"especialscharactersexample4\")\n",
    "\n",
    "Buscar una cadena amb una variació de lletra final (A o C)\n",
    "\n",
    "![[especialscharactersexample5]](especialscharactersexample5.png \"especialscharactersexample5\")\n"
   ]
  },
  {
   "cell_type": "markdown",
   "metadata": {},
   "source": [
    "## Programació expressió regulars amb Python\n",
    "\n",
    "Possible ajuda, a la documentació oficial [python regex](https://docs.python.org/3/library/re.html \"python regex\")"
   ]
  },
  {
   "cell_type": "code",
   "execution_count": 3,
   "metadata": {},
   "outputs": [
    {
     "data": {
      "text/plain": [
       "1"
      ]
     },
     "execution_count": 3,
     "metadata": {},
     "output_type": "execute_result"
    }
   ],
   "source": [
    "import re\n",
    "\n",
    "\n",
    "#sempre s'ha de definir 4 variables, que obligatoriament definir, per que\n",
    "#d'aquesta forma no ens equivocarem\n",
    "# txt , variable que té el texte que volem recorrer\n",
    "txt: str    =\"Hola a todossssss\"\n",
    "#reg la expressió regular (r es de raw-crudo)\n",
    "reg: str    =r\"s{2,}\"\n",
    "#pat per compilar, i serà el patro del tipus pattern\n",
    "pat: re.Pattern = re.compile(reg)\n",
    "\n",
    "# 1. Buscar el patrò, troba un iterador, que retorna un iterador sobre el texte.\n",
    "# matches\n",
    "matches: list[re.Match] = list(pat.finditer(txt))\n",
    "len(matches)\n"
   ]
  },
  {
   "cell_type": "code",
   "execution_count": 4,
   "metadata": {},
   "outputs": [
    {
     "data": {
      "text/plain": [
       "[<re.Match object; span=(11, 17), match='ssssss'>]"
      ]
     },
     "execution_count": 4,
     "metadata": {},
     "output_type": "execute_result"
    }
   ],
   "source": [
    "matches\n",
    "#retorna una llista, i t'indica a quina posició ho ha trobat i et mostra la cadena"
   ]
  },
  {
   "cell_type": "code",
   "execution_count": 5,
   "metadata": {},
   "outputs": [
    {
     "data": {
      "text/plain": [
       "(11, 17)"
      ]
     },
     "execution_count": 5,
     "metadata": {},
     "output_type": "execute_result"
    }
   ],
   "source": [
    "match0: re.Match = matches[0]\n",
    "match0.start() # retorna la 1a posició\n",
    "match0.end() #retorna la última\n",
    "match0.span() #(start,end)"
   ]
  },
  {
   "cell_type": "code",
   "execution_count": 7,
   "metadata": {},
   "outputs": [
    {
     "data": {
      "text/plain": [
       "'ssssss'"
      ]
     },
     "execution_count": 7,
     "metadata": {},
     "output_type": "execute_result"
    }
   ],
   "source": [
    "#retorna la coincidencia\n",
    "match0.group(0) #el grup 0 és tota la coincidència, sempre existeix, encara que \n",
    "#hi hagi grups"
   ]
  },
  {
   "cell_type": "code",
   "execution_count": 8,
   "metadata": {},
   "outputs": [
    {
     "data": {
      "text/plain": [
       "'Hola a todos'"
      ]
     },
     "execution_count": 8,
     "metadata": {},
     "output_type": "execute_result"
    }
   ],
   "source": [
    "# 2.substitucions\n",
    "new_txt: str = pat.sub(\"s\",txt)\n",
    "#substitueix les coincidencies per s, o sigui totes les s, per una.\n",
    "new_txt"
   ]
  },
  {
   "cell_type": "code",
   "execution_count": 15,
   "metadata": {},
   "outputs": [
    {
     "name": "stdout",
     "output_type": "stream",
     "text": [
      "Number of matches 1\n",
      "Number of groups 2\n",
      "('GATAGATCGATA', 'GATA')\n",
      "GATAGATCGATA\n",
      "GATAGATCGATA\n",
      "GATA\n"
     ]
    }
   ],
   "source": [
    "# txt , variable que té el texte que volem recorrer\n",
    "txt: str    =\"GATAGATCGATA\"\n",
    "reg: str    =r\"((GAT[AC]){1,})\"\n",
    "pat: re.Pattern = re.compile(reg)\n",
    "matches: list[re.Match] = list(pat.finditer(txt))\n",
    "print(\"Number of matches\", len(matches))\n",
    "\n",
    "match: re.Match\n",
    "for match in matches:\n",
    "    print(\"Number of groups\", len(match.groups()))\n",
    "    print(match.groups())\n",
    "    print(match.group(0))\n",
    "    print(match.group(1))\n",
    "    print(match.group(2))\n",
    "# Hi ha 2 parentesis, el primer el que el conte tot, i el segon grup el que conté \n",
    "#l'ultim gata.\n",
    "\n"
   ]
  },
  {
   "cell_type": "code",
   "execution_count": 35,
   "metadata": {},
   "outputs": [
    {
     "name": "stdout",
     "output_type": "stream",
     "text": [
      "Number of matches 3\n",
      "span 0 - (0, 4)  ->  GATA\n",
      "span 1 - (4, 8)  ->  GATA\n",
      "span 2 - (8, 12)  ->  GATA\n"
     ]
    }
   ],
   "source": [
    "# txt , variable que té el texte que volem recorrer\n",
    "txt: str    =\"GATAGATAGATA\"\n",
    "reg: str    =r\"GATA\"\n",
    "pat: re.Pattern = re.compile(reg) # re.IGNORECASE | re.MULTILINE | re.DOTALL\n",
    "pat: re.Pattern = re.compile(reg, re.IGNORECASE | re.MULTILINE | re.DOTALL)\n",
    "matches: list[re.Match] = list(pat.finditer(txt))\n",
    "print(\"Number of matches\", len(matches))\n",
    "\n",
    "match: re.Match\n",
    "for id, match in enumerate(matches):\n",
    "    print(f\"span {id} -\",  match.span(), \" -> \", match[0])\n",
    "    \n",
    "# Hi ha 2 parentesis, el primer el que el conte tot, i el segon grup el que conté \n",
    "# l'ultim gata."
   ]
  },
  {
   "cell_type": "markdown",
   "metadata": {},
   "source": [
    "#### Exercicis llegir els fitxers FASTA amb expressions regulars."
   ]
  }
 ],
 "metadata": {
  "interpreter": {
   "hash": "bc643f84d3d5c4e658b97d5c192bec8ce3a23956675c9ed565d10fd3128aa104"
  },
  "kernelspec": {
   "display_name": "Python 3.9.7 64-bit ('bio': conda)",
   "language": "python",
   "name": "python3"
  },
  "language_info": {
   "codemirror_mode": {
    "name": "ipython",
    "version": 3
   },
   "file_extension": ".py",
   "mimetype": "text/x-python",
   "name": "python",
   "nbconvert_exporter": "python",
   "pygments_lexer": "ipython3",
   "version": "3.9.7"
  },
  "orig_nbformat": 4
 },
 "nbformat": 4,
 "nbformat_minor": 2
}
