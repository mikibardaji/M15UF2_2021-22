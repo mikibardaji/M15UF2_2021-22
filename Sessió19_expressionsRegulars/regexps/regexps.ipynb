{
 "cells": [
  {
   "cell_type": "code",
   "execution_count": 18,
   "metadata": {},
   "outputs": [
    {
     "data": {
      "text/plain": [
       "'Hola a todos.'"
      ]
     },
     "execution_count": 18,
     "metadata": {},
     "output_type": "execute_result"
    }
   ],
   "source": [
    "import re\n",
    "\n",
    "txt: str        = \"Hola a todosssss.\"\n",
    "reg: str        = r\"s{2,}\"\n",
    "pat: re.Pattern = re.compile(reg)\n",
    "\n",
    "# 1. Buscar el patrón\n",
    "matches: list[re.Match] = list(pat.finditer(txt))\n",
    "match0:  re.Match       = matches[0]\n",
    "\n",
    "match0.start()\n",
    "match0.end()\n",
    "match0.span()    # (start, end)\n",
    "match0.group(0)  # El grupo 0 es toda la coincidencia. Siempre existe aunque no haya creado grupos.\n",
    "\n",
    "# 2. Substituciones\n",
    "new_txt: str = pat.sub(\"s\", txt)\n",
    "new_txt\n"
   ]
  },
  {
   "cell_type": "code",
   "execution_count": 22,
   "metadata": {},
   "outputs": [
    {
     "name": "stdout",
     "output_type": "stream",
     "text": [
      "Number of matches: 1\n",
      "Number of groups: 2\n",
      "('GATAGATCGATA', 'GATA')\n",
      "GATAGATCGATA\n",
      "GATAGATCGATA\n",
      "GATA\n"
     ]
    }
   ],
   "source": [
    "import re\n",
    "\n",
    "txt: str        = \"GATAGATCGATA\"\n",
    "reg: str        = r\"((GAT[AC]){1,})\"\n",
    "pat: re.Pattern = re.compile(reg)\n",
    "\n",
    "# 1. Buscar patrón con grupos\n",
    "matches: list[re.Match] = list(pat.finditer(txt))\n",
    "print(\"Number of matches:\", len(matches))\n",
    "\n",
    "match: re.Match\n",
    "for match in matches:\n",
    "    print(\"Number of groups:\", len(match.groups()))\n",
    "    print(match.groups())\n",
    "    print(match.group(0))\n",
    "    print(match.group(1))\n",
    "    print(match.group(2))\n"
   ]
  },
  {
   "cell_type": "code",
   "execution_count": 27,
   "metadata": {},
   "outputs": [
    {
     "name": "stdout",
     "output_type": "stream",
     "text": [
      "Number of matches: 3\n",
      "Match 0: (0, 4) GATA\n",
      "Match 1: (4, 8) GATA\n",
      "Match 2: (8, 12) GATA\n"
     ]
    }
   ],
   "source": [
    "import re\n",
    "\n",
    "txt: str        = \"GATAGATAGATA\"\n",
    "reg: str        = r\"GATA\"\n",
    "pat: re.Pattern = re.compile(reg)\n",
    "pat: re.Pattern = re.compile(reg, re.IGNORECASE | re.MULTILINE | re.DOTALL)\n",
    "\n",
    "# 1. Buscar patrón con grupos\n",
    "matches: list[re.Match] = list(pat.finditer(txt))\n",
    "print(\"Number of matches:\", len(matches))\n",
    "\n",
    "match: re.Match\n",
    "for id, match in enumerate(matches):\n",
    "    print(f\"Match {id}:\", match.span(), match.group(0))\n"
   ]
  }
 ],
 "metadata": {
  "interpreter": {
   "hash": "bc643f84d3d5c4e658b97d5c192bec8ce3a23956675c9ed565d10fd3128aa104"
  },
  "kernelspec": {
   "display_name": "Python 3.9.7 ('bio')",
   "language": "python",
   "name": "python3"
  },
  "language_info": {
   "codemirror_mode": {
    "name": "ipython",
    "version": 3
   },
   "file_extension": ".py",
   "mimetype": "text/x-python",
   "name": "python",
   "nbconvert_exporter": "python",
   "pygments_lexer": "ipython3",
   "version": "3.9.7"
  },
  "orig_nbformat": 4
 },
 "nbformat": 4,
 "nbformat_minor": 2
}
